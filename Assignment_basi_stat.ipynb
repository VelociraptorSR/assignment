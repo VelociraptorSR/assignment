{
  "nbformat": 4,
  "nbformat_minor": 0,
  "metadata": {
    "colab": {
      "provenance": []
    },
    "kernelspec": {
      "name": "python3",
      "display_name": "Python 3"
    },
    "language_info": {
      "name": "python"
    }
  },
  "cells": [
    {
      "cell_type": "markdown",
      "source": [
        "1. What is statistics, and why is it important\n",
        "  - Statistics is the branch of mathematics that deals with collecting, organizing, analyzing, interpreting, and presenting data. It helps us understand and draw meaningful conclusions from data, make informed decisions, and identify patterns or trends.\n",
        "  - Importants:\n",
        "  - Governments, businesses, and researchers use statistics to make data-driven decisions (e.g., public policy, marketing strategies).\n",
        "  - Used to validate hypotheses, measure effects, and ensure reliable results in experiments.\n",
        "  - Industries apply statistical tools to maintain and improve product quality.\n",
        "  - Weather forecasts, stock market trends, and disease spread models use statistical analysis.\n",
        "  - Helps in interpreting raw data and converting it into meaningful insights.\n",
        "  - Used in insurance, finance, and engineering to calculate risks and uncertainties.\n"
      ],
      "metadata": {
        "id": "7bozcmEYdS1n"
      }
    },
    {
      "cell_type": "markdown",
      "source": [
        "2. What are the two main types of statistics\n",
        "  - Descriptive Statistics:\n",
        "  - Summarizes and describes the features of a dataset.\n",
        "  - Tools: Mean, median, mode, standard deviation, charts, graphs.\n",
        "  - Inferential Statistics:\n",
        "  - Makes predictions or inferences about a population based on a sample.\n",
        "  - Tools: Hypothesis testing, confidence intervals, regression, etc.\n",
        "\n",
        "\n"
      ],
      "metadata": {
        "id": "21_cb5Q2d-oi"
      }
    },
    {
      "cell_type": "markdown",
      "source": [
        "3. What are descriptive statistics\n",
        "  - Descriptive statistics are methods used to summarize and describe the main features of a dataset. They provide simple, quantitative summaries about a dataset without drawing conclusions beyond the data.\n",
        "\n"
      ],
      "metadata": {
        "id": "dKJUj-bGeVXl"
      }
    },
    {
      "cell_type": "markdown",
      "source": [
        "4. What is inferential statistics\n",
        "  - Inferential statistics is the branch of statistics that allows us to make conclusions or predictions about a larger population based on data collected from a sample."
      ],
      "metadata": {
        "id": "1L0X2e77enw2"
      }
    },
    {
      "cell_type": "markdown",
      "source": [
        "5. What is sampling in statistics\n",
        "  - Sampling in statistics is the process of selecting a subset (sample) from a larger group (population) to analyze and make conclusions about the entire group."
      ],
      "metadata": {
        "id": "hY6ec1J6e3Qg"
      }
    },
    {
      "cell_type": "markdown",
      "source": [
        "6. What are the different types of sampling methods\n",
        "  - There are two main categories of sampling methods in statistics:\n",
        "  - 1. Probability Sampling : In probability sampling, every member of the population has a known and non-zero chance of being selected. This allows for statistical inference.\n",
        "  - a. Simple Random Sampling : Every individual has an equal chance of being selected.\n",
        "  - b. Systematic Sampling : Select every kth element from a list, after choosing a random starting point.\n",
        "  - c. Stratified Sampling : Divide the population into subgroups (strata) based on characteristics (e.g., age, gender). Then randomly sample from each group.\n",
        "  - d. Cluster Sampling : Divide the population into clusters (usually based on location or groups). Randomly select entire clusters, and study everyone within them.\n",
        "  - 2. Non-Probability Sampling : In non-probability sampling, some members of the population have no chance of being selected. This can lead to bias and doesn't support strong statistical inference.\n",
        "  - a. Convenience Sampling : Selects individuals who are easiest to access.\n",
        "  - b. Judgmental (Purposive) Sampling : The researcher chooses the sample based on their judgment of who will be most useful.\n",
        "  - c. Quota Sampling : Like stratified sampling, but selection within each group is non-random.\n",
        "  - d. Snowball Sampling : Used for hard-to-reach populations. Existing participants refer others.\n",
        "  "
      ],
      "metadata": {
        "id": "5ybNhGMkfB5g"
      }
    },
    {
      "cell_type": "markdown",
      "source": [
        "7. What is the difference between random and non-random sampling\n",
        "  - Random Sampling : A sampling method where every member of the population has a known, non-zero, and usually equal chance of being selected.\n",
        "  - Selection is based on chance.\n",
        "  - Helps eliminate selection bias.\n",
        "  - Allows for statistical inference (generalizing results to the population).\n",
        "  - Sample is representative if done correctly.\n",
        "  - Non-Random Sampling : A sampling method where not all members of the population have a chance of being selected, and selection is often based on convenience or judgment.\n",
        "  - Selection is not based on chance.\n",
        "  - Prone to bias.\n",
        "  - Cannot reliably generalize to the population.\n",
        "  - Easier, faster, and cheaper—but less accurate."
      ],
      "metadata": {
        "id": "ro1gR3CCgydE"
      }
    },
    {
      "cell_type": "markdown",
      "source": [
        "8. Define and give examples of qualitative and quantitative data\n",
        "  - Qualitative Data : Qualitative data describes qualities or characteristics. It is non-numeric and represents categories or labels.\n",
        "  -  Examples: Colors: Red, Blue, Green\n",
        "  - Quantitative Data : Quantitative data is numerical and represents quantities or amounts that can be measured or counted.\n",
        "  - Examples: Age: 21, 34, 18"
      ],
      "metadata": {
        "id": "zj6kP-JnhqtC"
      }
    },
    {
      "cell_type": "markdown",
      "source": [
        "9. What are the different types of data in statistics\n",
        "  - 1. Qualitative Data\n",
        "  - Nominal Scale\n",
        "  - Ordinal Scale\n",
        "  - 2. Quantitative Data\n",
        "  - Interval Scale\n",
        "  - Ratio Scale"
      ],
      "metadata": {
        "id": "yGRwxM2fiQqm"
      }
    },
    {
      "cell_type": "markdown",
      "source": [
        "10. Explain nominal, ordinal, interval, and ratio levels of measurement\n",
        "  - Nominal Level : Data is classified into distinct categories with no natural order or ranking.\n",
        "  - Ordinal Level : Data is placed into ordered categories, but the intervals between ranks are not equal or known.\n",
        "  - Interval Level : Numeric data with equal intervals between values, but no true zero point.\n",
        "  - Ratio Level : Numeric data with equal intervals and a true, meaningful zero. This allows for all mathematical operations, including ratios."
      ],
      "metadata": {
        "id": "89U4hVKZizRI"
      }
    },
    {
      "cell_type": "markdown",
      "source": [
        "11. What is the measure of central tendency\n",
        "  - The measure of central tendency is a statistical value that identifies the center or typical value of a dataset. It gives a single summary number that represents the \"average\" or most common value in the data."
      ],
      "metadata": {
        "id": "HMaeNiCIjkL2"
      }
    },
    {
      "cell_type": "markdown",
      "source": [
        "12. Define mean, median, and mode\n",
        "  - Mean : The sum of all values divided by the number of values.\n",
        "  - Median : The middle value when data is arranged in order. If there's an even number of values, the median is the average of the two middle values.\n",
        "  - Mode : The value that occurs most frequently in the data.\n"
      ],
      "metadata": {
        "id": "u-PGfjdOlgHy"
      }
    },
    {
      "cell_type": "markdown",
      "source": [
        "13. What is the significance of the measure of central tendency\n",
        "  - Data simplification\tMakes - large datasets manageable\n",
        "  - Representation - Shows what is typical or average\n",
        "  - Comparison - Lets you compare between groups\n",
        "  - Analytical foundation - Basis for further statistical methods\n",
        "  - Decision-making support -\tInforms actions in real-world scenarios\n",
        "  - Insight into distribution -\tReveals skewness or outliers"
      ],
      "metadata": {
        "id": "_vs8E4t2l8a2"
      }
    },
    {
      "cell_type": "markdown",
      "source": [
        "14. What is variance, and how is it calculated\n",
        "  - Variance is a measure of how spread out the values in a dataset are. It tells you the average of the squared differences from the mean. Variance shows how much the data points deviate from the average (mean). A high variance means more spread out data, while a low variance means the data points are closer to the mean.\n",
        "  "
      ],
      "metadata": {
        "id": "qftSnjbrrArF"
      }
    },
    {
      "cell_type": "markdown",
      "source": [
        "15. What is standard deviation, and why is it important\n",
        "  - Standard deviation is a measure of how spread out the values in a dataset are around the mean.\n",
        "It is the square root of the variance and is expressed in the same units as the original data.\n",
        "  - Standard deviation tells you how much, on average, each data point differs from the mean."
      ],
      "metadata": {
        "id": "9Z_YWDT7riox"
      }
    },
    {
      "cell_type": "markdown",
      "source": [
        "16.  Define and explain the term range in statistics\n",
        "  - The range is a basic measure of dispersion (spread) in a dataset.\n",
        "It shows the difference between the highest and lowest values, indicating how spread out the data is.\n",
        "  - Range=Maximum value−Minimum value"
      ],
      "metadata": {
        "id": "p56-NFDZsFXM"
      }
    },
    {
      "cell_type": "markdown",
      "source": [
        "17. What is the difference between variance and standard deviation\n",
        "  - Variance :      \n",
        "  - Variance tells you the average squared distance from the mean.\n",
        "  - Less intuitive due to squaring\n",
        "  - Used mainly in intermediate steps of analysis\n",
        "  - Standard Deviation :    \n",
        "  - Standard deviation tells you the average actual distance from the mean (in original units).\n",
        "  - Easier to understand (real-world units)\n",
        "  - Preferred for reporting and comparison"
      ],
      "metadata": {
        "id": "gEuh_fAUsXPm"
      }
    },
    {
      "cell_type": "markdown",
      "source": [
        "18.  What is skewness in a dataset\n",
        "  - Skewness is a statistical measure that describes the asymmetry or lack of symmetry in a dataset’s distribution. In a perfectly symmetrical dataset, like a normal distribution, the left and right sides are mirror images.\n",
        "But in real-world data, distributions often lean more to one side — that’s skewness."
      ],
      "metadata": {
        "id": "fhj5ZnKtuNP7"
      }
    },
    {
      "cell_type": "markdown",
      "source": [
        "19. What does it mean if a dataset is positively or negatively skewed\n",
        "  - The tail of the distribution extends to the right (toward higher values).\n",
        "  - Most data values are clustered on the left (lower values).\n",
        "  - A few extremely high values pull the mean upward."
      ],
      "metadata": {
        "id": "MX7My3pJx0ui"
      }
    },
    {
      "cell_type": "markdown",
      "source": [
        "20. Define and explain kurtosis\n",
        "  - Kurtosis is a statistical measure that describes the \"tailedness\" or peakedness of a distribution.\n",
        "It tells you how much of the variance is due to extreme values (outliers) — i.e., how heavy or light the tails of the distribution are compared to a normal distribution."
      ],
      "metadata": {
        "id": "Ot4ZHE-byKNv"
      }
    },
    {
      "cell_type": "markdown",
      "source": [
        "21.  What is the purpose of covariance\n",
        "  - Covariance is a statistical measure that describes the relationship between two variables — specifically, whether they change together (vary jointly) and in what direction."
      ],
      "metadata": {
        "id": "lTn6cUTpyiW-"
      }
    },
    {
      "cell_type": "markdown",
      "source": [
        "22. What does correlation measure in statistics\n",
        "  - Correlation measures the strength and direction of a linear relationship between two quantitative variables.\n",
        "  - To quantify how strongly two variables are related.\n",
        "  - To identify whether an increase or decrease in one variable corresponds to an increase or decrease in another."
      ],
      "metadata": {
        "id": "ayPnD6EEyziH"
      }
    },
    {
      "cell_type": "markdown",
      "source": [
        "23. What is the difference between covariance and correlation\n",
        "  -  Covariance:\n",
        "  - Definition: Measures how two variables change together (whether they increase or decrease together).\n",
        "  - Value Range: Can be any number — positive, negative, or zero (no fixed range).\n",
        "  - Units: Has units — it's the product of the units of the two variables (e.g., cm·kg).\n",
        "  - Scale Sensitive: Affected by the scale of the variables. If you change units, the covariance also changes.\n",
        "  - Interpretation: Indicates only the direction of the relationship (positive or negative), but not the strength clearly.\n",
        "  - Usage: Common in intermediate calculations like in portfolio risk or PCA (Principal Component Analysis).\n",
        "  -  Correlation:\n",
        "  - Definition: Measures the strength and direction of the linear relationship between two variables.\n",
        "  - Value Range: Always lies between −1 and +1.\n",
        "  - Units: Unitless — it's a standardized value.\n",
        "  - Scale Independent: Not affected by the scale or units of the data.\n",
        "  - Interpretation: Easy to interpret. +1 means perfect positive correlation. −1 means perfect negative correlation. 0 means no linear relationship\n",
        "  - Usage: Widely used for comparing relationships across different datasets or variables."
      ],
      "metadata": {
        "id": "ppxjBkhBzJiR"
      }
    },
    {
      "cell_type": "markdown",
      "source": [
        "24. What are some real-world applications of statistics\n",
        "  - Business and Marketing\n",
        "  - Healthcare and Medicine\n",
        "  - Education\n",
        "  - Government and Public Policy\n",
        "  - Sports and Athletics\n",
        "  - Finance and Economics"
      ],
      "metadata": {
        "id": "-zUuyNYM0OyB"
      }
    },
    {
      "cell_type": "markdown",
      "source": [
        "1. How do you calculate the mean, median, and mode of a dataset"
      ],
      "metadata": {
        "id": "cYWp-Y5C13L7"
      }
    },
    {
      "cell_type": "code",
      "source": [
        "import statistics\n",
        "\n",
        "# Sample dataset\n",
        "data = [4, 7, 2, 9, 5, 7, 3]\n",
        "\n",
        "# Mean\n",
        "mean_value = statistics.mean(data)\n",
        "\n",
        "# Median\n",
        "median_value = statistics.median(data)\n",
        "\n",
        "# Mode\n",
        "mode_value = statistics.mode(data)\n",
        "\n",
        "# Display results\n",
        "print(\"Mean:\", mean_value)\n",
        "print(\"Median:\", median_value)\n",
        "print(\"Mode:\", mode_value)\n"
      ],
      "metadata": {
        "colab": {
          "base_uri": "https://localhost:8080/"
        },
        "id": "QM4VK57IAGrF",
        "outputId": "bd06793b-28d2-4699-ebb0-38530978673d"
      },
      "execution_count": null,
      "outputs": [
        {
          "output_type": "stream",
          "name": "stdout",
          "text": [
            "Mean: 5.285714285714286\n",
            "Median: 5\n",
            "Mode: 7\n"
          ]
        }
      ]
    },
    {
      "cell_type": "markdown",
      "source": [
        "2.  Write a Python program to compute the variance and standard deviation of a dataset"
      ],
      "metadata": {
        "id": "H4mWQ-rcAN4W"
      }
    },
    {
      "cell_type": "code",
      "source": [
        "import numpy as np\n",
        "\n",
        "data = [5, 7, 3, 9, 4, 8, 6]\n",
        "data_np = np.array(data)\n",
        "\n",
        "pop_variance = np.var(data_np)\n",
        "pop_std_dev = np.std(data_np)\n",
        "\n",
        "print(\"Population Variance:\", pop_variance)\n",
        "print(\"Population Standard Deviation:\", pop_std_dev)\n",
        "\n"
      ],
      "metadata": {
        "colab": {
          "base_uri": "https://localhost:8080/"
        },
        "id": "-U3H_YU9ATp-",
        "outputId": "6fece875-04db-4e24-eacd-3f704e383e12"
      },
      "execution_count": null,
      "outputs": [
        {
          "output_type": "stream",
          "name": "stdout",
          "text": [
            "Population Variance: 4.0\n",
            "Population Standard Deviation: 2.0\n"
          ]
        }
      ]
    },
    {
      "cell_type": "markdown",
      "source": [
        "3. Create a dataset and classify it into nominal, ordinal, interval, and ratio types"
      ],
      "metadata": {
        "id": "kgen55FHAqVh"
      }
    },
    {
      "cell_type": "code",
      "source": [
        "import pandas as pd\n",
        "\n",
        "data = {\n",
        "    \"Name\": [\"Alice\", \"Bob\", \"Charlie\", \"Diana\", \"Ethan\"],               # Nominal\n",
        "    \"Education_Level\": [\"High School\", \"Bachelor\", \"Master\", \"PhD\", \"Bachelor\"],  # Ordinal\n",
        "    \"Temperature_C\": [36.5, 37.0, 36.8, 37.5, 36.7],                     # Interval\n",
        "    \"Height_cm\": [165, 170, 180, 158, 175],                              # Ratio\n",
        "}\n",
        "\n",
        "# Create DataFrame\n",
        "df = pd.DataFrame(data)\n",
        "\n",
        "# Display dataset\n",
        "print(\"Dataset:\\n\")\n",
        "print(df)\n",
        "\n",
        "\n"
      ],
      "metadata": {
        "colab": {
          "base_uri": "https://localhost:8080/"
        },
        "id": "-65k8lZnAvpL",
        "outputId": "0a11b2f9-cdec-4ead-e49a-2e6ec9bde806"
      },
      "execution_count": null,
      "outputs": [
        {
          "output_type": "stream",
          "name": "stdout",
          "text": [
            "Dataset:\n",
            "\n",
            "      Name Education_Level  Temperature_C  Height_cm\n",
            "0    Alice     High School           36.5        165\n",
            "1      Bob        Bachelor           37.0        170\n",
            "2  Charlie          Master           36.8        180\n",
            "3    Diana             PhD           37.5        158\n",
            "4    Ethan        Bachelor           36.7        175\n"
          ]
        }
      ]
    },
    {
      "cell_type": "markdown",
      "source": [
        "4. Implement sampling techniques like random sampling and stratified sampling"
      ],
      "metadata": {
        "id": "dwW5TKfZBQSs"
      }
    },
    {
      "cell_type": "code",
      "source": [
        "import pandas as pd\n",
        "\n",
        "# Sample dataset\n",
        "data = {\n",
        "    'Name': ['Alice', 'Bob', 'Charlie', 'Diana', 'Ethan', 'Fiona', 'George', 'Hannah'],\n",
        "    'Age': [25, 32, 28, 45, 35, 23, 41, 29],\n",
        "    'Gender': ['F', 'M', 'M', 'F', 'M', 'F', 'M', 'F']\n",
        "}\n",
        "\n",
        "df = pd.DataFrame(data)\n",
        "\n",
        "# Randomly sample 4 rows\n",
        "random_sample = df.sample(n=4, random_state=42)\n",
        "\n",
        "print(\" Random Sampling Result:\\n\")\n",
        "print(random_sample)\n"
      ],
      "metadata": {
        "colab": {
          "base_uri": "https://localhost:8080/"
        },
        "id": "McJ1pukGBWgG",
        "outputId": "2cf9624e-3e47-45e5-9470-d7899fd16577"
      },
      "execution_count": null,
      "outputs": [
        {
          "output_type": "stream",
          "name": "stdout",
          "text": [
            " Random Sampling Result:\n",
            "\n",
            "     Name  Age Gender\n",
            "1     Bob   32      M\n",
            "5   Fiona   23      F\n",
            "0   Alice   25      F\n",
            "7  Hannah   29      F\n"
          ]
        }
      ]
    },
    {
      "cell_type": "code",
      "source": [
        "from sklearn.model_selection import train_test_split\n",
        "\n",
        "# Stratified sampling based on the 'Gender' column\n",
        "stratified_sample, _ = train_test_split(df,\n",
        "                                        test_size=0.5,\n",
        "                                        stratify=df['Gender'],\n",
        "                                        random_state=42)\n",
        "\n",
        "print(\"\\n Stratified Sampling Result (by Gender):\\n\")\n",
        "print(stratified_sample)\n"
      ],
      "metadata": {
        "colab": {
          "base_uri": "https://localhost:8080/"
        },
        "id": "Urmn8eYfCe9t",
        "outputId": "e5be5038-e3c7-467a-abf4-c9b5105932c4"
      },
      "execution_count": null,
      "outputs": [
        {
          "output_type": "stream",
          "name": "stdout",
          "text": [
            "\n",
            " Stratified Sampling Result (by Gender):\n",
            "\n",
            "      Name  Age Gender\n",
            "6   George   41      M\n",
            "3    Diana   45      F\n",
            "7   Hannah   29      F\n",
            "2  Charlie   28      M\n"
          ]
        }
      ]
    },
    {
      "cell_type": "markdown",
      "source": [
        "5. Write a Python function to calculate the range of a dataset"
      ],
      "metadata": {
        "id": "wipKFViHCyoX"
      }
    },
    {
      "cell_type": "code",
      "source": [
        "def calculate_range(data):\n",
        "    if not data:\n",
        "        return None\n",
        "\n",
        "    data_range = max(data) - min(data)\n",
        "    return data_range\n",
        "\n",
        "dataset = [12, 25, 7, 18, 30, 21]\n",
        "result = calculate_range(dataset)\n",
        "\n",
        "print(\"Range of the dataset:\", result)\n"
      ],
      "metadata": {
        "colab": {
          "base_uri": "https://localhost:8080/"
        },
        "id": "fM5AGIy3C3ZI",
        "outputId": "6971fc96-9812-41ee-fddb-f00cc6e140f7"
      },
      "execution_count": null,
      "outputs": [
        {
          "output_type": "stream",
          "name": "stdout",
          "text": [
            "Range of the dataset: 23\n"
          ]
        }
      ]
    },
    {
      "cell_type": "markdown",
      "source": [
        "6. Create a dataset and plot its histogram to visualize skewness"
      ],
      "metadata": {
        "id": "R9pJy-L9DFcJ"
      }
    },
    {
      "cell_type": "code",
      "source": [
        "import numpy as np\n",
        "import matplotlib.pyplot as plt\n",
        "from scipy.stats import skew\n",
        "\n",
        "data = np.random.exponential(scale=2.0, size=1000)\n",
        "\n",
        "skewness_value = skew(data)\n",
        "\n",
        "plt.figure(figsize=(8, 5))\n",
        "plt.hist(data, bins=30, color='skyblue', edgecolor='black')\n",
        "plt.title(f\"Histogram of Dataset\\nSkewness = {skewness_value:.2f}\")\n",
        "plt.xlabel(\"Value\")\n",
        "plt.ylabel(\"Frequency\")\n",
        "plt.grid(True)\n",
        "plt.show()\n"
      ],
      "metadata": {
        "colab": {
          "base_uri": "https://localhost:8080/",
          "height": 508
        },
        "id": "Tc8aizljDJRB",
        "outputId": "590022cb-688b-40a2-a978-4de8fdb974e6"
      },
      "execution_count": null,
      "outputs": [
        {
          "output_type": "display_data",
          "data": {
            "text/plain": [
              "<Figure size 800x500 with 1 Axes>"
            ],
            "image/png": "[encoded data removed]"
          },
          "metadata": {}
        }
      ]
    },
    {
      "cell_type": "markdown",
      "source": [
        "7. Calculate skewness and kurtosis of a dataset using Python libraries"
      ],
      "metadata": {
        "id": "0jBqjO6DDzTd"
      }
    },
    {
      "cell_type": "code",
      "source": [
        "import numpy as np\n",
        "import pandas as pd\n",
        "from scipy.stats import skew, kurtosis\n",
        "\n",
        "data = np.random.exponential(scale=2.0, size=1000)\n",
        "\n",
        "skewness_value = skew(data)\n",
        "\n",
        "kurtosis_value = kurtosis(data)  # This gives \"excess kurtosis\" by default\n",
        "\n",
        "# Print the results\n",
        "print(\"Skewness:\", skewness_value)\n",
        "print(\"Kurtosis (Excess):\", kurtosis_value)\n",
        "print(\"Kurtosis (Including normal baseline of 3):\", kurtosis_value + 3)\n"
      ],
      "metadata": {
        "colab": {
          "base_uri": "https://localhost:8080/"
        },
        "id": "Fu8TP0CLD3m1",
        "outputId": "7a2f5ef1-76ec-4828-a83a-9878e30383b3"
      },
      "execution_count": null,
      "outputs": [
        {
          "output_type": "stream",
          "name": "stdout",
          "text": [
            "Skewness: 1.8011651126131236\n",
            "Kurtosis (Excess): 4.378431111229329\n",
            "Kurtosis (Including normal baseline of 3): 7.378431111229329\n"
          ]
        }
      ]
    },
    {
      "cell_type": "markdown",
      "source": [
        " 8. Generate a dataset and demonstrate positive and negative skewness"
      ],
      "metadata": {
        "id": "EdhGDbnCEl8K"
      }
    },
    {
      "cell_type": "code",
      "source": [
        "import numpy as np\n",
        "import matplotlib.pyplot as plt\n",
        "from scipy.stats import skew\n",
        "\n",
        "# Set random seed for reproducibility\n",
        "np.random.seed(42)\n",
        "\n",
        "# Generate a positively skewed dataset (e.g., exponential)\n",
        "positive_skew = np.random.exponential(scale=2.0, size=1000)\n",
        "\n",
        "# Generate a negatively skewed dataset by reversing a positively skewed one\n",
        "negative_skew = -np.random.exponential(scale=2.0, size=1000)\n",
        "\n",
        "# Calculate skewness values\n",
        "skew_pos = skew(positive_skew)\n",
        "skew_neg = skew(negative_skew)\n",
        "\n",
        "# Plotting\n",
        "fig, axes = plt.subplots(1, 2, figsize=(12, 5))\n",
        "\n",
        "# Positive skew plot\n",
        "axes[0].hist(positive_skew, bins=30, color='lightcoral', edgecolor='black')\n",
        "axes[0].set_title(f\"Positive Skew (Skewness = {skew_pos:.2f})\")\n",
        "axes[0].set_xlabel(\"Value\")\n",
        "axes[0].set_ylabel(\"Frequency\")\n",
        "\n",
        "# Negative skew plot\n",
        "axes[1].hist(negative_skew, bins=30, color='skyblue', edgecolor='black')\n",
        "axes[1].set_title(f\"Negative Skew (Skewness = {skew_neg:.2f})\")\n",
        "axes[1].set_xlabel(\"Value\")\n",
        "axes[1].set_ylabel(\"Frequency\")\n",
        "\n",
        "plt.tight_layout()\n",
        "plt.show()\n"
      ],
      "metadata": {
        "colab": {
          "base_uri": "https://localhost:8080/",
          "height": 507
        },
        "id": "OfHBJNA8EqVL",
        "outputId": "c4903f3f-d094-47c8-dc69-6ee2a51d11f7"
      },
      "execution_count": null,
      "outputs": [
        {
          "output_type": "display_data",
          "data": {
            "text/plain": [
              "<Figure size 1200x500 with 2 Axes>"
            ],
            "image/png": "[encoded data removed]"
          },
          "metadata": {}
        }
      ]
    },
    {
      "cell_type": "markdown",
      "source": [
        "9. Write a Python script to calculate covariance between two datasets"
      ],
      "metadata": {
        "id": "BNmeamnGFnxy"
      }
    },
    {
      "cell_type": "code",
      "source": [
        "import numpy as np\n",
        "\n",
        "X = [2, 4, 6, 8, 10]\n",
        "Y = [1, 3, 5, 7, 9]\n",
        "\n",
        "x_array = np.array(X)\n",
        "y_array = np.array(Y)\n",
        "cov_matrix = np.cov(x_array, y_array)  # Returns a 2x2 covariance matrix\n",
        "cov_numpy = cov_matrix[0, 1]  # Covariance between X and Y\n",
        "\n",
        "print(\"NumPy Covariance:\", cov_numpy)\n"
      ],
      "metadata": {
        "colab": {
          "base_uri": "https://localhost:8080/"
        },
        "id": "12a12PNmFw2C",
        "outputId": "2bcaa47d-1ecf-4703-82c2-e1fbba6cb067"
      },
      "execution_count": null,
      "outputs": [
        {
          "output_type": "stream",
          "name": "stdout",
          "text": [
            "NumPy Covariance: 10.0\n"
          ]
        }
      ]
    },
    {
      "cell_type": "markdown",
      "source": [
        "10. Write a Python script to calculate the correlation coefficient between two datasets"
      ],
      "metadata": {
        "id": "b-ctm1naGZQ-"
      }
    },
    {
      "cell_type": "code",
      "source": [
        "import numpy as np\n",
        "import pandas as pd\n",
        "\n",
        "X = [2, 4, 6, 8, 10]\n",
        "Y = [1, 3, 5, 7, 9]\n",
        "\n",
        "np_corr = np.corrcoef(X, Y)[0, 1]  # Get correlation coefficient from the matrix\n",
        "\n",
        "print(\"NumPy Correlation Coefficient:\", np_corr)\n",
        "\n"
      ],
      "metadata": {
        "colab": {
          "base_uri": "https://localhost:8080/"
        },
        "id": "Kr5JPirPGdbn",
        "outputId": "f8d27c6e-a144-4e18-c468-ef74b9aeaa37"
      },
      "execution_count": null,
      "outputs": [
        {
          "output_type": "stream",
          "name": "stdout",
          "text": [
            "NumPy Correlation Coefficient: 0.9999999999999999\n"
          ]
        }
      ]
    },
    {
      "cell_type": "markdown",
      "source": [
        "11. Create a scatter plot to visualize the relationship between two variables"
      ],
      "metadata": {
        "id": "eVVR71_nHGNL"
      }
    },
    {
      "cell_type": "code",
      "source": [
        "import matplotlib.pyplot as plt\n",
        "\n",
        "\n",
        "study_hours = [2, 3, 4, 5, 6, 7, 8, 9]\n",
        "exam_scores = [50, 55, 60, 65, 70, 75, 80, 85]\n",
        "\n",
        "\n",
        "plt.figure(figsize=(8, 5))\n",
        "plt.scatter(study_hours, exam_scores, color='blue', edgecolor='black')\n",
        "plt.title(\"Scatter Plot: Study Hours vs Exam Scores\")\n",
        "plt.xlabel(\"Study Hours\")\n",
        "plt.ylabel(\"Exam Scores\")\n",
        "plt.grid(True)\n",
        "plt.show()\n"
      ],
      "metadata": {
        "colab": {
          "base_uri": "https://localhost:8080/",
          "height": 487
        },
        "id": "y7_ZlpR6HKz1",
        "outputId": "c6cb02fe-9904-4e83-8de7-e5e10acb346a"
      },
      "execution_count": null,
      "outputs": [
        {
          "output_type": "display_data",
          "data": {
            "text/plain": [
              "<Figure size 800x500 with 1 Axes>"
            ],
            "image/png": "[encoded data removed]"
          },
          "metadata": {}
        }
      ]
    },
    {
      "cell_type": "markdown",
      "source": [
        "12.  Implement and compare simple random sampling and systematic sampling"
      ],
      "metadata": {
        "id": "wH-swchfHX8k"
      }
    },
    {
      "cell_type": "code",
      "source": [
        "import pandas as pd\n",
        "import numpy as np\n",
        "\n",
        "data = pd.DataFrame({\n",
        "    'ID': range(1, 101),\n",
        "    'Value': np.random.randint(10, 100, size=100)  # Random values\n",
        "})\n",
        "\n",
        "\n",
        "def simple_random_sampling(df, sample_size):\n",
        "    return df.sample(n=sample_size, random_state=42)\n",
        "\n",
        "def systematic_sampling(df, sample_size):\n",
        "    step = len(df) // sample_size\n",
        "    indices = np.arange(0, len(df), step)\n",
        "    return df.iloc[indices[:sample_size]]\n",
        "\n",
        "srs_sample = simple_random_sampling(data, 10)\n",
        "sys_sample = systematic_sampling(data, 10)\n",
        "\n",
        "print(\"🎲 Simple Random Sampling:\\n\", srs_sample, \"\\n\")\n",
        "print(\"📏 Systematic Sampling:\\n\", sys_sample)\n"
      ],
      "metadata": {
        "colab": {
          "base_uri": "https://localhost:8080/"
        },
        "id": "YZzq832dHfcV",
        "outputId": "2fef754b-5948-49fc-fcca-b022a4cac764"
      },
      "execution_count": null,
      "outputs": [
        {
          "output_type": "stream",
          "name": "stdout",
          "text": [
            "🎲 Simple Random Sampling:\n",
            "     ID  Value\n",
            "83  84     83\n",
            "53  54     70\n",
            "70  71     95\n",
            "45  46     99\n",
            "44  45     96\n",
            "39  40     67\n",
            "22  23     16\n",
            "80  81     31\n",
            "10  11     79\n",
            "0    1     16 \n",
            "\n",
            "📏 Systematic Sampling:\n",
            "     ID  Value\n",
            "0    1     16\n",
            "10  11     79\n",
            "20  21     59\n",
            "30  31     24\n",
            "40  41     30\n",
            "50  51     98\n",
            "60  61     42\n",
            "70  71     95\n",
            "80  81     31\n",
            "90  91     49\n"
          ]
        }
      ]
    },
    {
      "cell_type": "markdown",
      "source": [
        "13.  Calculate the mean, median, and mode of grouped data"
      ],
      "metadata": {
        "id": "BafO9iQqLOhl"
      }
    },
    {
      "cell_type": "code",
      "source": [
        "import pandas as pd\n",
        "\n",
        "# Step 1: Define grouped data\n",
        "classes = ['0-10', '10-20', '20-30', '30-40', '40-50']\n",
        "frequencies = [5, 8, 15, 16, 6]\n",
        "\n",
        "# Step 2: Calculate class midpoints\n",
        "midpoints = [(int(i.split('-')[0]) + int(i.split('-')[1])) / 2 for i in classes]\n",
        "\n",
        "# Step 3: Create DataFrame\n",
        "df = pd.DataFrame({\n",
        "    'Class': classes,\n",
        "    'Frequency': frequencies,\n",
        "    'Midpoint': midpoints\n",
        "})\n",
        "\n",
        "# Step 4: Calculate Mean\n",
        "total_freq = sum(df['Frequency'])\n",
        "mean = sum(df['Frequency'] * df['Midpoint']) / total_freq\n",
        "\n",
        "# Step 5: Calculate Median\n",
        "# Cumulative frequency\n",
        "df['Cumulative Frequency'] = df['Frequency'].cumsum()\n",
        "N = total_freq\n",
        "N_by_2 = N / 2\n",
        "\n",
        "# Find median class\n",
        "for i, cum_freq in enumerate(df['Cumulative Frequency']):\n",
        "    if cum_freq >= N_by_2:\n",
        "        median_class_index = i\n",
        "        break\n",
        "\n",
        "L = int(df.loc[median_class_index, 'Class'].split('-')[0])   # Lower boundary of median class\n",
        "f = df.loc[median_class_index, 'Frequency']                   # Frequency of median class\n",
        "F = df['Cumulative Frequency'][median_class_index - 1] if median_class_index > 0 else 0\n",
        "h = int(df.loc[median_class_index, 'Class'].split('-')[1]) - int(df.loc[median_class_index, 'Class'].split('-')[0])  # Class width\n",
        "\n",
        "median = L + ((N_by_2 - F) / f) * h\n",
        "\n",
        "# Step 6: Calculate Mode\n",
        "modal_class_index = df['Frequency'].idxmax()\n",
        "L_mode = int(df.loc[modal_class_index, 'Class'].split('-')[0])\n",
        "f1 = df.loc[modal_class_index, 'Frequency']\n",
        "f0 = df.loc[modal_class_index - 1, 'Frequency'] if modal_class_index > 0 else 0\n",
        "f2 = df.loc[modal_class_index + 1, 'Frequency'] if modal_class_index < len(df) - 1 else 0\n",
        "h_mode = int(df.loc[modal_class_index, 'Class'].split('-')[1]) - int(df.loc[modal_class_index, 'Class'].split('-')[0])\n",
        "\n",
        "mode = L_mode + ((f1 - f0) / ((2 * f1) - f0 - f2)) * h_mode\n",
        "\n",
        "# Step 7: Display results\n",
        "print(\"Grouped Data:\\n\", df)\n",
        "print(f\"\\nMean: {mean:.2f}\")\n",
        "print(f\"Median: {median:.2f}\")\n",
        "print(f\"Mode: {mode:.2f}\")\n"
      ],
      "metadata": {
        "colab": {
          "base_uri": "https://localhost:8080/"
        },
        "id": "ZIgqjQjKLTeO",
        "outputId": "fcc7654f-960b-4006-b53a-69500380783b"
      },
      "execution_count": null,
      "outputs": [
        {
          "output_type": "stream",
          "name": "stdout",
          "text": [
            "Grouped Data:\n",
            "    Class  Frequency  Midpoint  Cumulative Frequency\n",
            "0   0-10          5       5.0                     5\n",
            "1  10-20          8      15.0                    13\n",
            "2  20-30         15      25.0                    28\n",
            "3  30-40         16      35.0                    44\n",
            "4  40-50          6      45.0                    50\n",
            "\n",
            "Mean: 27.00\n",
            "Median: 28.00\n",
            "Mode: 30.91\n"
          ]
        }
      ]
    },
    {
      "cell_type": "markdown",
      "source": [
        "14. Simulate data using Python and calculate its central tendency and dispersion"
      ],
      "metadata": {
        "id": "BPnmEi48OvQw"
      }
    },
    {
      "cell_type": "code",
      "source": [
        "import numpy as np\n",
        "import pandas as pd\n",
        "from scipy import stats\n",
        "\n",
        "data = np.random.normal(loc=70, scale=10, size=1000)  # mean=70, std=10\n",
        "\n",
        "scores = pd.Series(data)\n",
        "\n",
        "mean_val = scores.mean()\n",
        "median_val = scores.median()\n",
        "mode_val = stats.mode(scores, keepdims=True)[0][0]  # scipy returns mode in an array\n",
        "\n",
        "range_val = scores.max() - scores.min()\n",
        "variance_val = scores.var()\n",
        "std_dev_val = scores.std()\n",
        "\n",
        "print(\" Central Tendency:\")\n",
        "print(f\"Mean   = {mean_val:.2f}\")\n",
        "print(f\"Median = {median_val:.2f}\")\n",
        "print(f\"Mode   = {mode_val:.2f}\")\n",
        "\n",
        "print(\"\\n Dispersion:\")\n",
        "print(f\"Range            = {range_val:.2f}\")\n",
        "print(f\"Variance         = {variance_val:.2f}\")\n",
        "print(f\"Standard Deviation = {std_dev_val:.2f}\")\n"
      ],
      "metadata": {
        "colab": {
          "base_uri": "https://localhost:8080/"
        },
        "id": "jx9r5Eq6O1A_",
        "outputId": "84b5604b-4a38-4ec9-b921-cf50194bf8ba"
      },
      "execution_count": null,
      "outputs": [
        {
          "output_type": "stream",
          "name": "stdout",
          "text": [
            " Central Tendency:\n",
            "Mean   = 69.89\n",
            "Median = 69.74\n",
            "Mode   = 36.75\n",
            "\n",
            " Dispersion:\n",
            "Range            = 63.87\n",
            "Variance         = 99.34\n",
            "Standard Deviation = 9.97\n"
          ]
        }
      ]
    },
    {
      "cell_type": "markdown",
      "source": [
        "15. Use NumPy or pandas to summarize a dataset’s descriptive statistics"
      ],
      "metadata": {
        "id": "ngsaWe0zPids"
      }
    },
    {
      "cell_type": "code",
      "source": [
        "import pandas as pd\n",
        "\n",
        "data = {\n",
        "    'Age': [25, 30, 45, 22, 35, 42, 28],\n",
        "    'Salary': [50000, 60000, 80000, 45000, 70000, 75000, 52000]\n",
        "}\n",
        "\n",
        "df = pd.DataFrame(data)\n",
        "\n",
        "# Descriptive statistics\n",
        "summary = df.describe()\n",
        "print(summary)\n"
      ],
      "metadata": {
        "colab": {
          "base_uri": "https://localhost:8080/"
        },
        "id": "K2txCDE8WKaW",
        "outputId": "b1288d71-9cdc-4a17-8710-a3a98314ffe8"
      },
      "execution_count": 1,
      "outputs": [
        {
          "output_type": "stream",
          "name": "stdout",
          "text": [
            "             Age        Salary\n",
            "count   7.000000      7.000000\n",
            "mean   32.428571  61714.285714\n",
            "std     8.618916  13499.559076\n",
            "min    22.000000  45000.000000\n",
            "25%    26.500000  51000.000000\n",
            "50%    30.000000  60000.000000\n",
            "75%    38.500000  72500.000000\n",
            "max    45.000000  80000.000000\n"
          ]
        }
      ]
    },
    {
      "cell_type": "markdown",
      "source": [
        "16. Plot a boxplot to understand the spread and identify outliers"
      ],
      "metadata": {
        "id": "TtbkBIP6WN06"
      }
    },
    {
      "cell_type": "code",
      "source": [
        "import pandas as pd\n",
        "import matplotlib.pyplot as plt\n",
        "\n",
        "# Sample dataset\n",
        "data = {\n",
        "    'Age': [25, 30, 45, 22, 35, 42, 28, 55, 60, 23, 29, 27, 33],\n",
        "    'Salary': [50000, 60000, 80000, 45000, 70000, 75000, 52000, 100000, 120000, 46000, 51000, 49000, 62000]\n",
        "}\n",
        "\n",
        "df = pd.DataFrame(data)\n",
        "\n",
        "# Create a boxplot\n",
        "plt.figure(figsize=(10, 5))\n",
        "df.boxplot(column=['Age', 'Salary'])\n",
        "plt.title(\"Boxplot of Age and Salary\")\n",
        "plt.ylabel(\"Value\")\n",
        "plt.grid(True)\n",
        "plt.show()\n"
      ],
      "metadata": {
        "colab": {
          "base_uri": "https://localhost:8080/",
          "height": 468
        },
        "id": "S9Ex-4dOWUbn",
        "outputId": "d495c444-a667-4cce-afff-a3834bb1fbc8"
      },
      "execution_count": 2,
      "outputs": [
        {
          "output_type": "display_data",
          "data": {
            "text/plain": [
              "<Figure size 1000x500 with 1 Axes>"
            ],
            "image/png": "[encoded data removed]"
          },
          "metadata": {}
        }
      ]
    },
    {
      "cell_type": "markdown",
      "source": [
        "17. Calculate the interquartile range (IQR) of a dataset"
      ],
      "metadata": {
        "id": "VsF5QTtQWlFn"
      }
    },
    {
      "cell_type": "code",
      "source": [
        "import numpy as np\n",
        "\n",
        "# Sample dataset\n",
        "data = np.array([25, 30, 45, 22, 35, 42, 28, 55, 60, 23, 29, 27, 33])\n",
        "\n",
        "# Calculate IQR\n",
        "Q1 = np.percentile(data, 25)\n",
        "Q3 = np.percentile(data, 75)\n",
        "IQR = Q3 - Q1\n",
        "\n",
        "print(\"Q1 (25th percentile):\", Q1)\n",
        "print(\"Q3 (75th percentile):\", Q3)\n",
        "print(\"Interquartile Range (IQR):\", IQR)\n"
      ],
      "metadata": {
        "colab": {
          "base_uri": "https://localhost:8080/"
        },
        "id": "1EVGQ3gJWpiz",
        "outputId": "3fb64f45-7804-451c-eedf-c27afa9d4b96"
      },
      "execution_count": 3,
      "outputs": [
        {
          "output_type": "stream",
          "name": "stdout",
          "text": [
            "Q1 (25th percentile): 27.0\n",
            "Q3 (75th percentile): 42.0\n",
            "Interquartile Range (IQR): 15.0\n"
          ]
        }
      ]
    },
    {
      "cell_type": "markdown",
      "source": [
        "18. Implement Z-score normalization and explain its significance"
      ],
      "metadata": {
        "id": "yqWNtS2cW4ib"
      }
    },
    {
      "cell_type": "code",
      "source": [
        "import numpy as np\n",
        "import pandas as pd\n",
        "\n",
        "# Sample dataset\n",
        "data = [25, 30, 45, 22, 35, 42, 28, 55, 60, 23, 29, 27, 33]\n",
        "df = pd.DataFrame({'Value': data})\n",
        "\n",
        "# Z-score normalization using pandas\n",
        "df['Z_score'] = (df['Value'] - df['Value'].mean()) / df['Value'].std()\n",
        "\n",
        "print(df)\n"
      ],
      "metadata": {
        "colab": {
          "base_uri": "https://localhost:8080/"
        },
        "id": "Uw4979GNW9Jt",
        "outputId": "15b5e057-c470-41f6-9e9c-f0ed1c9454a3"
      },
      "execution_count": 4,
      "outputs": [
        {
          "output_type": "stream",
          "name": "stdout",
          "text": [
            "    Value   Z_score\n",
            "0      25 -0.818228\n",
            "1      30 -0.405942\n",
            "2      45  0.830913\n",
            "3      22 -1.065599\n",
            "4      35  0.006343\n",
            "5      42  0.583542\n",
            "6      28 -0.570856\n",
            "7      55  1.655484\n",
            "8      60  2.067769\n",
            "9      23 -0.983142\n",
            "10     29 -0.488399\n",
            "11     27 -0.653313\n",
            "12     33 -0.158571\n"
          ]
        }
      ]
    },
    {
      "cell_type": "markdown",
      "source": [
        "19. Compare two datasets using their standard deviations"
      ],
      "metadata": {
        "id": "TihXmcnmXRTi"
      }
    },
    {
      "cell_type": "code",
      "source": [
        "import numpy as np\n",
        "\n",
        "# Dataset A: tightly clustered\n",
        "data_A = [50, 52, 49, 51, 50, 48, 52]\n",
        "\n",
        "# Dataset B: more spread out\n",
        "data_B = [40, 60, 55, 30, 70, 65, 35]\n",
        "\n",
        "# Calculate standard deviation\n",
        "std_A = np.std(data_A, ddof=1)\n",
        "std_B = np.std(data_B, ddof=1)\n",
        "\n",
        "print(\"Standard Deviation of Dataset A:\", round(std_A, 2))\n",
        "print(\"Standard Deviation of Dataset B:\", round(std_B, 2))\n"
      ],
      "metadata": {
        "colab": {
          "base_uri": "https://localhost:8080/"
        },
        "id": "LAjUqQwpXgAi",
        "outputId": "5d0b8a9d-51fd-4b89-9c8e-f3368b7dd52a"
      },
      "execution_count": 5,
      "outputs": [
        {
          "output_type": "stream",
          "name": "stdout",
          "text": [
            "Standard Deviation of Dataset A: 1.5\n",
            "Standard Deviation of Dataset B: 15.66\n"
          ]
        }
      ]
    },
    {
      "cell_type": "markdown",
      "source": [
        "20. Write a Python program to visualize covariance using a heatmap"
      ],
      "metadata": {
        "id": "vc1LksrnXl4P"
      }
    },
    {
      "cell_type": "code",
      "source": [
        "import numpy as np\n",
        "import pandas as pd\n",
        "import seaborn as sns\n",
        "import matplotlib.pyplot as plt\n",
        "\n",
        "# Sample dataset\n",
        "data = {\n",
        "    'Age': [25, 30, 45, 22, 35, 42, 28],\n",
        "    'Salary': [50000, 60000, 80000, 45000, 70000, 75000, 52000],\n",
        "    'Experience': [2, 5, 20, 1, 10, 15, 3]\n",
        "}\n",
        "\n",
        "# Create DataFrame\n",
        "df = pd.DataFrame(data)\n",
        "\n",
        "# Compute covariance matrix\n",
        "cov_matrix = df.cov()\n",
        "\n",
        "# Plot covariance heatmap\n",
        "plt.figure(figsize=(8, 5))\n",
        "sns.heatmap(cov_matrix, annot=True, fmt=\".2f\", cmap=\"YlGnBu\", linewidths=0.5)\n",
        "plt.title(\"Covariance Heatmap\")\n",
        "plt.show()\n"
      ],
      "metadata": {
        "colab": {
          "base_uri": "https://localhost:8080/",
          "height": 607
        },
        "id": "-EF6Z4l8X3hv",
        "outputId": "213b176e-dbb0-49a5-9af7-c7d48231efa5"
      },
      "execution_count": 7,
      "outputs": [
        {
          "output_type": "stream",
          "name": "stdout",
          "text": [
            "   Age  Salary  Experience\n",
            "0   25   50000           2\n",
            "1   30   60000           5\n",
            "2   45   80000          20\n",
            "3   22   45000           1\n",
            "4   35   70000          10\n",
            "5   42   75000          15\n",
            "6   28   52000           3\n"
          ]
        },
        {
          "output_type": "display_data",
          "data": {
            "text/plain": [
              "<Figure size 800x500 with 2 Axes>"
            ],
            "image/png": "[encoded data removed]"
          },
          "metadata": {}
        }
      ]
    },
    {
      "cell_type": "markdown",
      "source": [
        "21.  Use seaborn to create a correlation matrix for a dataset"
      ],
      "metadata": {
        "id": "mnwrGNMKYEf2"
      }
    },
    {
      "cell_type": "code",
      "source": [
        "import pandas as pd\n",
        "import seaborn as sns\n",
        "import matplotlib.pyplot as plt\n",
        "\n",
        "# Sample dataset\n",
        "data = {\n",
        "    'Age': [25, 30, 45, 22, 35, 42, 28],\n",
        "    'Salary': [50000, 60000, 80000, 45000, 70000, 75000, 52000],\n",
        "    'Experience': [2, 5, 20, 1, 10, 15, 3]\n",
        "}\n",
        "\n",
        "# Create DataFrame\n",
        "df = pd.DataFrame(data)\n",
        "\n",
        "# Compute correlation matrix\n",
        "corr_matrix = df.corr()\n",
        "\n",
        "# Plot correlation heatmap\n",
        "plt.figure(figsize=(8, 5))\n",
        "sns.heatmap(corr_matrix, annot=True, fmt=\".2f\", cmap=\"coolwarm\", linewidths=0.5)\n",
        "plt.title(\"Correlation Matrix Heatmap\")\n",
        "plt.show()\n"
      ],
      "metadata": {
        "colab": {
          "base_uri": "https://localhost:8080/",
          "height": 468
        },
        "id": "1Z2mDNpRYJao",
        "outputId": "a786974a-7d4a-448b-ddfa-3db815ec55ea"
      },
      "execution_count": 8,
      "outputs": [
        {
          "output_type": "display_data",
          "data": {
            "text/plain": [
              "<Figure size 800x500 with 2 Axes>"
            ],
            "image/png": "[encoded data removed]"
          },
          "metadata": {}
        }
      ]
    },
    {
      "cell_type": "markdown",
      "source": [
        "22.  Generate a dataset and implement both variance and standard deviation computations"
      ],
      "metadata": {
        "id": "f_-DJ8qPYTqU"
      }
    },
    {
      "cell_type": "code",
      "source": [
        "import numpy as np\n",
        "import pandas as pd\n",
        "\n",
        "# Generate a random dataset of 15 numbers between 10 and 100\n",
        "np.random.seed(0)  # for reproducibility\n",
        "data = np.random.randint(10, 100, size=15)\n",
        "\n",
        "# Create a DataFrame\n",
        "df = pd.DataFrame({'Values': data})\n",
        "\n",
        "# Variance and Standard Deviation using pandas\n",
        "variance_pandas = df['Values'].var()      # Sample variance (ddof=1 by default)\n",
        "std_dev_pandas = df['Values'].std()       # Sample standard deviation\n",
        "\n",
        "# Print results\n",
        "print(\"Dataset:\", data)\n",
        "print(\"\\nUsing pandas:\")\n",
        "print(\"Variance:\", round(variance_pandas, 2))\n",
        "print(\"Standard Deviation:\", round(std_dev_pandas, 2))\n",
        "\n"
      ],
      "metadata": {
        "colab": {
          "base_uri": "https://localhost:8080/"
        },
        "id": "mAMyjcA1YYgW",
        "outputId": "f60fa65f-1003-46bb-ee0a-2589c6687510"
      },
      "execution_count": 11,
      "outputs": [
        {
          "output_type": "stream",
          "name": "stdout",
          "text": [
            "    Values\n",
            "0       54\n",
            "1       57\n",
            "2       74\n",
            "3       77\n",
            "4       77\n",
            "5       19\n",
            "6       93\n",
            "7       31\n",
            "8       46\n",
            "9       97\n",
            "10      80\n",
            "11      98\n",
            "12      98\n",
            "13      22\n",
            "14      68\n",
            "Dataset: [54 57 74 77 77 19 93 31 46 97 80 98 98 22 68]\n",
            "\n",
            "Using pandas:\n",
            "Variance: 731.35\n",
            "Standard Deviation: 27.04\n"
          ]
        }
      ]
    },
    {
      "cell_type": "markdown",
      "source": [
        "23. Visualize skewness and kurtosis using Python libraries like matplotlib or seaborn"
      ],
      "metadata": {
        "id": "1BuV1_stY1-4"
      }
    },
    {
      "cell_type": "code",
      "source": [
        "import numpy as np\n",
        "import pandas as pd\n",
        "import seaborn as sns\n",
        "import matplotlib.pyplot as plt\n",
        "from scipy.stats import skew, kurtosis\n",
        "\n",
        "# Generate a synthetic dataset (positively skewed)\n",
        "np.random.seed(0)\n",
        "data = np.random.exponential(scale=2, size=1000)\n",
        "\n",
        "# Convert to DataFrame\n",
        "df = pd.DataFrame({'Values': data})\n",
        "\n",
        "# Calculate skewness and kurtosis\n",
        "data_skewness = skew(df['Values'])\n",
        "data_kurtosis = kurtosis(df['Values'])  # Excess kurtosis (normal distribution = 0)\n",
        "\n",
        "print(f\"Skewness: {data_skewness:.2f}\")\n",
        "print(f\"Kurtosis (Excess): {data_kurtosis:.2f}\")\n",
        "\n",
        "# Plot histogram with KDE\n",
        "plt.figure(figsize=(10, 6))\n",
        "sns.histplot(df['Values'], bins=30, kde=True, color='skyblue')\n",
        "plt.title(f\"Histogram with KDE\\nSkewness: {data_skewness:.2f} | Kurtosis: {data_kurtosis:.2f}\")\n",
        "plt.xlabel(\"Values\")\n",
        "plt.ylabel(\"Frequency\")\n",
        "plt.grid(True)\n",
        "plt.show()\n"
      ],
      "metadata": {
        "colab": {
          "base_uri": "https://localhost:8080/",
          "height": 620
        },
        "id": "HcJrVzzPY61_",
        "outputId": "beade52f-338c-4d61-8797-09d5d9b0216f"
      },
      "execution_count": 10,
      "outputs": [
        {
          "output_type": "stream",
          "name": "stdout",
          "text": [
            "Skewness: 2.05\n",
            "Kurtosis (Excess): 6.48\n"
          ]
        },
        {
          "output_type": "display_data",
          "data": {
            "text/plain": [
              "<Figure size 1000x600 with 1 Axes>"
            ],
            "image/png": "[encoded data removed]"
          },
          "metadata": {}
        }
      ]
    },
    {
      "cell_type": "markdown",
      "source": [
        "24. Implement the Pearson and Spearman correlation coefficients for a dataset"
      ],
      "metadata": {
        "id": "flz-TKVwZgVX"
      }
    },
    {
      "cell_type": "code",
      "source": [
        "import pandas as pd\n",
        "from scipy.stats import pearsonr, spearmanr\n",
        "\n",
        "# Sample dataset\n",
        "data = {\n",
        "    'Study_Hours': [1, 2, 3, 4, 5, 6, 7],\n",
        "    'Scores':      [35, 50, 55, 65, 70, 75, 85]\n",
        "}\n",
        "\n",
        "df = pd.DataFrame(data)\n",
        "\n",
        "# Pearson Correlation\n",
        "pearson_corr, _ = pearsonr(df['Study_Hours'], df['Scores'])\n",
        "\n",
        "# Spearman Correlation\n",
        "spearman_corr, _ = spearmanr(df['Study_Hours'], df['Scores'])\n",
        "\n",
        "# Output\n",
        "print(f\"Pearson Correlation Coefficient: {pearson_corr:.3f}\")\n",
        "print(f\"Spearman Correlation Coefficient: {spearman_corr:.3f}\")\n"
      ],
      "metadata": {
        "colab": {
          "base_uri": "https://localhost:8080/"
        },
        "id": "Q6JV4ISzZitO",
        "outputId": "018f7cda-72e4-4ab2-d007-99f92b5bac11"
      },
      "execution_count": 12,
      "outputs": [
        {
          "output_type": "stream",
          "name": "stdout",
          "text": [
            "Pearson Correlation Coefficient: 0.988\n",
            "Spearman Correlation Coefficient: 1.000\n"
          ]
        }
      ]
    }
  ]
}
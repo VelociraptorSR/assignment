{
  "nbformat": 4,
  "nbformat_minor": 0,
  "metadata": {
    "colab": {
      "provenance": []
    },
    "kernelspec": {
      "name": "python3",
      "display_name": "Python 3"
    },
    "language_info": {
      "name": "python"
    }
  },
  "cells": [
    {
      "cell_type": "markdown",
      "source": [
        "1. What is Object-Oriented Programming (OOP)?\n",
        "  - Object-Oriented Programming (OOP) is a programming paradigm based on the concept of \"objects\", which are instances of classes. These objects can contain data (fields or attributes) and code (methods or functions). OOP is designed to model real-world entities and relationships to make software more modular, reusable, and maintainable."
      ],
      "metadata": {
        "id": "aUDE6peh2sLW"
      }
    },
    {
      "cell_type": "markdown",
      "source": [
        "2.  What is a class in OOP?\n",
        "  - In Object-Oriented Programming (OOP), a class is a blueprint or template for creating objects. It defines the structure and behavior that the created objects (called instances) will have. Class contains attribute and methods."
      ],
      "metadata": {
        "id": "-Nr6w8l84CUX"
      }
    },
    {
      "cell_type": "markdown",
      "source": [
        "3.  What is an object in OOP?\n",
        "  - In Object-Oriented Programming (OOP), an object is an instance of a class. It is a real, usable entity that has attribute and method."
      ],
      "metadata": {
        "id": "K5K0xzFX4kdY"
      }
    },
    {
      "cell_type": "markdown",
      "source": [
        "4. What is the difference between abstraction and encapsulation?\n",
        "  - Abstraction -> Abstraction means hiding the internal details and showing only the necessary features of an object.\n",
        "  - Encapsulation -> Encapsulation means bundling data (variables) and methods (functions) that operate on that data into a single unit (class), and restricting access to some parts of the object."
      ],
      "metadata": {
        "id": "updkkZzl5uLY"
      }
    },
    {
      "cell_type": "markdown",
      "source": [
        "5. What are dunder methods in Python?\n",
        "  - Dunder methods in Python are special methods that begin and end with double underscores like __init__, __str__, __len__, etc. They are also called magic methods and are used to customize the behavior of Python objects — especially how they behave with built-in functions and operators."
      ],
      "metadata": {
        "id": "NQLxR-9q6PbX"
      }
    },
    {
      "cell_type": "markdown",
      "source": [
        "6. Explain the concept of inheritance in OOP?\n",
        "  - nheritance is a core concept in Object-Oriented Programming (OOP) that allows one class (child class) to inherit properties and behaviors (attributes and methods) from another class (parent class)."
      ],
      "metadata": {
        "id": "8jf5VKPt6w2O"
      }
    },
    {
      "cell_type": "markdown",
      "source": [
        "7. What is polymorphism in OOP?\n",
        "  - Polymorphism in Object-Oriented Programming (OOP) means \"many forms\" — it allows objects of different classes to be treated as if they are of the same class through a common interface, while behaving differently based on their actual class."
      ],
      "metadata": {
        "id": "pI-QxRid7AW1"
      }
    },
    {
      "cell_type": "markdown",
      "source": [
        "8. How is encapsulation achieved in Python?\n",
        "  - In Python, encapsulation is achieved by restricting access to variables and methods using naming conventions and by bundling data and behavior into a class. Python does not enforce strict access control like some other languages (e.g., Java), but it provides conventions and mechanisms to simulate it."
      ],
      "metadata": {
        "id": "GLZx3tE77nyW"
      }
    },
    {
      "cell_type": "markdown",
      "source": [
        "9. What is a constructor in Python?\n",
        "  - A constructor in Python is a special method used to initialize newly created objects. It's automatically called when an object is created from a class. In Python, the constructor is defined using the __init__ method."
      ],
      "metadata": {
        "id": "JBkd5ZCR7-b7"
      }
    },
    {
      "cell_type": "markdown",
      "source": [
        "10. What are class and static methods in Python?\n",
        "  - Class Methods ->A class method is a method that is bound to the class and not the instance. It can modify the class state (i.e., class variables), but not the instance state.\n",
        "  - Static Methods ->A static method is a method that doesn't depend on the class or instance. It doesn't modify or access class or instance variables. Static methods are used when you want to perform an operation that is related to the class, but doesn't need to access or modify its state."
      ],
      "metadata": {
        "id": "1jNvIEku8RKs"
      }
    },
    {
      "cell_type": "markdown",
      "source": [
        "11. What is method overloading in Python?\n",
        "  - Method overloading means defining multiple methods with the same name but different arguments (number or type). It's common in languages like Java or C++, but Python does not support traditional method overloading directly."
      ],
      "metadata": {
        "id": "LPlUCDQ59Jnk"
      }
    },
    {
      "cell_type": "markdown",
      "source": [
        "12. What is method overriding in OOP?\n",
        "  - Method overriding is a core concept in Object-Oriented Programming (OOP) where a child class provides a specific implementation of a method that is already defined in its parent class. This allows the child class to customize or completely change the behavior of the inherited method."
      ],
      "metadata": {
        "id": "QfH6xIf0MU85"
      }
    },
    {
      "cell_type": "markdown",
      "source": [
        "13.  What is a property decorator in Python?\n",
        "  - The @property decorator in Python is used to turn a method into a \"read-only\" attribute that is, it allows you to access a method like an attribute while still having the logic of a function."
      ],
      "metadata": {
        "id": "QPrSrlPZMvOr"
      }
    },
    {
      "cell_type": "markdown",
      "source": [
        "14. Why is polymorphism important in OOP?\n",
        "  - Same method or function can be reused for many types\n",
        "  - Objects can be swapped or extended easily\n",
        "  - Less code duplication and easier to update\n",
        "  - Classes follow the same interface, enhancing clarity"
      ],
      "metadata": {
        "id": "tI_CHsX2NruN"
      }
    },
    {
      "cell_type": "markdown",
      "source": [
        "15. What is an abstract class in Python?\n",
        "  - An abstract class in Python is a class that cannot be instantiated directly and is designed to be a base class for other classes. It can define methods that must be implemented by any subclass making it ideal for defining a common interface or blueprint. Python supports abstract classes through the abc module (Abstract Base Classes)."
      ],
      "metadata": {
        "id": "v13aTnRfOXtZ"
      }
    },
    {
      "cell_type": "markdown",
      "source": [
        "16. What are the advantages of OOP?\n",
        "  -\tCode is broken into manageable pieces\n",
        "  -\tInheritance enables code reuse\n",
        "  -\tProtects and controls access to data\n",
        "  -\tHides unnecessary implementation details\n",
        "  -\tEnables flexible and dynamic behavior\n",
        "  -\tEasier to test and modify code\n",
        "  -\tModels real entities more naturally"
      ],
      "metadata": {
        "id": "rHi9VJ5RRIE1"
      }
    },
    {
      "cell_type": "markdown",
      "source": [
        "17. What is the difference between a class variable and an instance variable?\n",
        "  - Instance Variable ->\n",
        "  - Belong to Individual object\n",
        "  - Defined using\tself.variable_name\n",
        "  - Memory allocation\tSeparate for each object\n",
        "  - Modified by\tOne object only\n",
        "  - Class variable ->\n",
        "  - Belongs to\tEntire class\n",
        "  - Defined\tDirectly in class body\n",
        "  -\tSingle copy shared by all objects\n",
        "  - Modified Affects all objects (unless shadowed)"
      ],
      "metadata": {
        "id": "CWLlMdDfRz8U"
      }
    },
    {
      "cell_type": "markdown",
      "source": [
        "18.  What is multiple inheritance in Python?\n",
        "  - Multiple inheritance is a feature in Python where a class can inherit from more than one parent class. This allows the child class to access attributes and methods from multiple sources, combining their functionality."
      ],
      "metadata": {
        "id": "EhlokyU0T06z"
      }
    },
    {
      "cell_type": "markdown",
      "source": [
        "19. Explain the purpose of '__str__' and '__repr__' methods in Python\n",
        "  -  __repr__() ->\n",
        "  - Goal: Unambiguous, debugging-oriented string.\n",
        "  - Called by: repr(object) or just typing the object in the Python shell.\n",
        "  - Should return a valid Python expression that could recreate the object if possible.\n",
        "  - __str__() ->\n",
        "  - Goal: Readable and informal string for display.\n",
        "  - Called by: print(object) or str(object)\n",
        "  - Should return a string that’s easy to read for end users."
      ],
      "metadata": {
        "id": "NAyKJz5EUOLl"
      }
    },
    {
      "cell_type": "markdown",
      "source": [
        "20. What is the significance of the 'super()' function in Python?\n",
        "  - The super() function in Python is used to call a method from a parent class (superclass) from within a child class."
      ],
      "metadata": {
        "id": "gL5hWvqNVnk8"
      }
    },
    {
      "cell_type": "markdown",
      "source": [
        "21.  What is the significance of the __del__ method in Python?\n",
        "  - The __del__() method in Python is a special method known as a destructor. It is automatically called when an object is about to be destroyed, typically when it goes out of scope or is deleted using del."
      ],
      "metadata": {
        "id": "8dkyOmBMWP76"
      }
    },
    {
      "cell_type": "markdown",
      "source": [
        "22. What is the difference between @staticmethod and @classmethod in Python?\n",
        "  - @staticmethod ->\n",
        "  - Does not receive self or cls as the first argument.\n",
        "  - Can't access or modify instance or class-level attributes.\n",
        "  - Used for utility/helper functions that belong to the class in concept, but don’t need object or class data.\n",
        "  - @classmethod ->\n",
        "  - Receives cls (the class itself) as the first argument.\n",
        "  - Can access and modify class-level data (shared across all instances).\n",
        "  - Useful for factory methods that create objects in different ways."
      ],
      "metadata": {
        "id": "BJkH-NtfcVwu"
      }
    },
    {
      "cell_type": "markdown",
      "source": [
        "23.  How does polymorphism work in Python with inheritance?\n",
        "  - Polymorphism allows different classes to be treated as if they were the same type, because they share a common interface or base class. In Python, this works seamlessly with inheritance through method overriding.A child class can override a method from its parent, and we can call that method on any object without knowing its exact class."
      ],
      "metadata": {
        "id": "N8idK_LfdJGL"
      }
    },
    {
      "cell_type": "markdown",
      "source": [
        "24. What is method chaining in Python OOP?\n",
        "  - Method chaining in Python is a programming technique where you call multiple methods on the same object in a single line, one after another. Each method returns the object itself (self), allowing the next method to be called directly."
      ],
      "metadata": {
        "id": "tln64zW3eHLv"
      }
    },
    {
      "cell_type": "markdown",
      "source": [
        "25.  What is the purpose of the __call__ method in Python?\n",
        "  - The __call__() method in Python makes an object behave like a function. When you define __call__ in a class, you can call its instances using parentheses, just like calling a regular function."
      ],
      "metadata": {
        "id": "Aq7BH4c9hCvO"
      }
    },
    {
      "cell_type": "markdown",
      "source": [
        "1. Create a parent class Animal with a method speak() that prints a generic message. Create a child class Dog\n",
        "that overrides the speak() method to print \"Bark!\""
      ],
      "metadata": {
        "id": "zGkMH28aiv0R"
      }
    },
    {
      "cell_type": "code",
      "source": [
        "class Animal:\n",
        "  def speak(self):\n",
        "    print(\"every animal have different sound\")\n",
        "\n",
        "class Dog(Animal):\n",
        "  def speak(self):\n",
        "    print(\"bark!\")\n",
        "a = Animal()\n",
        "a.speak()\n",
        "\n",
        "d = Dog()\n",
        "d.speak()"
      ],
      "metadata": {
        "colab": {
          "base_uri": "https://localhost:8080/"
        },
        "id": "-ClUidkYUBJb",
        "outputId": "d93a8cc9-334f-4c35-c71f-ae192065a0f9"
      },
      "execution_count": null,
      "outputs": [
        {
          "output_type": "stream",
          "name": "stdout",
          "text": [
            "every animal have different sound\n",
            "bark!\n"
          ]
        }
      ]
    },
    {
      "cell_type": "markdown",
      "source": [
        "2. Write a program to create an abstract class Shape with a method area(). Derive classes Circle and Rectangle\n",
        "from it and implement the area() method in both."
      ],
      "metadata": {
        "id": "R5WgE4aAXF8J"
      }
    },
    {
      "cell_type": "code",
      "source": [
        "from abc import ABC\n",
        "\n",
        "class Shape(ABC):\n",
        "\n",
        "  def area(self):\n",
        "    pass\n",
        "\n",
        "class Circle(Shape):\n",
        "  def __init__(self,radius):\n",
        "    self.radius = radius\n",
        "\n",
        "  def area(self):\n",
        "    return 3.14*self.radius*self.radius\n",
        "\n",
        "class Rect(Shape):\n",
        "  def __init__(self,len,width):\n",
        "    self.len = len\n",
        "    self.width = width\n",
        "\n",
        "  def area(self):\n",
        "    return self.len*self.width\n",
        "\n",
        "c = Circle(5)\n",
        "print(c.area())\n",
        "\n",
        "r = Rect(3,4)\n",
        "print(r.area())\n",
        "\n"
      ],
      "metadata": {
        "colab": {
          "base_uri": "https://localhost:8080/"
        },
        "id": "0yh-uWSlXHaU",
        "outputId": "d65ed6fd-f326-4617-8be3-0d748eef28c0"
      },
      "execution_count": null,
      "outputs": [
        {
          "output_type": "stream",
          "name": "stdout",
          "text": [
            "78.5\n",
            "12\n"
          ]
        }
      ]
    },
    {
      "cell_type": "markdown",
      "source": [
        "3.  Implement a multi-level inheritance scenario where a class Vehicle has an attribute type. Derive a class Car\n",
        "and further derive a class ElectricCar that adds a battery attribute"
      ],
      "metadata": {
        "id": "auxAjGZ7Yzpq"
      }
    },
    {
      "cell_type": "code",
      "source": [
        "\n",
        "class Vehicle:\n",
        "    def __init__(self, vehicle_type):\n",
        "        self.type = vehicle_type\n",
        "\n",
        "    def display_type(self):\n",
        "        print(f\"Vehicle type: {self.type}\")\n",
        "\n",
        "\n",
        "class Car(Vehicle):\n",
        "    def __init__(self, vehicle_type, brand):\n",
        "        super().__init__(vehicle_type)\n",
        "        self.brand = brand\n",
        "\n",
        "    def display_brand(self):\n",
        "        print(f\"Car brand: {self.brand}\")\n",
        "\n",
        "\n",
        "class ElectricCar(Car):\n",
        "    def __init__(self, vehicle_type, brand, battery_capacity):\n",
        "        super().__init__(vehicle_type, brand)\n",
        "        self.battery = battery_capacity\n",
        "\n",
        "    def display_battery(self):\n",
        "        print(f\"Battery capacity: {self.battery} kWh\")\n",
        "\n",
        "\n",
        "tesla = ElectricCar(\"Electric\", \"Tesla\", 75)\n",
        "tesla.display_type()\n",
        "tesla.display_brand()\n",
        "tesla.display_battery()\n",
        "\n"
      ],
      "metadata": {
        "colab": {
          "base_uri": "https://localhost:8080/"
        },
        "id": "vFZb6zwUY1SW",
        "outputId": "b8dec9d1-2327-46f1-bd7a-1208fd99c70d"
      },
      "execution_count": null,
      "outputs": [
        {
          "output_type": "stream",
          "name": "stdout",
          "text": [
            "Vehicle type: Electric\n",
            "Car brand: Tesla\n",
            "Battery capacity: 75 kWh\n"
          ]
        }
      ]
    },
    {
      "cell_type": "markdown",
      "source": [
        "4.  Demonstrate polymorphism by creating a base class Bird with a method fly(). Create two derived classes\n",
        "Sparrow and Penguin that override the fly() method"
      ],
      "metadata": {
        "id": "VtwU9XUGggmb"
      }
    },
    {
      "cell_type": "code",
      "source": [
        "class Bird:\n",
        "  def fly(self):\n",
        "    print('birds can fly')\n",
        "\n",
        "class Sparrow(Bird):\n",
        "  def fyl(self):\n",
        "    print('Sparrow can fly')\n",
        "\n",
        "class Penguin(Bird):\n",
        "  def fly(self):\n",
        "    print('Penguin cannot fly')\n",
        "b = Bird()\n",
        "b.fly()\n",
        "\n",
        "s = Sparrow()\n",
        "s.fly()\n",
        "\n",
        "p = Penguin()\n",
        "p.fly()\n"
      ],
      "metadata": {
        "colab": {
          "base_uri": "https://localhost:8080/"
        },
        "id": "oacgKhZzgix7",
        "outputId": "13f4efe8-5104-43b3-b460-2da4044a1a00"
      },
      "execution_count": null,
      "outputs": [
        {
          "output_type": "stream",
          "name": "stdout",
          "text": [
            "birds can fly\n",
            "birds can fly\n",
            "Penguin cannot fly\n"
          ]
        }
      ]
    },
    {
      "cell_type": "markdown",
      "source": [
        "5.  Write a program to demonstrate encapsulation by creating a class BankAccount with private attributes\n",
        "balance and methods to deposit, withdraw, and check balance."
      ],
      "metadata": {
        "id": "yB-0nr4cie4l"
      }
    },
    {
      "cell_type": "code",
      "source": [
        "class BankAccount:\n",
        "  def __init__(self,acc_num,balance):\n",
        "    self.__balance = balance\n",
        "    self.__acc_num = acc_num\n",
        "\n",
        "\n",
        "\n",
        "  def deposite(self,acc,new_bal):\n",
        "    if acc == self.__acc_num:\n",
        "      self.__balance += new_bal\n",
        "      print('Amount deposited')\n",
        "    else:\n",
        "      print('enter correct account number')\n",
        "\n",
        "\n",
        "  def withdraw(self,acc,new_bal):\n",
        "    if acc == self.__acc_num:\n",
        "      if self.__balance > new_bal:\n",
        "        self.__balance -= new_bal\n",
        "        print('Amount withdraw')\n",
        "      else:\n",
        "        print('not sufficient balance')\n",
        "    else:\n",
        "      print('enter correct account number')\n",
        "\n",
        "\n",
        "  def check_bal(self,acc):\n",
        "    if acc == self.__acc_num:\n",
        "      print(f'Bank Balance is {self.__balance}')\n",
        "\n",
        "\n",
        "b = BankAccount(1234,10000)\n",
        "b.deposite(1234,5000)\n",
        "b.check_bal(1234)\n",
        "b.withdraw(1234,2000)\n",
        "b.check_bal(1234)\n",
        "\n",
        "\n"
      ],
      "metadata": {
        "colab": {
          "base_uri": "https://localhost:8080/"
        },
        "id": "mvynWPLUiirR",
        "outputId": "d1aa4e97-7be9-48df-9788-37a46b20507e"
      },
      "execution_count": null,
      "outputs": [
        {
          "output_type": "stream",
          "name": "stdout",
          "text": [
            "Amount deposited\n",
            "Bank Balance is 15000\n",
            "Amount withdraw\n",
            "Bank Balance is 13000\n"
          ]
        }
      ]
    },
    {
      "cell_type": "markdown",
      "source": [
        "6. Demonstrate runtime polymorphism using a method play() in a base class Instrument. Derive classes Guitar\n",
        "and Piano that implement their own version of play()"
      ],
      "metadata": {
        "id": "IGq3Hw6aWEKj"
      }
    },
    {
      "cell_type": "code",
      "source": [
        "class Instrument:\n",
        "    def play(self):\n",
        "        print('Instrument makes sound')\n",
        "\n",
        "class Guitar(Instrument):\n",
        "    def play(self):\n",
        "        print(\"Guitars are of many types\")\n",
        "\n",
        "class Piano(Instrument):\n",
        "    def play(self):\n",
        "        print('Playing piano is tough')\n",
        "\n",
        "\n",
        "def perform_play(instrument: Instrument):\n",
        "    instrument.play()\n",
        "\n",
        "\n",
        "instruments = [Guitar(), Piano(), Instrument()]\n",
        "\n",
        "for inst in instruments:\n",
        "    perform_play(inst)\n"
      ],
      "metadata": {
        "colab": {
          "base_uri": "https://localhost:8080/"
        },
        "id": "uHQ_Dr7rbOH5",
        "outputId": "665e33de-3c0a-4c80-893d-0eaf4254f65c"
      },
      "execution_count": null,
      "outputs": [
        {
          "output_type": "stream",
          "name": "stdout",
          "text": [
            "Instrument make soound\n",
            "Guitar are many types\n",
            "playing piano is tough\n"
          ]
        }
      ]
    },
    {
      "cell_type": "markdown",
      "source": [
        "7.  Create a class MathOperations with a class method add_numbers() to add two numbers and a static\n",
        "method subtract_numbers() to subtract two numbers."
      ],
      "metadata": {
        "id": "RQOcjl5UWElz"
      }
    },
    {
      "cell_type": "code",
      "source": [
        "class MathOperation:\n",
        "  @classmethod\n",
        "  def add_numbers(cls,x,y):\n",
        "    print(x+y)\n",
        "\n",
        "  @staticmethod\n",
        "  def subtract_numbers(x,y):\n",
        "    print(x-y)\n",
        "\n",
        "MathOperation.add_numbers(2,3)\n",
        "MathOperation.subtract_numbers(5,3)"
      ],
      "metadata": {
        "colab": {
          "base_uri": "https://localhost:8080/"
        },
        "id": "TdA3UwTIdy0l",
        "outputId": "61e1fdd8-a63a-4857-818b-c13fcd3e46ca"
      },
      "execution_count": null,
      "outputs": [
        {
          "output_type": "stream",
          "name": "stdout",
          "text": [
            "5\n",
            "2\n"
          ]
        }
      ]
    },
    {
      "cell_type": "markdown",
      "source": [
        "8. Implement a class Person with a class method to count the total number of persons created."
      ],
      "metadata": {
        "id": "NnZyHY0zWEzs"
      }
    },
    {
      "cell_type": "code",
      "source": [
        "class Person:\n",
        "  count = 0\n",
        "  def __init__(self):\n",
        "    Person.count += 1\n",
        "\n",
        "  @classmethod\n",
        "  def counter(cls):\n",
        "    print(Person.count)\n",
        "\n",
        "p1 = Person()\n",
        "p2 = Person()\n",
        "p3 = Person()\n",
        "p4 = Person()\n",
        "Person.counter()"
      ],
      "metadata": {
        "colab": {
          "base_uri": "https://localhost:8080/"
        },
        "id": "AERylTaMeyKr",
        "outputId": "4ea7c7ce-dd15-4463-f017-aef48002ddb7"
      },
      "execution_count": null,
      "outputs": [
        {
          "output_type": "stream",
          "name": "stdout",
          "text": [
            "4\n"
          ]
        }
      ]
    },
    {
      "cell_type": "markdown",
      "source": [
        "9. Write a class Fraction with attributes numerator and denominator. Override the str method to display the\n",
        "fraction as \"numerator/denominator\""
      ],
      "metadata": {
        "id": "khHHHubOWEAl"
      }
    },
    {
      "cell_type": "code",
      "source": [
        "class Fraction:\n",
        "  def __init__(self):\n",
        "    self.num = int(input('enter numerator'))\n",
        "    self.deno = int(input('enter denominator'))\n",
        "\n",
        "  def __str__(self):\n",
        "    return f'{self.num}/{self.deno}'\n",
        "\n",
        "\n",
        "\n",
        "f = Fraction()\n",
        "print(f)"
      ],
      "metadata": {
        "colab": {
          "base_uri": "https://localhost:8080/"
        },
        "id": "QiR3SyC-gY25",
        "outputId": "1bd02563-6bcb-408f-bb56-9a4abef4ace7"
      },
      "execution_count": null,
      "outputs": [
        {
          "output_type": "stream",
          "name": "stdout",
          "text": [
            "enter numerator2\n",
            "enter denominator3\n",
            "2/3\n"
          ]
        }
      ]
    },
    {
      "cell_type": "markdown",
      "source": [
        "10. Demonstrate operator overloading by creating a class Vector and overriding the add method to add two\n",
        "vectors"
      ],
      "metadata": {
        "id": "tKzPPeLmWap9"
      }
    },
    {
      "cell_type": "code",
      "source": [
        "class Vector:\n",
        "    def __init__(self, x, y):\n",
        "        self.x = x\n",
        "        self.y = y\n",
        "\n",
        "    def __add__(self, other):\n",
        "        if isinstance(other, Vector):\n",
        "            return Vector(self.x + other.x, self.y + other.y)\n",
        "        return NotImplemented\n",
        "\n",
        "    def __str__(self):\n",
        "        return f\"Vector({self.x}, {self.y})\"\n",
        "\n",
        "v1 = Vector(2, 3)\n",
        "v2 = Vector(4, 5)\n",
        "v3 = v1 + v2\n",
        "\n",
        "print(f\"{v1} + {v2} = {v3}\")\n"
      ],
      "metadata": {
        "id": "UrvEfXniKmYm",
        "colab": {
          "base_uri": "https://localhost:8080/"
        },
        "outputId": "bc69b848-c6a1-4086-bf09-dbbc3d202c95"
      },
      "execution_count": 11,
      "outputs": [
        {
          "output_type": "stream",
          "name": "stdout",
          "text": [
            "Vector(2, 3) + Vector(4, 5) = Vector(6, 8)\n"
          ]
        }
      ]
    },
    {
      "cell_type": "markdown",
      "source": [
        "11. Create a class Person with attributes name and age. Add a method greet() that prints \"Hello, my name is\n",
        "{name} and I am {age} years old.\""
      ],
      "metadata": {
        "id": "CQrPMgofWdoO"
      }
    },
    {
      "cell_type": "code",
      "source": [
        "class Person:\n",
        "  def __init__(self,name,age):\n",
        "    self.name = name\n",
        "    self.age = age\n",
        "\n",
        "  def greet(self):\n",
        "    print(f\"Hello, my name is {self.name} and I am {self.age} years\")\n",
        "\n",
        "p = Person('Saumya',21)\n",
        "p.greet()"
      ],
      "metadata": {
        "colab": {
          "base_uri": "https://localhost:8080/"
        },
        "id": "QCx7SKRenpiG",
        "outputId": "8b9aa2ea-b03a-4464-91bd-5f10f5a112c1"
      },
      "execution_count": null,
      "outputs": [
        {
          "output_type": "stream",
          "name": "stdout",
          "text": [
            "Hello, my name is Saumya and I am 21 years\n"
          ]
        }
      ]
    },
    {
      "cell_type": "markdown",
      "source": [
        "12. Implement a class Student with attributes name and grades. Create a method average_grade() to compute\n",
        "the average of the grades."
      ],
      "metadata": {
        "id": "0bmPKhINWgUv"
      }
    },
    {
      "cell_type": "code",
      "source": [
        "class Student:\n",
        "  def __init__(self,name,grade):\n",
        "    self.name = name\n",
        "    self.grade = grade\n",
        "\n",
        "  def average_grade(self):\n",
        "    sum = 0\n",
        "    for i in self.grade:\n",
        "      sum = sum + i\n",
        "    return sum/len(self.grade)\n",
        "\n",
        "s = Student('Vijay',[80,75,90,69,85])\n",
        "s.average_grade()\n",
        "\n"
      ],
      "metadata": {
        "id": "tRvbSuUWmtxW",
        "colab": {
          "base_uri": "https://localhost:8080/"
        },
        "outputId": "119e75fd-5ea9-4798-ca28-aac708939dc9"
      },
      "execution_count": 9,
      "outputs": [
        {
          "output_type": "execute_result",
          "data": {
            "text/plain": [
              "79.8"
            ]
          },
          "metadata": {},
          "execution_count": 9
        }
      ]
    },
    {
      "cell_type": "markdown",
      "source": [
        "13. Create a class Rectangle with methods set_dimensions() to set the dimensions and area() to calculate the\n",
        "area."
      ],
      "metadata": {
        "id": "GGkafvgXWijP"
      }
    },
    {
      "cell_type": "code",
      "source": [
        "class Rectangle:\n",
        "  def set_dimension(self,l,b):\n",
        "    self.length = l\n",
        "    self.breadth = b\n",
        "\n",
        "  def area(self):\n",
        "    return self.length*self.breadth\n",
        "\n",
        "r = Rectangle()\n",
        "r.set_dimension(5,10)\n",
        "r.area()"
      ],
      "metadata": {
        "colab": {
          "base_uri": "https://localhost:8080/"
        },
        "id": "yU6kphVVlhCs",
        "outputId": "8c66bd50-4f9e-447f-ba14-1f1d6b68bfcc"
      },
      "execution_count": null,
      "outputs": [
        {
          "output_type": "execute_result",
          "data": {
            "text/plain": [
              "50"
            ]
          },
          "metadata": {},
          "execution_count": 10
        }
      ]
    },
    {
      "cell_type": "markdown",
      "source": [
        "14. Create a class Employee with a method calculate_salary() that computes the salary based on hours worked\n",
        "and hourly rate. Create a derived class Manager that adds a bonus to the salary."
      ],
      "metadata": {
        "id": "ApQwtX8ZWkWX"
      }
    },
    {
      "cell_type": "code",
      "source": [
        "class Employee:\n",
        "  def __init__(self,name,hour,rate):\n",
        "    self.name = name\n",
        "    self.hour = hour\n",
        "    self.rate = rate\n",
        "\n",
        "  def calculate_salary(self):\n",
        "    return self.hour*self.rate\n",
        "\n",
        "class Manager(Employee):\n",
        "  def __init__(self,name,hour,rate,bonus):\n",
        "    super().__init__(name,hour,rate)\n",
        "    self.bonus = bonus\n",
        "\n",
        "  def calculate_salary(self):\n",
        "    return self.hour*self.rate + self.bonus\n",
        "\n",
        "emp = Employee(\"Alice\", 40, 500)\n",
        "print(f\"{emp.name}'s tatal salary of one day is {emp.calculate_salary()}\")\n",
        "\n",
        "\n",
        "m = Manager('Ajay',8,500,5000)\n",
        "print(f'{m.name} is manager so tatal salary of one day with bonus is {m.calculate_salary()}')"
      ],
      "metadata": {
        "colab": {
          "base_uri": "https://localhost:8080/"
        },
        "id": "nGvRldbKrZOm",
        "outputId": "e6a535c5-1e94-47dd-bc93-6880cb5c6804"
      },
      "execution_count": 8,
      "outputs": [
        {
          "output_type": "stream",
          "name": "stdout",
          "text": [
            "Alice's tatal salary of one day is 20000\n",
            "Ajay is manager so tatal salary of one day with bonus is 9000\n"
          ]
        }
      ]
    },
    {
      "cell_type": "markdown",
      "source": [
        "15. Create a class Product with attributes name, price, and quantity. Implement a method total_price() that\n",
        "calculates the total price of the product."
      ],
      "metadata": {
        "id": "eL8q5JrDWmov"
      }
    },
    {
      "cell_type": "code",
      "source": [
        "class Product:\n",
        "  def __init__(self,name,price,quant):\n",
        "    self.name = name\n",
        "    self.price = price\n",
        "    self.quantity = quant\n",
        "\n",
        "  def total_price(self):\n",
        "    total = self.price * self.quantity\n",
        "    print('total price = ',total)\n",
        "\n",
        "p = Product('pen',10,15)\n",
        "p.total_price()"
      ],
      "metadata": {
        "colab": {
          "base_uri": "https://localhost:8080/"
        },
        "id": "ID0wq3Mzox1O",
        "outputId": "d1a2e807-ba20-4aca-e7cd-2e1a2f3273ea"
      },
      "execution_count": 3,
      "outputs": [
        {
          "output_type": "stream",
          "name": "stdout",
          "text": [
            "total price =  150\n"
          ]
        }
      ]
    },
    {
      "cell_type": "markdown",
      "source": [
        "16. Create a class Animal with an abstract method sound(). Create two derived classes Cow and Sheep that\n",
        "implement the sound() method."
      ],
      "metadata": {
        "id": "imu4WHdnWpCw"
      }
    },
    {
      "cell_type": "code",
      "source": [
        "from abc import ABC , abstractmethod\n",
        "\n",
        "class Animal(ABC):\n",
        "  @abstractmethod\n",
        "  def sound(self):\n",
        "    pass\n",
        "\n",
        "class Cow(Animal):\n",
        "  def sound(self):\n",
        "    print('moosh')\n",
        "\n",
        "class Sheep(Animal):\n",
        "  def sound(self):\n",
        "    print('baa baa')\n",
        "\n",
        "c = Cow()\n",
        "c.sound()\n",
        "\n",
        "s = Sheep()\n",
        "s.sound()\n"
      ],
      "metadata": {
        "colab": {
          "base_uri": "https://localhost:8080/"
        },
        "id": "oLC8dFhUnK28",
        "outputId": "e176538a-0c8a-465b-d374-d9c5e535ca74"
      },
      "execution_count": 2,
      "outputs": [
        {
          "output_type": "stream",
          "name": "stdout",
          "text": [
            "moosh\n",
            "baa baa\n"
          ]
        }
      ]
    },
    {
      "cell_type": "markdown",
      "source": [
        "17. Create a class Book with attributes title, author, and year_published. Add a method get_book_info() that\n",
        "returns a formatted string with the book's details"
      ],
      "metadata": {
        "id": "xVU5_5HSWrDo"
      }
    },
    {
      "cell_type": "code",
      "source": [
        "class Book:\n",
        "  def __init__(self,title,author,year):\n",
        "    self.title = title\n",
        "    self.author = author\n",
        "    self.year = year\n",
        "\n",
        "  def get_book_info(self):\n",
        "    return f'{self.title} written by {self.author}, published in year {self.year}'\n",
        "\n",
        "b = Book('The 48 Law of Power','Robert Green', 1998 )\n",
        "b.get_book_info()\n"
      ],
      "metadata": {
        "colab": {
          "base_uri": "https://localhost:8080/",
          "height": 36
        },
        "id": "VaKHMfqIpC08",
        "outputId": "7d681510-1c97-4c05-8625-8429f3cf8cb4"
      },
      "execution_count": null,
      "outputs": [
        {
          "output_type": "execute_result",
          "data": {
            "text/plain": [
              "'The 48 Law of Power written by Robert Green, published in year 1998'"
            ],
            "application/vnd.google.colaboratory.intrinsic+json": {
              "type": "string"
            }
          },
          "metadata": {},
          "execution_count": 13
        }
      ]
    },
    {
      "cell_type": "markdown",
      "source": [
        "18. Create a class House with attributes address and price. Create a derived class Mansion that adds an\n",
        "attribute number_of_rooms."
      ],
      "metadata": {
        "id": "td5sRwhTWs5J"
      }
    },
    {
      "cell_type": "code",
      "source": [
        "class House:\n",
        "  def __init__(self,add,price):\n",
        "    self.add = add\n",
        "    self.price = price\n",
        "\n",
        "class Mansion(House):\n",
        "  def __init__(self,add,price,num_rooms):\n",
        "    super().__init__(add,price)\n",
        "    self.num_rooms = num_rooms\n",
        "\n",
        "  def display(self):\n",
        "    print(f'Address is {self.add}, Price is {self.price}, Number of rooms is {self.num_rooms}')\n",
        "\n",
        "c = Mansion('lucknow', 20000000,10)\n",
        "c.display()"
      ],
      "metadata": {
        "colab": {
          "base_uri": "https://localhost:8080/"
        },
        "id": "fuX-vXE5i2Sq",
        "outputId": "e24d7006-88f9-4d3f-ca13-587346f300ca"
      },
      "execution_count": null,
      "outputs": [
        {
          "output_type": "stream",
          "name": "stdout",
          "text": [
            "Address is lucknow, Price is 20000000, Number of rooms is 10\n"
          ]
        }
      ]
    }
  ]
}
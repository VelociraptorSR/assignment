{
  "nbformat": 4,
  "nbformat_minor": 0,
  "metadata": {
    "colab": {
      "provenance": []
    },
    "kernelspec": {
      "name": "python3",
      "display_name": "Python 3"
    },
    "language_info": {
      "name": "python"
    }
  },
  "cells": [
    {
      "cell_type": "markdown",
      "source": [
        "1. What are data structures, and why are they important ?\n",
        "  - Data structures are ways of organizing and storing data in a computer so that it can be accessed and used efficiently. In Python, data structures are crucial because they help manage data logically, perform operations faster, and write cleaner, more maintainable code."
      ],
      "metadata": {
        "id": "YEWg9Gh7NCdx"
      }
    },
    {
      "cell_type": "markdown",
      "source": [
        "2. Explain the difference between mutable and immutable data types with examples.\n",
        "  - Mutable Datatype -->\n",
        "  - Mutable datatype can be change after creation\n",
        "  - Immutable Datatype -->\n",
        "  - Immutable datatype cannot change after creation we cannot add ne values or delete one value.\n",
        "\n",
        "  "
      ],
      "metadata": {
        "id": "l343vCA-NK0K"
      }
    },
    {
      "cell_type": "code",
      "source": [
        "# Mutable Datatype\n",
        "l = [1,2,3,4]\n",
        "print(id(l))\n",
        "l.append(5)\n",
        "print(l,id(l))\n",
        "\n",
        "# Immutable Datatype\n",
        "x = 'Hello'\n",
        "print(id(x))\n",
        "x += 'world'\n",
        "print(x)\n",
        "print(id(x))\n"
      ],
      "metadata": {
        "colab": {
          "base_uri": "https://localhost:8080/"
        },
        "id": "G0H4FrOGOFyo",
        "outputId": "d582301c-33f0-4242-c000-09e899acdcf7"
      },
      "execution_count": null,
      "outputs": [
        {
          "output_type": "stream",
          "name": "stdout",
          "text": [
            "134221437098432\n",
            "[1, 2, 3, 4, 5] 134221437098432\n",
            "134221448013104\n",
            "Helloworld\n",
            "134221450527984\n"
          ]
        }
      ]
    },
    {
      "cell_type": "markdown",
      "source": [
        "3. What are the main differences between lists and tuples in Python ?\n",
        "  - List --> List in mutable datatype.\n",
        "  - Tuple --> tuple is immutable datatype."
      ],
      "metadata": {
        "id": "FXa_NJV5O4Re"
      }
    },
    {
      "cell_type": "markdown",
      "source": [
        "4. Describe how dictionaries store data.\n",
        "  - Dictionaries in Python store data as key-value pairs using a hash table under the hood. This structure allows for fast access, insertion, and deletion, typically in constant time: O(1).\n",
        "  - Keys: \"name\", \"age\", \"city\" -> must be immutable (like str, int, tuple)\n",
        "  - Values: \"Alice\", 25, \"New York\" -> can be any type (even lists or other dicts)"
      ],
      "metadata": {
        "id": "-qdZTe3DPPTz"
      }
    },
    {
      "cell_type": "code",
      "source": [
        "my_dict = {\n",
        "    \"name\": \"Alice\",\n",
        "    \"age\": 25,\n",
        "    \"city\": \"New York\"\n",
        "}\n"
      ],
      "metadata": {
        "id": "yEkXVQanP_CS"
      },
      "execution_count": null,
      "outputs": []
    },
    {
      "cell_type": "markdown",
      "source": [
        "5. Why might you use a set instead of a list in Python ?\n",
        "  - I use set instead of list when i have to maintain uniqueness of every elment and don't need about oreder."
      ],
      "metadata": {
        "id": "K4og0MYCQQce"
      }
    },
    {
      "cell_type": "markdown",
      "source": [
        "6. What is a string in Python, and how is it different from a list ?\n",
        "  - A string in Python is a sequence of characters, enclosed in single (') or double (\") quotes.\n",
        "  - string is immutable and list is mutable\n",
        "  - In string every character is string and in list it can be anything.\n",
        "  - String -> 'hello'\n",
        "  - List -> ['s',1,2.3,True]"
      ],
      "metadata": {
        "id": "oicMTiXfRL3F"
      }
    },
    {
      "cell_type": "markdown",
      "source": [
        "7.  How do tuples ensure data integrity in Python ?\n",
        "- Once a tuple is created, its contents cannot be changed — you can't add, remove, or modify elements.\n",
        "This makes tuples ideal for storing constant data or configurations that shouldn't be altered during program execution."
      ],
      "metadata": {
        "id": "zYOCOarwSYla"
      }
    },
    {
      "cell_type": "markdown",
      "source": [
        "8. What is a hash table, and how does it relate to dictionaries in Python ?\n",
        "  - A hash table is a data structure that allows you to store and retrieve data efficiently using keys. It's the underlying mechanism behind dictionaries (dict) in Python.\n",
        "  - A hash table:\n",
        "  - Stores key-value pairs\n",
        "  - Uses a hash function to convert each key into an index in an array (called a \"bucket\")\n",
        "  - Places the value at that index\n",
        "  - Only hashable (i.e., immutable) types can be used as dict keys. That's why you can use int, str, or tuple, but not a list or dict.\n"
      ],
      "metadata": {
        "id": "V1JApV8PTUrF"
      }
    },
    {
      "cell_type": "markdown",
      "source": [
        "9. Can lists contain different data types in Python ?\n",
        "  - Yes a list can contain many types of data at same time\n",
        "  - l = [1,2.3,'hrllor',True,[1,2,3],(34,34)]\n",
        "  "
      ],
      "metadata": {
        "id": "m8AjGpkjWBM5"
      }
    },
    {
      "cell_type": "markdown",
      "source": [
        "10. Explain why strings are immutable in Python ?\n",
        "  - Strings in Python are immutable by design — once a string is created, it cannot be changed. Any operation that seems to \"modify\" a string actually creates a new string. This immutability offers several benefits, both in terms of performance and safety.\n",
        "  - Immutable objects can be hashed, which is crucial for using strings as dictionary keys or in sets. If strings were mutable, changing them after using them as a key would break the data structure.\n",
        "  - Strings are often used for sensitive or important data like file paths, URLs, identifiers, etc. Making them immutable ensures.\n",
        "  - Since strings can’t be modified, they can be safely shared between threads without locking or unexpected behavior — making them naturally thread-safe.\n",
        "  "
      ],
      "metadata": {
        "id": "PpLWWJEEWj55"
      }
    },
    {
      "cell_type": "markdown",
      "source": [
        "11. What advantages do dictionaries offer over lists for certain tasks ?\n",
        "  - Dicts: O(1) average time complexity for lookups.\n",
        "  - Lists: O(n) time for searching — need to scan through the list.\n",
        "  - Dictionaries let you access data by name rather than index. Improves code readability and clarity.\n",
        "  - Dictionaries are perfect for representing objects, records, or JSON-like data.\n",
        "  - A dictionary automatically ensures unique keys, so it's great when you want to store distinct values and overwrite duplicates cleanly."
      ],
      "metadata": {
        "id": "GKLiifmxYDCB"
      }
    },
    {
      "cell_type": "markdown",
      "source": [
        "12. Describe a scenario where using a tuple would be preferable over a list.\n",
        "  - The data is fixed-length and shouldn't change\n",
        "  - You want to protect the contents from modification\n",
        "  - You may need to use it as a dictionary key or set item"
      ],
      "metadata": {
        "id": "DED4LO7wY8-i"
      }
    },
    {
      "cell_type": "markdown",
      "source": [
        "13. How do sets handle duplicate values in Python ?\n",
        "  - Sets in Python are designed to automatically eliminate duplicate values — that's one of their main features.\n",
        "  - Sets are implemented using hash tables, like dictionaries (but without key-value pairs). Each element must be hashable (i.e., immutable), and it must produce a unique hash value. If two items produce the same hash, Python compares them for equality and keeps only one."
      ],
      "metadata": {
        "id": "BZ1eRqWLZqFw"
      }
    },
    {
      "cell_type": "markdown",
      "source": [
        "14. How does the “in” keyword work differently for lists and dictionaries ?\n",
        "  - For list ->\n",
        "  - Linear search (left to right)\n",
        "  - Compares each element until it finds a match (or reaches the end)\n",
        "  - O(n) — slower for large lists\n",
        "  - For Dictionaries ->\n",
        "  - Checks if the key exists, not the value\n",
        "  - Uses hashing, so it’s very fast\n",
        "  - O(1) on average — much faster than lists"
      ],
      "metadata": {
        "id": "hOftvpVWaOll"
      }
    },
    {
      "cell_type": "markdown",
      "source": [
        "15. Can you modify the elements of a tuple? Explain why or why not ?\n",
        "  - No, you cannot modify the elements of a tuple.\n",
        "  - It is immutable, once a tuple is created, its elements cannot be changed, added, or removed."
      ],
      "metadata": {
        "id": "3742L6AdbbAU"
      }
    },
    {
      "cell_type": "markdown",
      "source": [
        "16. What is a nested dictionary, and give an example of its use case ?\n",
        "  - A nested dictionary in Python is a dictionary where values themselves can be dictionaries (or even other complex data structures like lists or other nested dictionaries). It allows you to represent more complex and hierarchical data in a structured way.\n",
        "  "
      ],
      "metadata": {
        "id": "yXUwQLX6yw8N"
      }
    },
    {
      "cell_type": "code",
      "source": [
        "nested_dict = {\n",
        "    'key1': {\n",
        "        'subkey1': value1,\n",
        "        'subkey2': value2\n",
        "    },\n",
        "    'key2': {\n",
        "        'subkey1': value3\n",
        "    }\n",
        "}\n"
      ],
      "metadata": {
        "id": "kJWpTk4p0l15"
      },
      "execution_count": null,
      "outputs": []
    },
    {
      "cell_type": "markdown",
      "source": [
        "17. Describe the time complexity of accessing elements in a dictionary.\n",
        "  - In Python, dictionaries are implemented using hash tables, which makes accessing elements very efficient.\n",
        "  - Time Complexity: O(1) — constant time.\n",
        "This means that accessing an element (like my_dict[key]) usually takes the same amount of time, no matter how large the dictionary is."
      ],
      "metadata": {
        "id": "chcw-sDE0qhJ"
      }
    },
    {
      "cell_type": "markdown",
      "source": [
        "18.  In what situations are lists preferred over dictionaries ?\n",
        "  - Lists preserve insertion order and allow index-based access.\n",
        "  - Lists are great when you're doing something to each item in order.\n",
        "  - Lists generally use less memory than dictionaries, especially when storing large numbers of simple values."
      ],
      "metadata": {
        "id": "ZR6YetUj2OQj"
      }
    },
    {
      "cell_type": "markdown",
      "source": [
        "19. Why are dictionaries considered unordered, and how does that affect data retrieval ?\n",
        "  - The internal structure (hash tables) focused on fast access, not maintaining the order you inserted items in.\n",
        "  - Key-based lookup is super fast (O(1))\n",
        "  - They're designed for fast key-based access, not for position-based operations like lists."
      ],
      "metadata": {
        "id": "F8P_2QeO3b4y"
      }
    },
    {
      "cell_type": "markdown",
      "source": [
        "20. Explain the difference between a list and a dictionary in terms of data retrieval.\n",
        "  - List retrive data by the index(position)\n",
        "  - Dictionary retrive data by the keys."
      ],
      "metadata": {
        "id": "IgZYFaTc4Tjg"
      }
    },
    {
      "cell_type": "markdown",
      "source": [
        "1. Write a code to create a string with your name and print it."
      ],
      "metadata": {
        "id": "M6qUqQZE7ce8"
      }
    },
    {
      "cell_type": "code",
      "source": [
        "s = 'Saumya Rajpoot'\n",
        "print(s)"
      ],
      "metadata": {
        "colab": {
          "base_uri": "https://localhost:8080/"
        },
        "id": "Ymms6ZWyYpOP",
        "outputId": "e37ba19a-188d-4450-b233-a5fa5cb4be7c"
      },
      "execution_count": null,
      "outputs": [
        {
          "output_type": "stream",
          "name": "stdout",
          "text": [
            "Saumya Rajpoot\n"
          ]
        }
      ]
    },
    {
      "cell_type": "markdown",
      "source": [
        "2. Write a code to find the length of the string \"Hello World\"."
      ],
      "metadata": {
        "id": "bKKAJGDpYxfH"
      }
    },
    {
      "cell_type": "code",
      "source": [
        "print(len(\"Hello World\"))"
      ],
      "metadata": {
        "colab": {
          "base_uri": "https://localhost:8080/"
        },
        "id": "KKC7Bh-bY0X3",
        "outputId": "52be1265-5b1f-49a2-b2b7-d0d0878bef04"
      },
      "execution_count": null,
      "outputs": [
        {
          "output_type": "stream",
          "name": "stdout",
          "text": [
            "11\n"
          ]
        }
      ]
    },
    {
      "cell_type": "markdown",
      "source": [
        "3. Write a code to slice the first 3 characters from the string \"Python Programming\"."
      ],
      "metadata": {
        "id": "9pub29H0Y7zY"
      }
    },
    {
      "cell_type": "code",
      "source": [
        "s = 'Python Programming'\n",
        "print(s[0:3])"
      ],
      "metadata": {
        "colab": {
          "base_uri": "https://localhost:8080/"
        },
        "id": "nsw4YWdrZE3B",
        "outputId": "d5db31fc-6806-4364-9e84-4eb95af840c7"
      },
      "execution_count": null,
      "outputs": [
        {
          "output_type": "stream",
          "name": "stdout",
          "text": [
            "Pyt\n"
          ]
        }
      ]
    },
    {
      "cell_type": "markdown",
      "source": [
        "4. Write a code to convert the string \"hello\" to uppercase."
      ],
      "metadata": {
        "id": "P-bgAl1yhJGw"
      }
    },
    {
      "cell_type": "code",
      "source": [
        "s = 'hello'\n",
        "print(s.upper())"
      ],
      "metadata": {
        "colab": {
          "base_uri": "https://localhost:8080/"
        },
        "id": "ERodgQBMhPqQ",
        "outputId": "f839b8ad-9faa-4036-8235-fd9a257505ab"
      },
      "execution_count": null,
      "outputs": [
        {
          "output_type": "stream",
          "name": "stdout",
          "text": [
            "HELLO\n"
          ]
        }
      ]
    },
    {
      "cell_type": "markdown",
      "source": [
        "5. Write a code to replace the word \"apple\" with \"orange\" in the string \"I like apple\"."
      ],
      "metadata": {
        "id": "l77F7gXLhbMC"
      }
    },
    {
      "cell_type": "code",
      "source": [
        "s = 'I like apple'\n",
        "s = s.replace('apple','orange')\n",
        "print(s)"
      ],
      "metadata": {
        "colab": {
          "base_uri": "https://localhost:8080/"
        },
        "id": "1ltP15FhhfSr",
        "outputId": "4904d529-d968-4efc-f4fc-cc9a9f2746b3"
      },
      "execution_count": null,
      "outputs": [
        {
          "output_type": "stream",
          "name": "stdout",
          "text": [
            "I like orange\n"
          ]
        }
      ]
    },
    {
      "cell_type": "markdown",
      "source": [
        "6. Write a code to create a list with numbers 1 to 5 and print it."
      ],
      "metadata": {
        "id": "GYaT-cXIh5Om"
      }
    },
    {
      "cell_type": "code",
      "source": [
        "l = [1,2,3,4,5]\n",
        "print(l)"
      ],
      "metadata": {
        "colab": {
          "base_uri": "https://localhost:8080/"
        },
        "id": "bzffod83iAT9",
        "outputId": "10ceef8c-26b5-4a30-964a-662b26ccf5b5"
      },
      "execution_count": null,
      "outputs": [
        {
          "output_type": "stream",
          "name": "stdout",
          "text": [
            "[1, 2, 3, 4, 5]\n"
          ]
        }
      ]
    },
    {
      "cell_type": "markdown",
      "source": [
        "7. Write a code to append the number 10 to the list [1, 2, 3, 4].\n"
      ],
      "metadata": {
        "id": "5x1AWAJyiKpu"
      }
    },
    {
      "cell_type": "code",
      "source": [
        "l = [1,2,3,4]\n",
        "l.append(10)\n",
        "print(l)"
      ],
      "metadata": {
        "colab": {
          "base_uri": "https://localhost:8080/"
        },
        "id": "_b2wctBxiRun",
        "outputId": "dd2c3638-708b-47f2-d165-21fa2aa465f9"
      },
      "execution_count": null,
      "outputs": [
        {
          "output_type": "stream",
          "name": "stdout",
          "text": [
            "[1, 2, 3, 4, 10]\n"
          ]
        }
      ]
    },
    {
      "cell_type": "markdown",
      "source": [
        "8. Write a code to remove the number 3 from the list [1, 2, 3, 4, 5]."
      ],
      "metadata": {
        "id": "kzwgrZYkijQp"
      }
    },
    {
      "cell_type": "code",
      "source": [
        "l = [1,2,3,4,5]\n",
        "l.remove(3)\n",
        "print(l)"
      ],
      "metadata": {
        "colab": {
          "base_uri": "https://localhost:8080/"
        },
        "id": "rIO-UV_DipD6",
        "outputId": "4f613d83-f455-4cb3-b136-7d216fead5f1"
      },
      "execution_count": null,
      "outputs": [
        {
          "output_type": "stream",
          "name": "stdout",
          "text": [
            "[1, 2, 4, 5]\n"
          ]
        }
      ]
    },
    {
      "cell_type": "markdown",
      "source": [
        "9. Write a code to access the second element in the list ['a', 'b', 'c', 'd']."
      ],
      "metadata": {
        "id": "GMQnLII0izzr"
      }
    },
    {
      "cell_type": "code",
      "source": [
        "l = ['a', 'b', 'c', 'd']\n",
        "print(l[1])"
      ],
      "metadata": {
        "colab": {
          "base_uri": "https://localhost:8080/"
        },
        "id": "PtLV6bRKi5bc",
        "outputId": "8ff44f58-766c-4e11-a181-8bc681600f24"
      },
      "execution_count": null,
      "outputs": [
        {
          "output_type": "stream",
          "name": "stdout",
          "text": [
            "b\n"
          ]
        }
      ]
    },
    {
      "cell_type": "markdown",
      "source": [
        "10. Write a code to reverse the list [10, 20, 30, 40, 50]."
      ],
      "metadata": {
        "id": "InBk2PHYjAsO"
      }
    },
    {
      "cell_type": "code",
      "source": [
        "\n",
        "my_list = [10, 20, 30, 40, 50]\n",
        "my_list.reverse()\n",
        "print(my_list)\n"
      ],
      "metadata": {
        "id": "lOexzLWojH9O"
      },
      "execution_count": null,
      "outputs": []
    },
    {
      "cell_type": "markdown",
      "source": [
        "11. Write a code to create a tuple with the elements 100, 200, 300 and print it."
      ],
      "metadata": {
        "id": "98fgOdvzjf14"
      }
    },
    {
      "cell_type": "code",
      "source": [
        "t = (100,200,300)\n",
        "print(type(t))\n",
        "print(t)"
      ],
      "metadata": {
        "colab": {
          "base_uri": "https://localhost:8080/"
        },
        "id": "4Ym63AUnjmZp",
        "outputId": "d9755fae-967a-4834-f78b-3d70f723074b"
      },
      "execution_count": null,
      "outputs": [
        {
          "output_type": "stream",
          "name": "stdout",
          "text": [
            "<class 'tuple'>\n",
            "(100, 200, 300)\n"
          ]
        }
      ]
    },
    {
      "cell_type": "markdown",
      "source": [
        "12. Write a code to access the second-to-last element of the tuple ('red', 'green', 'blue', 'yellow')"
      ],
      "metadata": {
        "id": "SJ2xN7e8jwzh"
      }
    },
    {
      "cell_type": "code",
      "source": [
        "t = ('red', 'green', 'blue', 'yellow')\n",
        "print(t[-2])"
      ],
      "metadata": {
        "colab": {
          "base_uri": "https://localhost:8080/"
        },
        "id": "X0P7Qh-cj5RZ",
        "outputId": "adcf56c9-e38f-4749-a82e-1f9467ed462b"
      },
      "execution_count": null,
      "outputs": [
        {
          "output_type": "stream",
          "name": "stdout",
          "text": [
            "blue\n"
          ]
        }
      ]
    },
    {
      "cell_type": "markdown",
      "source": [
        "13.  Write a code to find the minimum number in the tuple (10, 20, 5, 15).\n"
      ],
      "metadata": {
        "id": "H9VUe1rLkGNl"
      }
    },
    {
      "cell_type": "code",
      "source": [
        "t = (10,20,5,15)\n",
        "print(min(t))"
      ],
      "metadata": {
        "colab": {
          "base_uri": "https://localhost:8080/"
        },
        "id": "BTMgHCHckNXe",
        "outputId": "3e5c7159-c4b2-4181-e596-b9c69b4d3de8"
      },
      "execution_count": null,
      "outputs": [
        {
          "output_type": "stream",
          "name": "stdout",
          "text": [
            "5\n"
          ]
        }
      ]
    },
    {
      "cell_type": "markdown",
      "source": [
        "14.  Write a code to find the index of the element \"cat\" in the tuple ('dog', 'cat', 'rabbit')"
      ],
      "metadata": {
        "id": "vV0zJ9wXkaRu"
      }
    },
    {
      "cell_type": "code",
      "source": [
        "t =  ('dog', 'cat', 'rabbit')\n",
        "print(t.index('cat'))"
      ],
      "metadata": {
        "colab": {
          "base_uri": "https://localhost:8080/"
        },
        "id": "Z__H6_h8ke4X",
        "outputId": "95bfa1ed-1819-4e20-8ba7-506c43f6ef19"
      },
      "execution_count": null,
      "outputs": [
        {
          "output_type": "stream",
          "name": "stdout",
          "text": [
            "1\n"
          ]
        }
      ]
    },
    {
      "cell_type": "markdown",
      "source": [
        "15.  Write a code to create a tuple containing three different fruits and check if \"kiwi\" is in it."
      ],
      "metadata": {
        "id": "e2fS4bgUkrcf"
      }
    },
    {
      "cell_type": "code",
      "source": [
        "t = ('apple','mango','kiwi')\n",
        "print('kiwi' in t)"
      ],
      "metadata": {
        "colab": {
          "base_uri": "https://localhost:8080/"
        },
        "id": "40jyT0n3k0CJ",
        "outputId": "e8b4bd64-a113-454e-ecc7-b20fee3de6b9"
      },
      "execution_count": null,
      "outputs": [
        {
          "output_type": "stream",
          "name": "stdout",
          "text": [
            "True\n"
          ]
        }
      ]
    },
    {
      "cell_type": "markdown",
      "source": [
        "16. Write a code to create a set with the elements 'a', 'b', 'c' and print it.\n",
        "\n"
      ],
      "metadata": {
        "id": "K8OAI2DYlQEc"
      }
    },
    {
      "cell_type": "code",
      "source": [
        "s = { 'a', 'b', 'c'}\n",
        "print(s)"
      ],
      "metadata": {
        "colab": {
          "base_uri": "https://localhost:8080/"
        },
        "id": "J3ZltLH3lUml",
        "outputId": "1b1e764e-538b-44cb-fa90-c5c7989bf54c"
      },
      "execution_count": null,
      "outputs": [
        {
          "output_type": "stream",
          "name": "stdout",
          "text": [
            "{'c', 'b', 'a'}\n"
          ]
        }
      ]
    },
    {
      "cell_type": "markdown",
      "source": [
        "17.  Write a code to clear all elements from the set {1, 2, 3, 4, 5}\n"
      ],
      "metadata": {
        "id": "dztjKB9nlbL-"
      }
    },
    {
      "cell_type": "code",
      "source": [
        "s =  {1, 2, 3, 4, 5}\n",
        "s.clear()\n",
        "print(s)"
      ],
      "metadata": {
        "colab": {
          "base_uri": "https://localhost:8080/"
        },
        "id": "67p-QY5rlhFe",
        "outputId": "47181428-8c91-45d2-a213-14cd74b5f5d2"
      },
      "execution_count": null,
      "outputs": [
        {
          "output_type": "stream",
          "name": "stdout",
          "text": [
            "set()\n"
          ]
        }
      ]
    },
    {
      "cell_type": "markdown",
      "source": [
        "18.  Write a code to remove the element 4 from the set {1, 2, 3, 4}\n"
      ],
      "metadata": {
        "id": "QucGQuo8lqEu"
      }
    },
    {
      "cell_type": "code",
      "source": [
        "s = {1, 2, 3, 4}\n",
        "s.remove(4)\n",
        "print(s)"
      ],
      "metadata": {
        "colab": {
          "base_uri": "https://localhost:8080/"
        },
        "id": "CaVB7AMjlxwK",
        "outputId": "a58fbf64-a163-4e79-c9e9-d46b4cf5b7c4"
      },
      "execution_count": null,
      "outputs": [
        {
          "output_type": "stream",
          "name": "stdout",
          "text": [
            "{1, 2, 3}\n"
          ]
        }
      ]
    },
    {
      "cell_type": "markdown",
      "source": [
        "19.  Write a code to find the union of two sets {1, 2, 3} and {3, 4, 5}"
      ],
      "metadata": {
        "id": "isC4hGihmEPJ"
      }
    },
    {
      "cell_type": "code",
      "source": [
        "s1 = {1, 2, 3}\n",
        "s2 = {3, 4, 5}\n",
        "print(s1 | s2)"
      ],
      "metadata": {
        "colab": {
          "base_uri": "https://localhost:8080/"
        },
        "id": "OLAUsDNGmMAj",
        "outputId": "ea2169a3-9ddf-4729-a70d-9c8fbb4a7c3e"
      },
      "execution_count": null,
      "outputs": [
        {
          "output_type": "stream",
          "name": "stdout",
          "text": [
            "{1, 2, 3, 4, 5}\n"
          ]
        }
      ]
    },
    {
      "cell_type": "markdown",
      "source": [
        "20.  Write a code to find the intersection of two sets {1, 2, 3} and {2, 3, 4}"
      ],
      "metadata": {
        "id": "3mZYtQ8NmnKt"
      }
    },
    {
      "cell_type": "code",
      "source": [
        "s1 = {1, 2, 3}\n",
        "s2 = {2, 3, 4}\n",
        "print(s1 & s2)"
      ],
      "metadata": {
        "colab": {
          "base_uri": "https://localhost:8080/"
        },
        "id": "fRthDj-3mr-W",
        "outputId": "2082d354-7e4a-4340-ee44-34ca649b91d4"
      },
      "execution_count": null,
      "outputs": [
        {
          "output_type": "stream",
          "name": "stdout",
          "text": [
            "{2, 3}\n"
          ]
        }
      ]
    },
    {
      "cell_type": "markdown",
      "source": [
        "21.  Write a code to create a dictionary with the keys \"name\", \"age\", and \"city\", and print it"
      ],
      "metadata": {
        "id": "wh9IB0b5m5TH"
      }
    },
    {
      "cell_type": "code",
      "source": [
        "d = {'name':'saumya','age':21,'city':'lucknow'}\n",
        "print(d)"
      ],
      "metadata": {
        "colab": {
          "base_uri": "https://localhost:8080/"
        },
        "id": "JIoeP5LDpiLI",
        "outputId": "a1b0d5b3-7226-4718-c0bb-b2e1ad57f98b"
      },
      "execution_count": null,
      "outputs": [
        {
          "output_type": "stream",
          "name": "stdout",
          "text": [
            "{'name': 'saumya', 'age': 21, 'city': 'lucknow'}\n"
          ]
        }
      ]
    },
    {
      "cell_type": "markdown",
      "source": [
        "22. Write a code to add a new key-value pair \"country\": \"USA\" to the dictionary {'name': 'John', 'age': 25}"
      ],
      "metadata": {
        "id": "s8DjWnvypx-y"
      }
    },
    {
      "cell_type": "code",
      "source": [
        "d = {'name': 'John', 'age': 25}\n",
        "d[\"country\"] = 'USA'\n",
        "print(d)"
      ],
      "metadata": {
        "colab": {
          "base_uri": "https://localhost:8080/"
        },
        "id": "1oGt21rBp7vs",
        "outputId": "1c8240a2-6a62-481f-f31c-ba9adb279f4c"
      },
      "execution_count": null,
      "outputs": [
        {
          "output_type": "stream",
          "name": "stdout",
          "text": [
            "{'name': 'John', 'age': 25, 'country': 'USA'}\n"
          ]
        }
      ]
    },
    {
      "cell_type": "markdown",
      "source": [
        "23.  Write a code to access the value associated with the key \"name\" in the dictionary {'name': 'Alice', 'age': 30}"
      ],
      "metadata": {
        "id": "zw18uej7qTYI"
      }
    },
    {
      "cell_type": "code",
      "source": [
        "d = {'name': 'Alice', 'age': 30}\n",
        "print(d['name'])"
      ],
      "metadata": {
        "colab": {
          "base_uri": "https://localhost:8080/"
        },
        "id": "PcnWeJKHqYJn",
        "outputId": "ec6d7d2b-763c-4cda-e894-d5103f90fcac"
      },
      "execution_count": null,
      "outputs": [
        {
          "output_type": "stream",
          "name": "stdout",
          "text": [
            "Alice\n"
          ]
        }
      ]
    },
    {
      "cell_type": "markdown",
      "source": [
        "24. Write a code to remove the key \"age\" from the dictionary {'name': 'Bob', 'age': 22, 'city': 'New York'}"
      ],
      "metadata": {
        "id": "0_KZSjPWqeKx"
      }
    },
    {
      "cell_type": "code",
      "source": [
        "d =  {'name': 'Bob', 'age': 22, 'city': 'New York'}\n",
        "d.pop('age')\n",
        "print(d)"
      ],
      "metadata": {
        "colab": {
          "base_uri": "https://localhost:8080/"
        },
        "id": "I_udl7p8qikY",
        "outputId": "4f135d72-d7aa-4cf0-84bd-62d2ed49a3f6"
      },
      "execution_count": null,
      "outputs": [
        {
          "output_type": "stream",
          "name": "stdout",
          "text": [
            "{'name': 'Bob', 'city': 'New York'}\n"
          ]
        }
      ]
    },
    {
      "cell_type": "markdown",
      "source": [
        "25.  Write a code to check if the key \"city\" exists in the dictionary {'name': 'Alice', 'city': 'Paris'}"
      ],
      "metadata": {
        "id": "vzAGX3G_qxKF"
      }
    },
    {
      "cell_type": "code",
      "source": [
        "d = {'name': 'Alice', 'city': 'Paris'}\n",
        "print('city' in d)"
      ],
      "metadata": {
        "colab": {
          "base_uri": "https://localhost:8080/"
        },
        "id": "2EJoeB2cq-KZ",
        "outputId": "ea9e81e5-d5f6-41e0-ec53-77aed89b4630"
      },
      "execution_count": null,
      "outputs": [
        {
          "output_type": "stream",
          "name": "stdout",
          "text": [
            "True\n"
          ]
        }
      ]
    },
    {
      "cell_type": "markdown",
      "source": [
        "26.  Write a code to create a list, a tuple, and a dictionary, and print them all"
      ],
      "metadata": {
        "id": "ETtV83YOrLfz"
      }
    },
    {
      "cell_type": "code",
      "source": [
        "l = [1,2,3,4]\n",
        "t = (4,4,5,6)\n",
        "d = {'name': 'Alice', 'city': 'Paris'}\n",
        "print(l,t,d)"
      ],
      "metadata": {
        "colab": {
          "base_uri": "https://localhost:8080/"
        },
        "id": "N9juGcvErRd7",
        "outputId": "7118d3d3-81b9-4b04-83ed-fb976732f14f"
      },
      "execution_count": null,
      "outputs": [
        {
          "output_type": "stream",
          "name": "stdout",
          "text": [
            "[1, 2, 3, 4] (4, 4, 5, 6) {'name': 'Alice', 'city': 'Paris'}\n"
          ]
        }
      ]
    },
    {
      "cell_type": "markdown",
      "source": [
        "27.  Write a code to create a list of 5 random numbers between 1 and 100, sort it in ascending order, and print the\n",
        "result."
      ],
      "metadata": {
        "id": "41J4GfsfrfLt"
      }
    },
    {
      "cell_type": "code",
      "source": [
        "import random\n",
        "random_list = [random.randint(1, 100) for _ in range(5)]\n",
        "\n",
        "random_list.sort()\n",
        "print(\"Sorted random list:\", random_list)\n"
      ],
      "metadata": {
        "colab": {
          "base_uri": "https://localhost:8080/"
        },
        "id": "DoPqz6g5seCk",
        "outputId": "e249c54f-8a7a-4487-b2dc-aba6e685b80a"
      },
      "execution_count": null,
      "outputs": [
        {
          "output_type": "stream",
          "name": "stdout",
          "text": [
            "Sorted random list: [15, 16, 66, 74, 96]\n"
          ]
        }
      ]
    },
    {
      "cell_type": "markdown",
      "source": [
        "28.  Write a code to create a list with strings and print the element at the third index."
      ],
      "metadata": {
        "id": "5clCSf-6slvV"
      }
    },
    {
      "cell_type": "code",
      "source": [
        "l = ['a','b','c','d','e']\n",
        "print(l[2])"
      ],
      "metadata": {
        "colab": {
          "base_uri": "https://localhost:8080/"
        },
        "id": "mtzF3SPLsscm",
        "outputId": "3cfc1612-139b-42da-bd78-450a86d75bff"
      },
      "execution_count": null,
      "outputs": [
        {
          "output_type": "stream",
          "name": "stdout",
          "text": [
            "c\n"
          ]
        }
      ]
    },
    {
      "cell_type": "markdown",
      "source": [
        "29. Write a code to combine two dictionaries into one and print the result.\n",
        "\n"
      ],
      "metadata": {
        "id": "w-UljcLBs58P"
      }
    },
    {
      "cell_type": "code",
      "source": [
        "d1 = {'name': 'Alice', 'city': 'Paris'}\n",
        "d2 = {'gender': 'female', 'age': 25}\n",
        "d1.update(d2)\n",
        "print(d1)"
      ],
      "metadata": {
        "colab": {
          "base_uri": "https://localhost:8080/"
        },
        "id": "ZUcHsziQs-zw",
        "outputId": "55f3fbe0-266c-4186-9055-d8548e22eda0"
      },
      "execution_count": null,
      "outputs": [
        {
          "output_type": "stream",
          "name": "stdout",
          "text": [
            "{'name': 'Alice', 'city': 'Paris', 'gender': 'female', 'age': 25}\n"
          ]
        }
      ]
    },
    {
      "cell_type": "markdown",
      "source": [
        "30. Write a code to convert a list of strings into a set."
      ],
      "metadata": {
        "id": "6eFAdH5wt8-u"
      }
    },
    {
      "cell_type": "code",
      "source": [
        "l = ['a','b','c','d','d']\n",
        "l = set(l)\n",
        "print(l)"
      ],
      "metadata": {
        "colab": {
          "base_uri": "https://localhost:8080/"
        },
        "id": "A-oOlYHnuGBf",
        "outputId": "a04c1ee8-67bb-45e5-ead4-19d7e1fb74f5"
      },
      "execution_count": null,
      "outputs": [
        {
          "output_type": "stream",
          "name": "stdout",
          "text": [
            "{'c', 'b', 'a', 'd'}\n"
          ]
        }
      ]
    }
  ]
}
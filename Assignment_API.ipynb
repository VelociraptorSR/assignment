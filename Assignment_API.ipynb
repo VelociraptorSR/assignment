{
  "nbformat": 4,
  "nbformat_minor": 0,
  "metadata": {
    "colab": {
      "provenance": []
    },
    "kernelspec": {
      "name": "python3",
      "display_name": "Python 3"
    },
    "language_info": {
      "name": "python"
    }
  },
  "cells": [
    {
      "cell_type": "markdown",
      "source": [
        "1. What is a RESTful API\n",
        "  - A RESTful API (Representational State Transfer API) is a way for different software applications to communicate over the internet using standard HTTP methods like GET, POST, PUT, and DELETE. It follows principles of REST architecture, which emphasize simplicity, scalability, and statelessness."
      ],
      "metadata": {
        "id": "M6-T1X_HykyZ"
      }
    },
    {
      "cell_type": "markdown",
      "source": [
        "2. Explain the concept of API specification\n",
        "  - An API specification is a detailed, formal document that defines how an API behaves — essentially, it’s a contract between the API provider and its users. It tells developers what endpoints are available, what data to send and expect, and how to interact with the API."
      ],
      "metadata": {
        "id": "QZ4fVqpTywWi"
      }
    },
    {
      "cell_type": "markdown",
      "source": [
        "3. What is Flask, and why is it popular for building APIs\n",
        "  - Flask is a lightweight and flexible Python web framework that’s widely used to build web applications and RESTful APIs. It's known for its simplicity, minimalism, and ease of use—especially for small to medium-sized projects or when you want full control over how things are structured."
      ],
      "metadata": {
        "id": "A1MiVakby_OT"
      }
    },
    {
      "cell_type": "markdown",
      "source": [
        "4. What is routing in Flask\n",
        "  - Routing in Flask is the process of mapping URLs (web addresses) to functions in your Python code, which define what should happen when someone visits that URL.\n",
        "\n",
        "Each route is associated with a specific function (called a view function) that handles the request and returns a response."
      ],
      "metadata": {
        "id": "l4tWCpjZzSON"
      }
    },
    {
      "cell_type": "markdown",
      "source": [
        "5.  How do you create a simple Flask application\n",
        "  - Install Flask:\n",
        "The first step is to install the Flask package. This is done using Python's package manager, pip. Flask must be installed in your development environment to use its features.Command: pip install flask\n",
        "  - Initialize the Flask Application:\n",
        "You start by importing the Flask class from the flask module and then create an instance of the Flask class. This instance represents your web application.\n",
        "  - Define Routes:\n",
        "A route in Flask maps a URL to a Python function, called a view function. When a user accesses that URL, the associated function is executed, and its return value is sent as the response.\n",
        "  - Run the Flask Development Server:\n",
        "To start the web application, you use the run() method on your Flask app object. This launches a development server that allows you to test your application locally.\n",
        "  - Access the Application in a Web Browser:\n",
        "After running the Flask application, it becomes accessible via a local URL such as http://127.0.0.1:5000/. Opening this URL in a web browser will display the output of the route defined in your code."
      ],
      "metadata": {
        "id": "wuL5U719zmZ_"
      }
    },
    {
      "cell_type": "markdown",
      "source": [
        "6. What are HTTP methods used in RESTful APIs\n",
        "  - In RESTful APIs, HTTP methods are used to define the type of operation that the client wants to perform on a resource. These methods represent standard actions like retrieving, creating, updating, or deleting data.\n",
        "  - GET :\tRetrieve data from the server\n",
        "  - POST : Create new data on the server\n",
        "  - PUT\t: Update existing data (complete)\n",
        "  - PATCH\t: Update existing data (partial)\n",
        "  - DELETE\t: Remove data from the server"
      ],
      "metadata": {
        "id": "8XMZk5if0zo4"
      }
    },
    {
      "cell_type": "markdown",
      "source": [
        "7. What is the purpose of the @app.route() decorator in Flask\n",
        "  - In Flask, the @app.route() decorator is used to bind a specific URL path to a Python function, which defines what should happen when that URL is accessed by a client (like a browser or an API call). This process is called routing."
      ],
      "metadata": {
        "id": "hKXbnsuJ1iJE"
      }
    },
    {
      "cell_type": "markdown",
      "source": [
        "8. What is the difference between GET and POST HTTP methods\n",
        "  - | Feature              | GET                  | POST              |    \n",
        "  - | Used for             | Read / retrieve data | Submit / create data  |\n",
        "  - | Data sent via        | URL                  | Request body          |\n",
        "  - | Visible in URL       | Yes                  | No                    |\n",
        "  - | Secure for passwords | No                   | More secure           |\n",
        "  - | Cacheable            | Yes                  | No                    |\n",
        "  - | Bookmarkable         | Yes                  | No                    |\n",
        "  - | Common use case      | Read a user profile  | Submit a contact form |\n",
        "\n"
      ],
      "metadata": {
        "id": "hTnRwy1d1wfd"
      }
    },
    {
      "cell_type": "markdown",
      "source": [
        "9. M How do you handle errors in Flask APIs\n",
        "  - Handling errors properly in Flask APIs ensures that your application responds gracefully to problems, provides useful feedback to clients, and avoids crashes.\n",
        "  - @app.errorhandler() :\tGlobal error handling for HTTP codes\n",
        "  - try-except blocks :\tLocalized error handling in routes\n",
        "  - abort() :\tManually trigger specific HTTP errors\n",
        "  - Custom exception classes\t: Reusable and structured error responses"
      ],
      "metadata": {
        "id": "X6H7IoSr3ElO"
      }
    },
    {
      "cell_type": "markdown",
      "source": [
        "10. How do you connect Flask to a SQL database\n",
        "  - To connect a Flask application to a SQL database, you typically use an Object-Relational Mapping (ORM) library like SQLAlchemy, which provides an easy and Pythonic way to interact with databases. Alternatively, you can use direct database drivers, but ORM is more common and convenient.\n",
        "  - Install packages :\tflask_sqlalchemy and sqlalchemy\n",
        "  - Configure app\t: Set SQLALCHEMY_DATABASE_URI in Flask config\n",
        "  - Define models : Use Python classes inheriting from db.Model\n",
        "  - Create tables :\tRun db.create_all()\n",
        "  - Use ORM\t: Add/query/update/delete data through db.session"
      ],
      "metadata": {
        "id": "twqBnirf3ntD"
      }
    },
    {
      "cell_type": "markdown",
      "source": [
        "11. What is the role of Flask-SQLAlchemy\n",
        "  - Flask-SQLAlchemy is an extension for Flask that simplifies the use of SQLAlchemy—a powerful and popular Object-Relational Mapping (ORM) toolkit for Python.\n",
        "  - Integrates SQLAlchemy with Flask Easily :\n",
        "It seamlessly integrates SQLAlchemy into Flask apps by handling configuration, connection management, and setup for you.\n",
        "\n",
        "  - Provides ORM Capabilities :\n",
        "Instead of writing raw SQL queries, you can work with Python classes and objects to interact with the database. This allows you to:\n",
        "\n",
        "  (a). Define database tables as Python classes (called models).\n",
        "\n",
        "  (b). Perform CRUD operations using Python code instead of SQL.\n",
        "\n",
        "  (c). Use SQLAlchemy’s powerful query language to filter, join, and aggregate data.\n",
        "\n",
        "  - Manages Database Sessions :\n",
        "Flask-SQLAlchemy manages the database session lifecycle, making it easier to commit changes or rollback on errors without manually handling connection details.\n",
        "\n",
        "  - Supports Multiple Databases :\n",
        "It supports all databases compatible with SQLAlchemy like SQLite, MySQL, PostgreSQL, Oracle, and more, just by changing the database URI in configuration.\n"
      ],
      "metadata": {
        "id": "Vl9mcEuq4P1-"
      }
    },
    {
      "cell_type": "markdown",
      "source": [
        "12. What are Flask blueprints, and how are they useful\n",
        "   - Flask Blueprints are a way to organize a Flask application into smaller, reusable components or modules. They allow you to split your app’s routes, views, templates, and static files into distinct sections that can be registered on the main Flask app later.\n",
        "   - In short, Flask Blueprints help keep your application clean, scalable, and organized—especially as your project grows bigger.\n",
        "   "
      ],
      "metadata": {
        "id": "m58JdXzI4_wi"
      }
    },
    {
      "cell_type": "markdown",
      "source": [
        "13.  What is the purpose of Flask's request object\n",
        "  - The request object is your gateway to all client-sent data in Flask and is essential for handling form submissions, API requests, file uploads, and more. Without it, your Flask app wouldn’t know what the client is asking for or sending."
      ],
      "metadata": {
        "id": "LH7QyX3x5WNF"
      }
    },
    {
      "cell_type": "markdown",
      "source": [
        "14.  How do you create a RESTful API endpoint using Flask\n",
        "  - Creating a RESTful API endpoint in Flask involves:\n",
        "\n",
        "  - Defining a route with @app.route()\n",
        "\n",
        "  - Supporting RESTful HTTP methods (GET, POST, PUT, DELETE)\n",
        "\n",
        "  - Handling input via the request object\n",
        "\n",
        "  - Returning JSON responses with status codes"
      ],
      "metadata": {
        "id": "3QNdAMAQ6FjS"
      }
    },
    {
      "cell_type": "markdown",
      "source": [
        "15. What is the purpose of Flask's jsonify() function\n",
        "  - The jsonify() function in Flask is used to convert Python data structures into JSON format and create a proper HTTP response for API clients.\n",
        "  - Automatically serializes Python dictionaries, lists, and other serializable objects into JSON.\n",
        "\n",
        "  - Sets the correct HTTP response headers, especially Content-Type: application/json, telling clients that the response is JSON data.\n",
        "\n",
        "  - Returns a Flask Response object ready to be sent back to the client.\n",
        "\n",
        "  - Handles encoding and escaping of special characters safely."
      ],
      "metadata": {
        "id": "_NSk9lsP6XH7"
      }
    },
    {
      "cell_type": "markdown",
      "source": [
        "16.  Explain Flask’s url_for() function\n",
        "   - The url_for() function in Flask is used to dynamically build URLs for your application’s routes based on the function name (endpoint) rather than hardcoding URLs as strings.\n",
        "   - Generates URLs dynamically: You don’t have to manually type URLs, which helps avoid errors and makes your app easier to maintain.\n",
        "\n",
        "  - Handles URL changes: If you change the route in your code, all url_for() calls automatically reflect the change.\n",
        "\n",
        "  - Supports URL parameters: Easily build URLs with variable parts or query strings."
      ],
      "metadata": {
        "id": "e-uFH0I26uEV"
      }
    },
    {
      "cell_type": "markdown",
      "source": [
        "17. How does Flask handle static files (CSS, JavaScript, etc.)\n",
        "  - Static files are resources like CSS stylesheets, JavaScript files, images, fonts, and other assets that do not change dynamically and are served \"as-is\" to clients.\n",
        "  - Flask automatically serves static files from a folder named static in your project directory.\n",
        "\n",
        "  - When you create a Flask app, it assumes static files live in the /static folder.\n",
        "\n",
        "  - You can access these files in your app via the URL path /static/<filename>."
      ],
      "metadata": {
        "id": "hAq_prx96-_X"
      }
    },
    {
      "cell_type": "markdown",
      "source": [
        "18. What is an API specification, and how does it help in building a Flask API\n",
        "  - An API specification is a formal, structured document that defines how an API should behave. It describes:\n",
        "\n",
        "  - The available endpoints (URLs)\n",
        "\n",
        "  - Supported HTTP methods (GET, POST, PUT, DELETE, etc.)\n",
        "\n",
        "  - Request parameters and payload formats\n",
        "\n",
        "  - Response formats and status codes\n",
        "\n",
        "  - Authentication and error handling rules\n",
        "  - Clear Contract Between Client and Server :\n",
        "The specification acts as a clear contract that defines how clients and servers communicate. Everyone involved knows what to expect.\n",
        "\n",
        "  - Guides Development :\n",
        "Developers use the specification as a blueprint for implementing the API routes, input validation, and output formatting.\n",
        "\n",
        "  - Improves Consistency :\n",
        "Ensures endpoints follow a consistent structure, naming, and data formats, improving maintainability and scalability.\n",
        "\n",
        "  - acilitates Documentation :\n",
        "Tools like Swagger UI can generate interactive API docs automatically from the spec, helping developers understand and test the API.\n",
        "\n",
        "  - Enables Automated Testing :\n",
        "Automated tests can be built around the specification to ensure the API behaves as expected.\n",
        "\n",
        "  - Supports Code Generation :\n",
        "Some tools generate boilerplate code or client SDKs based on the API spec, speeding up development."
      ],
      "metadata": {
        "id": "i03g_vF87Xpa"
      }
    },
    {
      "cell_type": "markdown",
      "source": [
        "19.  What are HTTP status codes, and why are they important in a Flask API\n",
        "  - HTTP status codes are standardized three-digit numbers returned by a server in response to a client’s HTTP request. They indicate the result of the request — whether it succeeded, failed, or requires further action.\n",
        "  - Why Are HTTP Status Codes Important in a Flask API?\n",
        "  - Communicate Request Outcome:\n",
        "They tell the client if the request was successful (e.g., 200 OK), caused an error (e.g., 404 Not Found), or something else (e.g., 401 Unauthorized).\n",
        "\n",
        "  - Help Clients Handle Responses Properly:\n",
        "Based on the status code, clients know whether to display data, prompt for authentication, retry, or show an error message.\n",
        "\n",
        "  - Make APIs More Robust and Standardized:\n",
        "Using appropriate status codes follows web standards and improves interoperability between different systems."
      ],
      "metadata": {
        "id": "nKBXsBuZ8CR-"
      }
    },
    {
      "cell_type": "markdown",
      "source": [
        "20. How do you handle POST requests in Flask\n",
        "  - Allowing POST method on a route\n",
        "  - Retrieving data from the request object\n",
        "  - Processing and validating the data\n",
        "  - Sending back a JSON response with an HTTP status code"
      ],
      "metadata": {
        "id": "w51GRJsY8dxR"
      }
    },
    {
      "cell_type": "markdown",
      "source": [
        "21. How would you secure a Flask API\n",
        "  - Securing a Flask API means protecting it from unauthorized access, data breaches, and common attacks. Here are key strategies to secure your Flask API:\n",
        "  - Authentication:\tJWT, OAuth, Flask-JWT-Extended\n",
        "  - Authorization:\tRole checks, access control logic\n",
        "  - Input Validation:\tUse validation libraries, ORM protections\n",
        "  - HTTPS:\tConfigure SSL certificates\n",
        "  - Rate Limiting:\tFlask-Limiter\n",
        "  - Error Handling:\tCustom error handlers, avoid detailed messages\n",
        "  - CORS:\tFlask-CORS\n",
        "  - Sensitive Data:\tEnvironment variables, config management\n",
        "  - Security Headers:\tMiddleware or Flask extensions"
      ],
      "metadata": {
        "id": "gO4xT2eq8xCD"
      }
    },
    {
      "cell_type": "markdown",
      "source": [
        "22. What is the significance of the Flask-RESTful extension\n",
        "  - Resource-based classes :\tOrganizes endpoints as reusable classes\n",
        "  - Request parsing (reqparse) :\tSimplifies validation of inputs\n",
        "  - Cleaner response handling :\tEasier to return data with status codes\n",
        "  - Better code structure :\tScalable and maintainable API design\n"
      ],
      "metadata": {
        "id": "F5xq1vsQ9ZgH"
      }
    },
    {
      "cell_type": "markdown",
      "source": [
        "23. What is the role of Flask’s session object\n",
        "  - The session object in Flask is used to store information specific to a user’s session on the server side between requests. It allows you to persist data across multiple requests from the same client without requiring them to re-authenticate or re-enter information every time."
      ],
      "metadata": {
        "id": "RFMPG4Yx97xb"
      }
    },
    {
      "cell_type": "markdown",
      "source": [
        "1. How do you create a basic Flask application"
      ],
      "metadata": {
        "id": "e4a_UFWV-HX7"
      }
    },
    {
      "cell_type": "code",
      "source": [
        "from flask import Flask\n",
        "\n",
        "# Step 1: Create a Flask application instance\n",
        "app = Flask(__name__)\n",
        "\n",
        "# Step 2: Define a route\n",
        "@app.route('/')\n",
        "def home():\n",
        "    return \"Hello, Flask!\"\n",
        "\n",
        "# Step 3: Run the application\n",
        "if __name__ == '__main__':\n",
        "    app.run(debug=True)\n"
      ],
      "metadata": {
        "id": "G9xfyXdi-L9M"
      },
      "execution_count": null,
      "outputs": []
    },
    {
      "cell_type": "markdown",
      "source": [
        "2. How do you serve static files like images or CSS in Flask"
      ],
      "metadata": {
        "id": "QKFbCGnb-MZE"
      }
    },
    {
      "cell_type": "code",
      "source": [
        "# flask file\n",
        "from flask import Flask, render_template\n",
        "\n",
        "app = Flask(__name__)\n",
        "\n",
        "@app.route('/')\n",
        "def home():\n",
        "    return render_template('index.html')\n",
        "\n",
        "if __name__ == '__main__':\n",
        "    app.run(debug=True)\n"
      ],
      "metadata": {
        "id": "l1pvv8gx-Qhc"
      },
      "execution_count": null,
      "outputs": []
    },
    {
      "cell_type": "code",
      "source": [
        "# html file\n",
        "<!DOCTYPE html>\n",
        "<html>\n",
        "<head>\n",
        "    <title>Static Example</title>\n",
        "    <link rel=\"stylesheet\" href=\"{{ url_for('static', filename='style.css') }}\">\n",
        "</head>\n",
        "<body>\n",
        "    <h1>Hello, Flask!</h1>\n",
        "    <img src=\"{{ url_for('static', filename='image.png') }}\" alt=\"Sample Image\">\n",
        "</body>\n",
        "</html>\n"
      ],
      "metadata": {
        "id": "Q3cp8BqRCFbA"
      },
      "execution_count": null,
      "outputs": []
    },
    {
      "cell_type": "code",
      "source": [
        "# css file\n",
        "body {\n",
        "    background-color: #f0f0f0;\n",
        "    font-family: Arial, sans-serif;\n",
        "    text-align: center;\n",
        "    padding-top: 50px;\n",
        "}\n"
      ],
      "metadata": {
        "id": "WngxQbEnCN6Y"
      },
      "execution_count": null,
      "outputs": []
    },
    {
      "cell_type": "markdown",
      "source": [
        "3. How do you define different routes with different HTTP methods in Flask"
      ],
      "metadata": {
        "id": "YH3dom00-Qwt"
      }
    },
    {
      "cell_type": "code",
      "source": [
        "from flask import Flask, request, jsonify\n",
        "\n",
        "app = Flask(__name__)\n",
        "\n",
        "# Route 1: GET method\n",
        "@app.route('/hello', methods=['GET'])\n",
        "def say_hello():\n",
        "    return \"Hello, GET method!\"\n",
        "\n",
        "# Route 2: POST method\n",
        "@app.route('/submit', methods=['POST'])\n",
        "def submit_data():\n",
        "    data = request.get_json()\n",
        "    return jsonify({\"message\": \"Data received\", \"data\": data}), 201\n",
        "\n",
        "# Route 3: PUT method\n",
        "@app.route('/update', methods=['PUT'])\n",
        "def update_data():\n",
        "    data = request.get_json()\n",
        "    return jsonify({\"message\": \"Data updated\", \"data\": data}), 200\n",
        "\n",
        "# Route 4: DELETE method\n",
        "@app.route('/delete', methods=['DELETE'])\n",
        "def delete_data():\n",
        "    return jsonify({\"message\": \"Resource deleted\"}), 204\n",
        "\n",
        "if __name__ == '__main__':\n",
        "    app.run(debug=True)\n"
      ],
      "metadata": {
        "id": "DMZWK52w-UQF"
      },
      "execution_count": null,
      "outputs": []
    },
    {
      "cell_type": "markdown",
      "source": [
        "4. How do you render HTML templates in Flask"
      ],
      "metadata": {
        "id": "kY0xzIsW-Ued"
      }
    },
    {
      "cell_type": "code",
      "source": [
        "from flask import Flask, render_template\n",
        "\n",
        "app = Flask(__name__)\n",
        "\n",
        "@app.route('/')\n",
        "def home():\n",
        "    return render_template('index.html')  # Renders the HTML file\n",
        "\n",
        "if __name__ == '__main__':\n",
        "    app.run(debug=True)\n"
      ],
      "metadata": {
        "id": "5eoh5MJU-ZUt"
      },
      "execution_count": null,
      "outputs": []
    },
    {
      "cell_type": "code",
      "source": [
        "# html\n",
        "<!DOCTYPE html>\n",
        "<html>\n",
        "<head>\n",
        "    <title>Flask Template</title>\n",
        "</head>\n",
        "<body>\n",
        "    <h1>Welcome to Flask Template Rendering!</h1>\n",
        "</body>\n",
        "</html>\n"
      ],
      "metadata": {
        "id": "PJb-JSEaCtnM"
      },
      "execution_count": null,
      "outputs": []
    },
    {
      "cell_type": "markdown",
      "source": [
        "5. How can you generate URLs for routes in Flask using url_for"
      ],
      "metadata": {
        "id": "FyKrs6x3-Zk-"
      }
    },
    {
      "cell_type": "code",
      "source": [
        "from flask import Flask, url_for, redirect\n",
        "\n",
        "app = Flask(__name__)\n",
        "\n",
        "@app.route('/')\n",
        "def home():\n",
        "    return '<a href=\"' + url_for('about') + '\">Go to About</a>'\n",
        "\n",
        "@app.route('/about')\n",
        "def about():\n",
        "    return \"This is the About page.\"\n",
        "\n",
        "@app.route('/user/<username>')\n",
        "def profile(username):\n",
        "    return f\"User profile: {username}\"\n",
        "\n",
        "@app.route('/go-to-user')\n",
        "def go_to_user():\n",
        "    return redirect(url_for('profile', username='john_doe'))\n"
      ],
      "metadata": {
        "id": "LO-eMRMX-cl2"
      },
      "execution_count": null,
      "outputs": []
    },
    {
      "cell_type": "markdown",
      "source": [
        "6. How do you handle forms in Flask"
      ],
      "metadata": {
        "id": "N4ZM29yg-c19"
      }
    },
    {
      "cell_type": "code",
      "source": [
        "from flask import Flask, render_template, request\n",
        "\n",
        "app = Flask(__name__)\n",
        "\n",
        "@app.route('/', methods=['GET', 'POST'])\n",
        "def form_example():\n",
        "    if request.method == 'POST':\n",
        "        # Access form data\n",
        "        username = request.form['username']\n",
        "        return f\"Hello, {username}!\"\n",
        "    return render_template('form.html')\n",
        "\n",
        "if __name__ == '__main__':\n",
        "    app.run(debug=True)\n"
      ],
      "metadata": {
        "id": "J3ZlFEGr-gFe"
      },
      "execution_count": null,
      "outputs": []
    },
    {
      "cell_type": "code",
      "source": [
        "#html\n",
        "<!DOCTYPE html>\n",
        "<html>\n",
        "<head>\n",
        "    <title>Form Example</title>\n",
        "</head>\n",
        "<body>\n",
        "    <h2>Enter your name</h2>\n",
        "    <form method=\"POST\">\n",
        "        <input type=\"text\" name=\"username\" placeholder=\"Your name\" required>\n",
        "        <input type=\"submit\" value=\"Submit\">\n",
        "    </form>\n",
        "</body>\n",
        "</html>\n"
      ],
      "metadata": {
        "id": "-ajP694uDHZ2"
      },
      "execution_count": null,
      "outputs": []
    },
    {
      "cell_type": "markdown",
      "source": [
        "7. How can you validate form data in Flask"
      ],
      "metadata": {
        "id": "JfZZiJk4-gSW"
      }
    },
    {
      "cell_type": "code",
      "source": [
        "from flask import Flask, request, render_template\n",
        "\n",
        "app = Flask(__name__)\n",
        "\n",
        "@app.route('/', methods=['GET', 'POST'])\n",
        "def form():\n",
        "    error = None\n",
        "    if request.method == 'POST':\n",
        "        username = request.form['username']\n",
        "        if not username.strip():\n",
        "            error = \"Username is required.\"\n",
        "        else:\n",
        "            return f\"Hello, {username}!\"\n",
        "    return render_template('form.html', error=error)\n"
      ],
      "metadata": {
        "id": "wVFpZI4A-i_u"
      },
      "execution_count": null,
      "outputs": []
    },
    {
      "cell_type": "code",
      "source": [
        "<!DOCTYPE html>\n",
        "<html>\n",
        "<head><title>Form Validation</title></head>\n",
        "<body>\n",
        "    <form method=\"POST\">\n",
        "        <input type=\"text\" name=\"username\" placeholder=\"Enter username\">\n",
        "        <input type=\"submit\" value=\"Submit\">\n",
        "    </form>\n",
        "    {% if error %}\n",
        "        <p style=\"color: red;\">{{ error }}</p>\n",
        "    {% endif %}\n",
        "</body>\n",
        "</html>\n"
      ],
      "metadata": {
        "id": "WB_lqAHFEREe"
      },
      "execution_count": null,
      "outputs": []
    },
    {
      "cell_type": "markdown",
      "source": [
        "8. How do you manage sessions in Flask"
      ],
      "metadata": {
        "id": "xerPTVln-jPH"
      }
    },
    {
      "cell_type": "code",
      "source": [
        "from flask import Flask, session, redirect, url_for, request\n",
        "\n",
        "app = Flask(__name__)\n",
        "app.secret_key = 'your_secret_key'  # Required to use sessions securely\n",
        "\n",
        "@app.route('/')\n",
        "def index():\n",
        "    if 'username' in session:\n",
        "        return f\"Logged in as {session['username']}\"\n",
        "    return 'You are not logged in.'\n",
        "\n",
        "@app.route('/login', methods=['GET', 'POST'])\n",
        "def login():\n",
        "    if request.method == 'POST':\n",
        "        session['username'] = request.form['username']\n",
        "        return redirect(url_for('index'))\n",
        "    return '''\n",
        "        <form method=\"post\">\n",
        "            <input type=\"text\" name=\"username\" placeholder=\"Enter name\">\n",
        "            <input type=\"submit\" value=\"Login\">\n",
        "        </form>\n",
        "    '''\n",
        "\n",
        "@app.route('/logout')\n",
        "def logout():\n",
        "    session.pop('username', None)  # Removes username from session\n",
        "    return redirect(url_for('index'))\n",
        "\n",
        "if __name__ == '__main__':\n",
        "    app.run(debug=True)\n"
      ],
      "metadata": {
        "id": "XawNuNxp-l5f"
      },
      "execution_count": null,
      "outputs": []
    },
    {
      "cell_type": "markdown",
      "source": [
        "9.  How do you redirect to a different route in Flask"
      ],
      "metadata": {
        "id": "Yz6qq7AB-mK_"
      }
    },
    {
      "cell_type": "code",
      "source": [
        "from flask import Flask, redirect, url_for\n",
        "\n",
        "app = Flask(__name__)\n",
        "\n",
        "@app.route('/')\n",
        "def home():\n",
        "    return \"Welcome to the Home Page!\"\n",
        "\n",
        "@app.route('/login')\n",
        "def login():\n",
        "    return \"Please log in.\"\n",
        "\n",
        "@app.route('/go-to-login')\n",
        "def go_to_login():\n",
        "    # Redirect to the 'login' route\n",
        "    return redirect(url_for('login'))\n",
        "\n",
        "if __name__ == '__main__':\n",
        "    app.run(debug=True)\n"
      ],
      "metadata": {
        "id": "GzXF0cCH-pr4"
      },
      "execution_count": null,
      "outputs": []
    },
    {
      "cell_type": "markdown",
      "source": [
        "10. How do you handle errors in Flask (e.g., 404)"
      ],
      "metadata": {
        "id": "ZsAZ2V5J-p-P"
      }
    },
    {
      "cell_type": "code",
      "source": [
        "from flask import Flask, render_template\n",
        "\n",
        "app = Flask(__name__)\n",
        "\n",
        "@app.route('/')\n",
        "def home():\n",
        "    return \"Welcome to the Home Page!\"\n",
        "\n",
        "# Handle 404 errors (Page Not Found)\n",
        "@app.errorhandler(404)\n",
        "def page_not_found(e):\n",
        "    return render_template('404.html'), 404\n",
        "\n",
        "if __name__ == '__main__':\n",
        "    app.run(debug=True)\n"
      ],
      "metadata": {
        "id": "QUsgT2NO-tgf"
      },
      "execution_count": null,
      "outputs": []
    },
    {
      "cell_type": "code",
      "source": [
        "<!DOCTYPE html>\n",
        "<html>\n",
        "<head>\n",
        "    <title>Page Not Found</title>\n",
        "</head>\n",
        "<body>\n",
        "    <h1>404 Error: Page Not Found</h1>\n",
        "    <p>Sorry, the page you requested does not exist.</p>\n",
        "</body>\n",
        "</html>\n"
      ],
      "metadata": {
        "id": "FZuOSIgnGVoD"
      },
      "execution_count": null,
      "outputs": []
    },
    {
      "cell_type": "markdown",
      "source": [
        "11. How do you structure a Flask app using Blueprints"
      ],
      "metadata": {
        "id": "6h1YB-Up-tvP"
      }
    },
    {
      "cell_type": "code",
      "source": [
        "from flask import Blueprint\n",
        "\n",
        "auth = Blueprint('auth', __name__)\n",
        "\n",
        "from . import routes\n"
      ],
      "metadata": {
        "id": "TspULdqu-xIY"
      },
      "execution_count": null,
      "outputs": []
    },
    {
      "cell_type": "code",
      "source": [
        "from . import auth\n",
        "\n",
        "@auth.route('/login')\n",
        "def login():\n",
        "    return \"Login Page\"\n",
        "\n",
        "@auth.route('/logout')\n",
        "def logout():\n",
        "    return \"Logout Page\"\n"
      ],
      "metadata": {
        "id": "5NsBaJG6Gmv2"
      },
      "execution_count": null,
      "outputs": []
    },
    {
      "cell_type": "code",
      "source": [
        "from flask import Blueprint\n",
        "\n",
        "blog = Blueprint('blog', __name__)\n",
        "\n",
        "from . import routes\n"
      ],
      "metadata": {
        "id": "-BI_K9ktGpok"
      },
      "execution_count": null,
      "outputs": []
    },
    {
      "cell_type": "code",
      "source": [
        "from . import blog\n",
        "\n",
        "@blog.route('/')\n",
        "def index():\n",
        "    return \"Blog Home\"\n",
        "\n",
        "@blog.route('/post/<int:id>')\n",
        "def post(id):\n",
        "    return f\"Post {id}\"\n"
      ],
      "metadata": {
        "id": "GwjumCvzGshV"
      },
      "execution_count": null,
      "outputs": []
    },
    {
      "cell_type": "code",
      "source": [
        "from flask import Flask\n",
        "from auth import auth\n",
        "from blog import blog\n",
        "\n",
        "app = Flask(__name__)\n",
        "\n",
        "# Register blueprints\n",
        "app.register_blueprint(auth, url_prefix='/auth')\n",
        "app.register_blueprint(blog, url_prefix='/blog')\n",
        "\n",
        "if __name__ == '__main__':\n",
        "    app.run(debug=True)\n"
      ],
      "metadata": {
        "id": "hQh0q3iBGykA"
      },
      "execution_count": null,
      "outputs": []
    },
    {
      "cell_type": "markdown",
      "source": [
        "12.  How do you define a custom Jinja filter in Flask"
      ],
      "metadata": {
        "id": "3lTnOf0t-xXn"
      }
    },
    {
      "cell_type": "code",
      "source": [
        "from flask import Flask, render_template\n",
        "\n",
        "app = Flask(__name__)\n",
        "\n",
        "# Define the custom filter function\n",
        "def reverse_string(s):\n",
        "    return s[::-1]\n",
        "\n",
        "# Register the filter with Flask's Jinja environment\n",
        "app.jinja_env.filters['reverse'] = reverse_string\n",
        "\n",
        "@app.route('/')\n",
        "def home():\n",
        "    name = \"Flask\"\n",
        "    return render_template('index.html', name=name)\n",
        "\n",
        "if __name__ == '__main__':\n",
        "    app.run(debug=True)\n"
      ],
      "metadata": {
        "id": "clNO7_Oa-1R4"
      },
      "execution_count": null,
      "outputs": []
    },
    {
      "cell_type": "code",
      "source": [
        "<!DOCTYPE html>\n",
        "<html>\n",
        "<head>\n",
        "    <title>Custom Filter Example</title>\n",
        "</head>\n",
        "<body>\n",
        "    <p>Original: {{ name }}</p>\n",
        "    <p>Reversed: {{ name|reverse }}</p>\n",
        "</body>\n",
        "</html>\n"
      ],
      "metadata": {
        "id": "WMPH5ddGG8If"
      },
      "execution_count": null,
      "outputs": []
    },
    {
      "cell_type": "markdown",
      "source": [
        "13. How can you redirect with query parameters in Flask"
      ],
      "metadata": {
        "id": "y_oDgvHb-1kI"
      }
    },
    {
      "cell_type": "code",
      "source": [
        "from flask import Flask, redirect, url_for, request\n",
        "\n",
        "app = Flask(__name__)\n",
        "\n",
        "@app.route('/')\n",
        "def home():\n",
        "    # Access query parameter 'message'\n",
        "    msg = request.args.get('message', 'No message')\n",
        "    return f\"Message: {msg}\"\n",
        "\n",
        "@app.route('/redirect-example')\n",
        "def redirect_example():\n",
        "    # Redirect to 'home' with query parameters\n",
        "    return redirect(url_for('home', message='Hello+from+redirect'))\n",
        "\n",
        "if __name__ == '__main__':\n",
        "    app.run(debug=True)\n"
      ],
      "metadata": {
        "id": "RNVxgZ2L-4o5"
      },
      "execution_count": null,
      "outputs": []
    },
    {
      "cell_type": "markdown",
      "source": [
        "14. How do you return JSON responses in Flask"
      ],
      "metadata": {
        "id": "96YSU34M-5Mg"
      }
    },
    {
      "cell_type": "code",
      "source": [
        "from flask import Flask, jsonify\n",
        "\n",
        "app = Flask(__name__)\n",
        "\n",
        "@app.route('/api/data')\n",
        "def get_data():\n",
        "    data = {\n",
        "        \"name\": \"John\",\n",
        "        \"age\": 30,\n",
        "        \"city\": \"New York\"\n",
        "    }\n",
        "    return jsonify(data)\n",
        "\n",
        "if __name__ == '__main__':\n",
        "    app.run(debug=True)\n"
      ],
      "metadata": {
        "id": "bMZBNFZm-89B"
      },
      "execution_count": null,
      "outputs": []
    },
    {
      "cell_type": "markdown",
      "source": [
        "15.  How do you capture URL parameters in Flask"
      ],
      "metadata": {
        "id": "4utUy-YJ-9QZ"
      }
    },
    {
      "cell_type": "code",
      "source": [
        "# path parameters\n",
        "from flask import Flask\n",
        "\n",
        "app = Flask(__name__)\n",
        "\n",
        "@app.route('/user/<username>')\n",
        "def show_user_profile(username):\n",
        "    return f'User: {username}'\n",
        "\n",
        "@app.route('/post/<int:post_id>')\n",
        "def show_post(post_id):\n",
        "    return f'Post ID: {post_id}'\n",
        "\n",
        "if __name__ == '__main__':\n",
        "    app.run(debug=True)\n"
      ],
      "metadata": {
        "id": "e-Rp45VP_Aqh"
      },
      "execution_count": null,
      "outputs": []
    },
    {
      "cell_type": "code",
      "source": [
        "# query parameters\n",
        "from flask import Flask, request\n",
        "\n",
        "app = Flask(__name__)\n",
        "\n",
        "@app.route('/search')\n",
        "def search():\n",
        "    query = request.args.get('q')  # Get the value of parameter 'q'\n",
        "    page = request.args.get('page', default=1, type=int)  # Optional with default and type cast\n",
        "    return f'Search query: {query}, Page: {page}'\n",
        "\n",
        "if __name__ == '__main__':\n",
        "    app.run(debug=True)\n"
      ],
      "metadata": {
        "id": "MRxFKs2hHj2z"
      },
      "execution_count": null,
      "outputs": []
    }
  ]
}
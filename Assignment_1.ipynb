{
  "nbformat": 4,
  "nbformat_minor": 0,
  "metadata": {
    "colab": {
      "provenance": []
    },
    "kernelspec": {
      "name": "python3",
      "display_name": "Python 3"
    },
    "language_info": {
      "name": "python"
    }
  },
  "cells": [
    {
      "cell_type": "markdown",
      "source": [
        "**Assignment 1**"
      ],
      "metadata": {
        "id": "4Tp5xUJxjj61"
      }
    },
    {
      "cell_type": "markdown",
      "source": [
        "1. Explain the key features of Python that make it a popular choice for programming.\n",
        "\n",
        "  - Python is very easy to learn and it's syntax is close to english it is beginner friendly.\n",
        "  - It is an interpreted language.\n",
        "  - It is dynamically typed.\n",
        "  - It has massive community and ecosystem.\n",
        "  - Very large number of library.\n",
        "\n",
        "\n",
        "\n"
      ],
      "metadata": {
        "id": "Po7bJCUfjljU"
      }
    },
    {
      "cell_type": "markdown",
      "source": [
        "2. Describe the role of predefined keywords in Python and provide examples of how they are used in a program.\n",
        "  - Predefine keywords are reserved words in Python with special meaning and functionalyties you cannot use them as variable and function name.\n",
        "  Example - print(), in, def, True.\n",
        "\n"
      ],
      "metadata": {
        "id": "hcOJDbhSkXku"
      }
    },
    {
      "cell_type": "code",
      "source": [
        "name = 'Saumya Rajpoot' #name is a variable you cannot use keywords on the place on name\n",
        "print(name) # print is a keyword"
      ],
      "metadata": {
        "colab": {
          "base_uri": "https://localhost:8080/"
        },
        "id": "H_tDFJT-nZLo",
        "outputId": "97038339-c469-49ea-c542-b3cd168d919d"
      },
      "execution_count": null,
      "outputs": [
        {
          "output_type": "stream",
          "name": "stdout",
          "text": [
            "Saumya Rajpoot\n"
          ]
        }
      ]
    },
    {
      "cell_type": "markdown",
      "source": [
        "3. Compare and contrast mutable and immutable objects in Python with examples.\n",
        "  - Mutable ->\n",
        "  - Mutable datatype can be modified after creation.\n",
        "  - After modifying the memory location will be same.\n",
        "  - These types of datatype used when data is need to change frequently.\n",
        "\n",
        "  - Immutable ->\n",
        "  - Immutable datatye cannot be modified after creation.\n",
        "  - If we try to modify the memory location will be changed.\n",
        "  - These datatype are used when data should remain constant.\n",
        "  \n"
      ],
      "metadata": {
        "id": "ERgikkwqkH26"
      }
    },
    {
      "cell_type": "code",
      "source": [
        "# Mutable datatype\n",
        "numbers = [1, 2, 3]\n",
        "print(id(numbers))  # Memory ID before change\n",
        "\n",
        "numbers.append(4)   # Modify list in place\n",
        "print(numbers)      # Output: [1, 2, 3, 4]\n",
        "print(id(numbers))  # Same ID — modified in place\n"
      ],
      "metadata": {
        "colab": {
          "base_uri": "https://localhost:8080/"
        },
        "id": "ZD1UHnwtpzaU",
        "outputId": "8061e24e-a04d-48e5-93e1-ac1e7ad8edb5"
      },
      "execution_count": null,
      "outputs": [
        {
          "output_type": "stream",
          "name": "stdout",
          "text": [
            "138888831880320\n",
            "[1, 2, 3, 4]\n",
            "138888831880320\n"
          ]
        }
      ]
    },
    {
      "cell_type": "code",
      "source": [
        "# Immutable datatype\n",
        "name = \"Alice\"\n",
        "print(id(name))  # Memory ID before change\n",
        "\n",
        "name = name + \" Smith\"  # Creates a new string\n",
        "print(name)             # Output: \"Alice Smith\"\n",
        "print(id(name))         # Different ID — new object\n"
      ],
      "metadata": {
        "colab": {
          "base_uri": "https://localhost:8080/"
        },
        "id": "ZIl1jvbkrTKd",
        "outputId": "4239f944-be96-4153-d537-96b124d0ce05"
      },
      "execution_count": null,
      "outputs": [
        {
          "output_type": "stream",
          "name": "stdout",
          "text": [
            "138888815721136\n",
            "Alice Smith\n",
            "138888815709808\n"
          ]
        }
      ]
    },
    {
      "cell_type": "markdown",
      "source": [
        "4. Discuss the different types of operators in Python and provide examples of how they are used.\n"
      ],
      "metadata": {
        "id": "tH9nDC7vrbF-"
      }
    },
    {
      "cell_type": "code",
      "source": [
        "# Arithmetic Operator\n",
        "x = 10\n",
        "y = 3\n",
        "print(x + y) # addition operator\n",
        "print(x - y) # substraction operator\n",
        "print(x * y) # multiplication operator\n",
        "print(x / y) # division operator\n",
        "print(x // y) # floor division operator\n",
        "print(x % y) # modulus operator\n",
        "print(x ** y) # exponential operator\n"
      ],
      "metadata": {
        "colab": {
          "base_uri": "https://localhost:8080/"
        },
        "id": "rwwZhO7r1PPw",
        "outputId": "1e625ea5-b1a2-46b2-eb67-d9818764fca8"
      },
      "execution_count": null,
      "outputs": [
        {
          "output_type": "stream",
          "name": "stdout",
          "text": [
            "13\n",
            "7\n",
            "30\n",
            "3.3333333333333335\n",
            "3\n",
            "1\n",
            "1000\n"
          ]
        }
      ]
    },
    {
      "cell_type": "code",
      "source": [
        "# Comparison Operator\n",
        "print(x==y)\n",
        "print(x!=y)\n",
        "print(x>y)\n",
        "print(x<y)\n",
        "print(x<=x)\n",
        "print(x>=y)"
      ],
      "metadata": {
        "colab": {
          "base_uri": "https://localhost:8080/"
        },
        "id": "velFOWfQ7i4D",
        "outputId": "b42391d3-072c-458a-a03a-dd70754383b9"
      },
      "execution_count": null,
      "outputs": [
        {
          "output_type": "stream",
          "name": "stdout",
          "text": [
            "False\n",
            "True\n",
            "True\n",
            "False\n",
            "True\n",
            "True\n"
          ]
        }
      ]
    },
    {
      "cell_type": "code",
      "source": [
        "# Assignment operator\n",
        "x = 5 # Assign\n",
        "print(x)\n",
        "x += 1 # same as x = x+1 assign and add\n",
        "print(x)\n",
        "x -= 1 # same as x = x-1 assign and substract\n",
        "print(x)\n",
        "x *= 2 # same as x = x*2 assign and multiply\n",
        "print(x)\n",
        "x /= 2 # same as x = x/1 assign and division\n",
        "print(x)\n",
        "\n",
        "x = 10\n",
        "x //= 3 # same as x = x//3 assign and floor divide\n",
        "print(x)\n",
        "x %= 2 # same as x = x%2 assign and modulus\n",
        "print(x)\n",
        "\n",
        "x = 3\n",
        "x **= 2 # same as x = x**2 assign and exponential\n",
        "print(x)"
      ],
      "metadata": {
        "colab": {
          "base_uri": "https://localhost:8080/"
        },
        "id": "40niMLqU7klI",
        "outputId": "fe93e7c2-958a-4636-9916-41d8cda09502"
      },
      "execution_count": null,
      "outputs": [
        {
          "output_type": "stream",
          "name": "stdout",
          "text": [
            "5\n",
            "6\n",
            "5\n",
            "10\n",
            "5.0\n",
            "3\n",
            "1\n",
            "9\n"
          ]
        }
      ]
    },
    {
      "cell_type": "code",
      "source": [
        "# Logical Operator\n",
        "x = 5\n",
        "print(x > 3 and x < 10)  # And operator if both condition is true then it will True other then false\n",
        "print(not(x == 5))       # If the condition is true then it give False and if condition is false then gives True\n",
        "print(x<10 or x>15)      # if atleast one condition is ture then it give true if all the condition is false then it will give false"
      ],
      "metadata": {
        "colab": {
          "base_uri": "https://localhost:8080/"
        },
        "id": "6qnYYmIc7mNX",
        "outputId": "70ad9c5c-bb68-4f25-a7db-6a82b0f0257c"
      },
      "execution_count": null,
      "outputs": [
        {
          "output_type": "stream",
          "name": "stdout",
          "text": [
            "True\n",
            "False\n",
            "True\n"
          ]
        }
      ]
    },
    {
      "cell_type": "code",
      "source": [
        "# Membership Operator\n",
        "s = 'Apple'\n",
        "print('p' in s)  # 'in' operator give true if value is found other then give false\n",
        "print('s' not in s)  # 'not in' operator give true if value is not found other then give false"
      ],
      "metadata": {
        "colab": {
          "base_uri": "https://localhost:8080/"
        },
        "id": "7BEwvRam76KV",
        "outputId": "44034771-39d6-490c-983c-9463487030ef"
      },
      "execution_count": null,
      "outputs": [
        {
          "output_type": "stream",
          "name": "stdout",
          "text": [
            "True\n"
          ]
        }
      ]
    },
    {
      "cell_type": "code",
      "source": [
        "# Identity Operator\n",
        "a = [1, 2]\n",
        "b = a\n",
        "c = [1, 2]\n",
        "print(a is b)    # True (same object) or (both a and b pointing to the same memory location)\n",
        "print(a is c)    # False (different object with same content)\n",
        "print(id(a),id(b))"
      ],
      "metadata": {
        "colab": {
          "base_uri": "https://localhost:8080/"
        },
        "id": "XuUKD8NE9B6t",
        "outputId": "7027cac7-e39c-44c7-816f-48dc2aca82e2"
      },
      "execution_count": null,
      "outputs": [
        {
          "output_type": "stream",
          "name": "stdout",
          "text": [
            "True\n",
            "False\n",
            "138887957819456 138887957819456\n"
          ]
        }
      ]
    },
    {
      "cell_type": "code",
      "source": [
        "# Bitwise Operator\n",
        "print(5 & 3)  # bitwise And 5 -> 101 and 3 -> 011 output -> 001 (1)\n",
        "print(5 | 3)  # bitwise Or 5 -> 0101 and 3 -> 0011 output -> 0111 (7)\n",
        "print(5 ^ 3)  # bitwise XOR 5 -> 0101 and 3 -> 0011 output -> 0110 (6)\n",
        "print(~5)  # bitwise NOT 5 -> 00000101 output -> 11111010 (-6)\n",
        "print(5 << 1)  # bitwise NOT 5 -> 00000101 output -> 00001010 (10)\n",
        "print(5 >> 1)  # bitwise NOT 5 -> 00000101 output -> 00000010 (2)\n",
        "\n"
      ],
      "metadata": {
        "colab": {
          "base_uri": "https://localhost:8080/"
        },
        "id": "5uX5M2ge739t",
        "outputId": "4be600f4-cca6-4ca2-a6c2-19075cbd95ed"
      },
      "execution_count": 4,
      "outputs": [
        {
          "output_type": "stream",
          "name": "stdout",
          "text": [
            "1\n",
            "7\n",
            "6\n",
            "-6\n",
            "10\n",
            "2\n"
          ]
        }
      ]
    },
    {
      "cell_type": "markdown",
      "source": [
        "5. Explain the concept of type casting in Python with examples.\n",
        "  - Type casting is a process of converting one datatype to another datatype.\n",
        "  - There are two types of type conversion\n",
        "    1. Implicit type conversion\n",
        "      - In this conversion python automatically convert one datatype to other as per need.\n",
        "    2. Explicit type conversion\n",
        "      - In this user manually convert one data type to another."
      ],
      "metadata": {
        "id": "XYOYNN7A-1ua"
      }
    },
    {
      "cell_type": "code",
      "source": [
        "# Implicit Conversion\n",
        "x = 10       # int\n",
        "y = 2.5      # float\n",
        "\n",
        "result = x + y\n",
        "print(result)       # Output: 12.5\n",
        "print(type(result)) # Output: <class 'float'>\n",
        "\n",
        "# Explicit Conversion\n",
        "# int to float\n",
        "a = 5\n",
        "b = float(a)\n",
        "print(b)  # 5.0\n",
        "\n",
        "# float to int (fractional part is dropped)\n",
        "c = 3.9\n",
        "d = int(c)\n",
        "print(d)  # 3\n",
        "\n",
        "# int to string\n",
        "e = 100\n",
        "f = str(e)\n",
        "print(f)          # '100'\n",
        "print(type(f))    # <class 'str'>\n",
        "\n",
        "# string to int\n",
        "g = \"42\"\n",
        "h = int(g)\n",
        "print(h + 1)      # 43\n",
        "\n",
        "# string to float\n",
        "i = \"3.14\"\n",
        "j = float(i)\n",
        "print(j)          # 3.14\n",
        "\n",
        "# string to list\n",
        "k = \"hello\"\n",
        "l = list(k)\n",
        "print(l)          # ['h', 'e', 'l', 'l', 'o']\n"
      ],
      "metadata": {
        "id": "99M_Y56GAMWJ"
      },
      "execution_count": null,
      "outputs": []
    },
    {
      "cell_type": "markdown",
      "source": [
        " 6. How do conditional statements work in Python? Illustrate with examples.\n",
        "  - Condition statement allow us to execute a block of code when the given condition is true.\n",
        "  - if -> check first condition\n",
        "  - elif -> check other condition when trhe condition written in if is not true\n",
        "  - else -> execute when all condition is false"
      ],
      "metadata": {
        "id": "H1H8IeEFAkiD"
      }
    },
    {
      "cell_type": "code",
      "source": [
        "# simple if\n",
        "x = 3\n",
        "\n",
        "if x % 2 == 0:\n",
        "    print(\"Even number\")\n",
        "else:\n",
        "    print(\"Odd number\")\n",
        "\n",
        "# elif\n",
        "marks = 85\n",
        "\n",
        "if marks >= 90:\n",
        "    print(\"Grade A\")\n",
        "elif marks >= 75:\n",
        "    print(\"Grade B\")\n",
        "elif marks >= 60:\n",
        "    print(\"Grade C\")\n",
        "else:\n",
        "    print(\"Fail\")\n"
      ],
      "metadata": {
        "colab": {
          "base_uri": "https://localhost:8080/"
        },
        "id": "P720dSqcBlZU",
        "outputId": "1f3ee720-8ab2-4fd3-d12c-f0bbd141b515"
      },
      "execution_count": 5,
      "outputs": [
        {
          "output_type": "stream",
          "name": "stdout",
          "text": [
            "Odd number\n",
            "Grade B\n"
          ]
        }
      ]
    },
    {
      "cell_type": "markdown",
      "source": [
        " 7. Describe the different types of loops in Python and their use cases with examples.\n",
        " - for Loop -> for loop is used to iterate over a sequence like list, string, tuple and also in a given range using range() function.\n",
        "  - Use case ->\n",
        "  - Iterating through elements of a list or string\n",
        "  -  Performing a task a fixed number of times (using range)\n",
        "  - Working with collections (e.g., dictionaries)\n",
        " - while Loop -> while loop is run until the given condition is true.\n",
        "  - Use case ->\n",
        "    - Running until a certain condition is met (e.g., waiting for user input)\n",
        "    - Polling or retrying operations\n",
        "    - Games or simulations where the loop continues until an event happens\n"
      ],
      "metadata": {
        "id": "9Sii8p8nB-D0"
      }
    },
    {
      "cell_type": "code",
      "source": [
        "# for loop\n",
        "fruits = ['apple', 'banana', 'cherry']\n",
        "for fruit in fruits:\n",
        "    print(fruit)\n",
        "\n",
        "# while loop\n",
        "count = 0\n",
        "while count < 3:\n",
        "    print(\"Count:\", count)\n",
        "    count += 1\n"
      ],
      "metadata": {
        "colab": {
          "base_uri": "https://localhost:8080/"
        },
        "id": "cxL7s-p3E75n",
        "outputId": "5ac329e9-907f-4dc5-bea4-f4c251761603"
      },
      "execution_count": 6,
      "outputs": [
        {
          "output_type": "stream",
          "name": "stdout",
          "text": [
            "apple\n",
            "banana\n",
            "cherry\n",
            "Count: 0\n",
            "Count: 1\n",
            "Count: 2\n"
          ]
        }
      ]
    }
  ]
}
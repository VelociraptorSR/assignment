{
  "nbformat": 4,
  "nbformat_minor": 0,
  "metadata": {
    "colab": {
      "provenance": []
    },
    "kernelspec": {
      "name": "python3",
      "display_name": "Python 3"
    },
    "language_info": {
      "name": "python"
    }
  },
  "cells": [
    {
      "cell_type": "markdown",
      "source": [
        "1. What is a random variable in probability theory\n",
        " - A random variable is a function that assigns a real number to each outcome in the sample space of a random experiment."
      ],
      "metadata": {
        "id": "wWGtZm-i2n0W"
      }
    },
    {
      "cell_type": "markdown",
      "source": [
        "2. What are the types of random variables\n",
        "  - Discrete Random Variable:\n",
        "Takes countable values (like integers).\n",
        "Example: Number of heads in 3 coin tosses → {0, 1, 2, 3}\n",
        "\n",
        "  - Continuous Random Variable:\n",
        "  Takes uncountable/infinite values in an interval.\n",
        "Example: Time taken to complete a task → Any real number in a range, like 0 to ∞"
      ],
      "metadata": {
        "id": "FAVzByfG3ELR"
      }
    },
    {
      "cell_type": "markdown",
      "source": [
        "3. What is the difference between discrete and continuous distributions\n",
        "  - Discrete distribution :A discrete distribution is associated with a discrete random variable, which can take countable values (like whole numbers).\n",
        "  - Continuous distribution :A continuous distribution is associated with a continuous random variable, which can take any value within a range or interval (infinite/uncountable values).\n"
      ],
      "metadata": {
        "id": "iSdXps7X3uR0"
      }
    },
    {
      "cell_type": "markdown",
      "source": [
        "4. What are probability distribution functions (PDF)\n",
        "  - A Probability Distribution Function (PDF) refers to how probabilities are distributed over the possible values of a random variable.\n",
        "  However, the term PDF is specifically used for continuous random variables.\n",
        "  "
      ],
      "metadata": {
        "id": "Lsry_rr24tRE"
      }
    },
    {
      "cell_type": "markdown",
      "source": [
        "5.  How do cumulative distribution functions (CDF) differ from probability distribution functions (PDF)\n",
        "  - CDF:\n",
        "  - Total probability up to a value\n",
        "  - Always between 0 and 1\n",
        "  - To find probability up to a value\n",
        "  - PDF:\n",
        "  - Probability density or point probability\n",
        "  - Value can be > 1 (PDF)\n",
        "  - To compute probability over an interval\n",
        "  "
      ],
      "metadata": {
        "id": "TwGzWkGb5xMs"
      }
    },
    {
      "cell_type": "markdown",
      "source": [
        "6. What is a discrete uniform distribution\n",
        "  - A discrete uniform distribution assigns the same probability to each of the\n",
        "n possible values of a discrete random variable."
      ],
      "metadata": {
        "id": "cy0Kdd-_6sFC"
      }
    },
    {
      "cell_type": "markdown",
      "source": [
        "7. What are the key properties of a Bernoulli distribution\n",
        "  - Type: Discrete\n",
        "  - Support: X∈{0,1}\n",
        "  - Parameter: p∈[0,1] (probability of success)\n",
        "  - Mean (Expected Value): E[X]=p\n",
        "  - Variance: Var(X)=p(1−p)"
      ],
      "metadata": {
        "id": "nLJT3Pqk7HXU"
      }
    },
    {
      "cell_type": "markdown",
      "source": [
        "8.  What is the binomial distribution, and how is it used in probability\n",
        "  - The binomial distribution is a discrete probability distribution that models the number of successes in a fixed number of independent Bernoulli trials, each with the same probability of success.\n",
        "  - The experiment consists of n fixed independent trials.\n",
        "  - Each trial has only two outcomes: success or failure.\n",
        "  - The probability of success\n",
        "  - p is the same for all trials.\n",
        "  - You're interested in the number of successes."
      ],
      "metadata": {
        "id": "0uZS0BmQ9NID"
      }
    },
    {
      "cell_type": "markdown",
      "source": [
        "9. What is the Poisson distribution and where is it applied\n",
        "  - The Poisson distribution is a discrete probability distribution that models the number of events occurring in a fixed interval of time or space, given the events occur independently and at a constant average rate.\n",
        "  - Where it is applied\n",
        "  - Number of calls received at a call center per minute\n",
        "  - Number of emails arriving in an hour\n",
        "  - Number of defects per square meter of fabric\n",
        "  - Number of potholes per kilometer of road"
      ],
      "metadata": {
        "id": "m_i0OXPE-IrZ"
      }
    },
    {
      "cell_type": "markdown",
      "source": [
        "10. What is a continuous uniform distribution\n",
        "  - The continuous uniform distribution is a probability distribution where all values within a given interval are equally likely. It is the continuous analog of the discrete uniform distribution."
      ],
      "metadata": {
        "id": "RZB0b6E0_b7i"
      }
    },
    {
      "cell_type": "markdown",
      "source": [
        "11. What are the characteristics of a normal distribution\n",
        "  - Bell-shaped and symmetric about the mean\n",
        "  - Mean = Median = Mode\n",
        "  - Total area = 1 (represents total probability)\n",
        "  - Skewness = 0\n"
      ],
      "metadata": {
        "id": "HEAKrOWT_4n1"
      }
    },
    {
      "cell_type": "markdown",
      "source": [
        "12. What is the standard normal distribution, and why is it important\n",
        "  - The standard normal distribution is a special case of the normal distribution with:\n",
        "  - Mean : μ=0\n",
        "  - Standard deviation : σ=1"
      ],
      "metadata": {
        "id": "FpSfFnNXAln7"
      }
    },
    {
      "cell_type": "markdown",
      "source": [
        "13. What is the Central Limit Theorem (CLT), and why is it critical in statistics\n",
        "  - When independent random variables are added, their normalized sum tends toward a normal distribution, regardless of the original distribution, as the sample size becomes large.\n",
        "  - Enables Inference : \tAllows us to use normal distribution tools (Z-scores, confidence intervals, hypothesis testing) even when population distribution is unknown\n",
        "  - \tWorks even if the population is not normal, provided sample size is large (typically n≥30)\n",
        "  -"
      ],
      "metadata": {
        "id": "sTOtR4l4DjC-"
      }
    },
    {
      "cell_type": "markdown",
      "source": [
        "14. How does the Central Limit Theorem relate to the normal distribution\n",
        "  - The Central Limit Theorem (CLT) explains why the normal distribution appears so frequently in statistics, even when the data itself is not normally distributed.\n",
        "  - The CLT says that the sampling distribution of the sample mean becomes approximately normal as the sample size increases, regardless of the population’s distribution."
      ],
      "metadata": {
        "id": "3LwoLNa0Euyn"
      }
    },
    {
      "cell_type": "markdown",
      "source": [
        "15. What is the application of Z statistics in hypothesis testing\n",
        "- Z-statistics (or Z-tests) are used in hypothesis testing when you want to determine whether a sample mean, proportion, or difference is significantly different from a hypothesized population value, under the assumption that the sampling distribution is approximately normal."
      ],
      "metadata": {
        "id": "d9XnZB5IG_Bv"
      }
    },
    {
      "cell_type": "markdown",
      "source": [
        "16.  How do you calculate a Z-score, and what does it represent\n",
        "  - Z-score = x-μ/σ\n",
        "  - Z=0: The value is exactly at the mean\n",
        "  - Z>0: The value is above the mean\n",
        "  - Z<0: The value is below the mean\n",
        "  - ∣Z∣>2: The value is unusual/extreme (outside ~95% of data)\n"
      ],
      "metadata": {
        "id": "3X5UPDZLHRZQ"
      }
    },
    {
      "cell_type": "markdown",
      "source": [
        "17. What are point estimates and interval estimates in statistics\n",
        "  - Point estimates: A point estimate is a single value used to estimate a population parameter.\n",
        "  - iinterval estimates: An interval estimate provides a range of values within which the parameter is likely to lie, along with a confidence level."
      ],
      "metadata": {
        "id": "nhTl50QwIhlZ"
      }
    },
    {
      "cell_type": "markdown",
      "source": [
        "18. What is the significance of confidence intervals in statistical analysis\n",
        "  - A confidence interval (CI) provides a range of values that is likely to contain the true population parameter (such as mean or proportion) with a certain level of confidence (e.g., 95%)."
      ],
      "metadata": {
        "id": "BbHet8GCJMzv"
      }
    },
    {
      "cell_type": "markdown",
      "source": [
        "19. What is the relationship between a Z-score and a confidence interval\n",
        "  - A Z-score and a confidence interval (CI) are closely related in statistical inference, especially when estimating population parameters (like the mean or proportion) using normal distribution.\n",
        "  - A confidence interval is built using a Z-score (also called the critical value or Z α/2) from the standard normal distribution.\n",
        "  - The Z-score determines the width of the interval for a given confidence level"
      ],
      "metadata": {
        "id": "Zk8OG5_rKKdW"
      }
    },
    {
      "cell_type": "markdown",
      "source": [
        "20. How are Z-scores used to compare different distributions\n",
        "  - Z-scores allow you to standardize values from different distributions, making them directly comparable, even if the original distributions have different means and standard deviations."
      ],
      "metadata": {
        "id": "OlD5vRkVK1-S"
      }
    },
    {
      "cell_type": "markdown",
      "source": [
        "21. What are the assumptions for applying the Central Limit Theorem\n",
        "  - Random and independent sampling\n",
        "  - Sample size n≥30 (if non-normal)\n",
        "  - Finite mean and variance"
      ],
      "metadata": {
        "id": "mvi96OFtL96q"
      }
    },
    {
      "cell_type": "markdown",
      "source": [
        "22. What is the concept of expected value in a probability distribution\n",
        "  - The expected value (EV) — also called the mean of a probability distribution — is the long-run average value of a random variable over many trials or repetitions of an experiment."
      ],
      "metadata": {
        "id": "lnEnvR-IMvNB"
      }
    },
    {
      "cell_type": "markdown",
      "source": [
        "23.  How does a probability distribution relate to the expected outcome of a random variable\n",
        "  - A probability distribution describes all the possible values a random variable can take and the likelihood (probability) of each value. The expected outcome (or expected value) is the average value we would expect over many trials based on this distribution.\n",
        "  - The expected value is calculated directly from the probability distribution.\n",
        "It is the weighted average of all possible outcomes, where each outcome is weighted by its probability."
      ],
      "metadata": {
        "id": "4gvWjg6BNRCz"
      }
    }
  ]
}
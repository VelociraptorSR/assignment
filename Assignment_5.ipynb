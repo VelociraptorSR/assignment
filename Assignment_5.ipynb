{
  "nbformat": 4,
  "nbformat_minor": 0,
  "metadata": {
    "colab": {
      "provenance": []
    },
    "kernelspec": {
      "name": "python3",
      "display_name": "Python 3"
    },
    "language_info": {
      "name": "python"
    }
  },
  "cells": [
    {
      "cell_type": "markdown",
      "source": [
        "1. What is the difference between interpreted and compiled languages\n",
        "  - Compiled language:\n",
        "  - Translation: Entire source code is converted at once into machine code using a compiler.\n",
        "  - Execution: The resulting machine code (usually in the form of an executable file) runs directly on the hardware.\n",
        "  - Interpreted language:\n",
        "  - Translation: Code is read and executed line-by-line by an interpreter.\n",
        "  - Execution: The interpreter runs the source code directly, translating it on the fly."
      ],
      "metadata": {
        "id": "zfKg6U99Ir-w"
      }
    },
    {
      "cell_type": "markdown",
      "source": [
        "2. What is exception handling in Python\n",
        "  - Exception handling in Python is a way to gracefully handle errors that occur during the execution of a program, instead of letting the program crash."
      ],
      "metadata": {
        "id": "GtAERZxkI24n"
      }
    },
    {
      "cell_type": "markdown",
      "source": [
        "3. What is the purpose of the finally block in exception handling\n",
        "  - finally runs no matter what: whether an exception is raised or not.\n",
        "  - It's often used for resource management and cleanup tasks.\n",
        "  - If both try and finally contain return statements, the one in finally takes precedence — this can lead to unexpected behavior if not careful."
      ],
      "metadata": {
        "id": "VJYvIn0II7GP"
      }
    },
    {
      "cell_type": "markdown",
      "source": [
        "4. What is logging in Python\n",
        "  - Logging in Python is a way to track events that happen when your code runs. It helps you understand the program's flow, catch bugs, and monitor performance — especially useful in large or production-level applications."
      ],
      "metadata": {
        "id": "P6HcsCTHI_bA"
      }
    },
    {
      "cell_type": "markdown",
      "source": [
        "5. What is the significance of the __del__ method in Python\n",
        "  - The __del__ method in Python is a destructor — it is called automatically when an object is about to be destroyed (i.e., when its reference count drops to zero)."
      ],
      "metadata": {
        "id": "cPIBeqyvJDWR"
      }
    },
    {
      "cell_type": "markdown",
      "source": [
        "6. What is the difference between import and from ... import in Python\n",
        "  - import:\n",
        "  - Imports the entire module.\n",
        "  - You access functions/variables with the module name as a prefix.\n",
        "  - from...import:\n",
        "  - Imports specific functions, classes, or variables from a module.\n",
        "  - You can use them directly without prefix."
      ],
      "metadata": {
        "id": "lF_aYRcEJHTw"
      }
    },
    {
      "cell_type": "markdown",
      "source": [
        "7. How can you handle multiple exceptions in Python\n",
        "  - In Python, you can handle multiple exceptions in various ways depending on how specific you want to be and what kind of behavior you want for each error.\n",
        "  - Using Multiple except Blocks: You can catch different exceptions separately\n",
        "  - Catching Multiple Exceptions in One Block: If you want to handle multiple exceptions the same way, you can group them using a tuple\n",
        "  - Using Exception to Catch Any Error: You can use the base Exception class to catch all errors, but this is usually done last and carefully"
      ],
      "metadata": {
        "id": "g9E3IzriJLzJ"
      }
    },
    {
      "cell_type": "markdown",
      "source": [
        "8. What is the purpose of the with statement when handling files in Python\n",
        "  - The with statement in Python is used to simplify file handling by automatically taking care of opening and closing files, even if an error occurs."
      ],
      "metadata": {
        "id": "z0zxATiOJO4J"
      }
    },
    {
      "cell_type": "markdown",
      "source": [
        "9. What is the difference between multithreading and multiprocessing\n",
        "  - 1. Multithreading\n",
        "  - Runs multiple threads (lightweight processes) within the same process.\n",
        "  - Shares the same memory space.\n",
        "  - Ideal for I/O-bound tasks (e.g., file reading, API calls, network I/O).\n",
        "  -  2. Multiprocessing\n",
        "  - Runs multiple processes, each with its own memory space.\n",
        "  - True parallelism on multi-core CPUs.\n",
        "  - Best for CPU-bound tasks (e.g., image processing, large calculations)."
      ],
      "metadata": {
        "id": "BDoJ9FjzJSjE"
      }
    },
    {
      "cell_type": "markdown",
      "source": [
        "10. What are the advantages of using logging in a program\n",
        "  - Tracks Events: Records key events during program execution (e.g., function calls, errors).\n",
        "  - Debugging: Helps diagnose issues with timestamps and error details.\n",
        "  - Severity Levels: Categorizes messages (e.g., DEBUG, INFO, ERROR) for better prioritization.\n",
        "  - Flexible Output: Logs to console, files, or external systems.\n",
        "  - Filter & Disable: Easily disable or filter out unwanted logs.\n",
        "  - Better Than print(): Structured, persistent, and suitable for production.\n",
        "  - Long-Running Apps: Useful for monitoring and troubleshooting large systems."
      ],
      "metadata": {
        "id": "gqB78_mmJWl6"
      }
    },
    {
      "cell_type": "markdown",
      "source": [
        "11. What is memory management in Python\n",
        "  - Automatic Allocation: Python dynamically allocates memory for objects.\n",
        "  - Reference Counting: Objects have a reference count, and memory is freed when the count reaches zero.\n",
        "  - Garbage Collection: Cleans up unused objects, handling circular references.\n",
        "  - Memory Pooling: Optimizes small object allocation to reduce fragmentation.\n",
        "  - Memory Leaks: Can occur with circular references, though GC handles most cases.\n",
        "  - Manual Management: gc module and del allow control over memory cleanup."
      ],
      "metadata": {
        "id": "aZFIKBNyJbA7"
      }
    },
    {
      "cell_type": "markdown",
      "source": [
        "12. What are the basic steps involved in exception handling in Python\n",
        "  - try Block: Code that might raise an exception is placed inside the try block.\n",
        "  - except Block: Code that handles the exception is placed in the except block. You can specify the type of exception to catch.\n",
        "  - Optional else Block: Executes if no exception is raised in the try block.\n",
        "  - Optional finally Block: Executes no matter what, whether an exception is raised or not. Typically used for cleanup (e.g., closing files)."
      ],
      "metadata": {
        "id": "WjcTqIoTJeEL"
      }
    },
    {
      "cell_type": "markdown",
      "source": [
        "13. Why is memory management important in Python\n",
        "  - Optimizes resources\n",
        "  - Prevents memory leaks\n",
        "  - Improves performance and scalability\n",
        "  - Ensures stability and clean code"
      ],
      "metadata": {
        "id": "WsgUqqT6Jip7"
      }
    },
    {
      "cell_type": "markdown",
      "source": [
        "14. What is the role of try and except in exception handling\n",
        "  - try Block:\n",
        "  - Purpose: Contains code that might raise an exception.\n",
        "  - Role: It attempts to execute the code. If an exception occurs, the flow is transferred to the corresponding except block.\n",
        "  - except Block:\n",
        "  - Purpose: Catches and handles the exception raised in the try block.\n",
        "  - Role: If an exception occurs in the try block, the program jumps to the except block, where you can specify how to handle it."
      ],
      "metadata": {
        "id": "CNcafyy1Jl0j"
      }
    },
    {
      "cell_type": "markdown",
      "source": [
        "15.  How does Python's garbage collection system work\n",
        "  - Reference Counting: Keeps track of the number of references to an object and deletes it when the count reaches zero.\n",
        "  - Cycle Detection: Handles circular references using a garbage collector.\n",
        "  - Generational GC: Collects younger objects more frequently to optimize performance.\n",
        "  - Manual Control: Can be controlled using the gc module."
      ],
      "metadata": {
        "id": "r19el8NHKGWY"
      }
    },
    {
      "cell_type": "markdown",
      "source": [
        "16. What is the purpose of the else block in exception handling\n",
        "  - The else block is used to define code that should run only if no exceptions were raised in the try block."
      ],
      "metadata": {
        "id": "ilLkAsrPKKHn"
      }
    },
    {
      "cell_type": "markdown",
      "source": [
        "17. What are the common logging levels in Python\n",
        "  - DEBUG – Detailed diagnostic info.\n",
        "  - INFO – General program events.\n",
        "  - WARNING – Something unexpected, but not critical.\n",
        "  - ERROR – A serious issue; part of the program failed.\n",
        "  - CRITICAL – Very serious error; may stop the program."
      ],
      "metadata": {
        "id": "9kDX1YslKOHo"
      }
    },
    {
      "cell_type": "markdown",
      "source": [
        "18. What is the difference between os.fork() and multiprocessing in Python\n",
        "  - os.fork:\n",
        "  - \tWorks only on Unix/Linux\n",
        "  - \tLow-level, manual management\n",
        "  - \tJust forks; no built-in communication\n",
        "  -   Safety\tRisky: copies entire memory space\n",
        "  - multiprocessing:\n",
        "  -  Works on all platforms (Windows, Unix)\n",
        "  - High-level, easier to use\n",
        "  - Supports queues, pipes, pools, shared memory\n",
        "  - Safer with proper process management"
      ],
      "metadata": {
        "id": "4Y8cBz42KRYY"
      }
    },
    {
      "cell_type": "markdown",
      "source": [
        "19. What is the importance of closing a file in Python\n",
        "  - Frees system resources\n",
        "  - Prevents data loss (flushes buffer)\n",
        "  - Avoids file corruption\n",
        "  - Allows reopening or reuse"
      ],
      "metadata": {
        "id": "USHFbeGKKU2R"
      }
    },
    {
      "cell_type": "markdown",
      "source": [
        "20. What is the difference between file.read() and file.readline() in Python\n",
        "  - file.read(): \tReads entire file as one string\n",
        "  - file.readlines(): Reads one line at a time\n",
        "  "
      ],
      "metadata": {
        "id": "aOpGS-5bKYIJ"
      }
    },
    {
      "cell_type": "markdown",
      "source": [
        "21. What is the logging module in Python used for\n",
        "  -  Track events during program execution\n",
        "  - Debug and fix issues\n",
        "  - Record errors and exceptions\n",
        "  - Save logs to files or display them on screen\n",
        "  - Control log levels (DEBUG, INFO, WARNING, etc.)"
      ],
      "metadata": {
        "id": "4gy6ca2jKbwx"
      }
    },
    {
      "cell_type": "markdown",
      "source": [
        "22. What is the os module in Python used for in file handling\n",
        "  - Create/Delete files & folders\n",
        "  - Check if file/folder exists\n",
        "  - Rename files/folders\n",
        "  - List directory contents\n",
        "  - Get/Change current directory"
      ],
      "metadata": {
        "id": "TZYNlK9YKfLC"
      }
    },
    {
      "cell_type": "markdown",
      "source": [
        "23.  What are the challenges associated with memory management in Python\n",
        "  - Python’s memory management is automatic but can face issues like memory leaks, overhead, and fragmentation, especially in complex applications. Proper design and tools like gc can help mitigate these challenges."
      ],
      "metadata": {
        "id": "zXkNb_nVKiD6"
      }
    },
    {
      "cell_type": "markdown",
      "source": [
        "24. How do you raise an exception manually in Python\n",
        "  - To raise an exception manually in Python, use the raise keyword followed by the exception you want to raise."
      ],
      "metadata": {
        "id": "0d0P61kgKmcK"
      }
    },
    {
      "cell_type": "markdown",
      "source": [
        "25. Why is it important to use multithreading in certain applications\n",
        "  - Improves performance for I/O-bound tasks.\n",
        "  - Concurrency for multiple tasks in the same program.\n",
        "  - Better resource utilization on multi-core CPUs.\n",
        "  - Keeps applications responsive (e.g., in GUIs).\n",
        "  - Real-time systems meet time constraints.\n",
        "  - Simplifies complex tasks by breaking them into smaller parts."
      ],
      "metadata": {
        "id": "cYE39jy2Kp4C"
      }
    },
    {
      "cell_type": "markdown",
      "source": [
        "1. How can you open a file for writing in Python and write a string to it\n"
      ],
      "metadata": {
        "id": "AFqaPi9rlFBJ"
      }
    },
    {
      "cell_type": "code",
      "source": [
        "file = open('file.txt', 'w')\n",
        "file.write('a random string')\n",
        "file.close()"
      ],
      "metadata": {
        "id": "oXLJSOsyoICl"
      },
      "execution_count": null,
      "outputs": []
    },
    {
      "cell_type": "markdown",
      "source": [
        "2. Write a Python program to read the contents of a file and print each line"
      ],
      "metadata": {
        "id": "_Fj_bpfzoxVR"
      }
    },
    {
      "cell_type": "code",
      "source": [
        "with open('example.txt', 'r') as f:\n",
        "  for line in f:\n",
        "    print(line, end=' ')"
      ],
      "metadata": {
        "id": "xX-zRiJFo0MB"
      },
      "execution_count": null,
      "outputs": []
    },
    {
      "cell_type": "markdown",
      "source": [
        "3.  How would you handle a case where the file doesn't exist while trying to open it for reading"
      ],
      "metadata": {
        "id": "d1EdnX7npesN"
      }
    },
    {
      "cell_type": "code",
      "source": [
        "try:\n",
        "    with open('example.txt', 'r') as f:\n",
        "        for line in f:\n",
        "            print(line, end='')\n",
        "except FileNotFoundError:\n",
        "    print(\"Error: The file does not exist.\")"
      ],
      "metadata": {
        "id": "DxtORyvNph89"
      },
      "execution_count": null,
      "outputs": []
    },
    {
      "cell_type": "markdown",
      "source": [
        "4. Write a Python script that reads from one file and writes its content to another file"
      ],
      "metadata": {
        "id": "MNfdvjkisFVG"
      }
    },
    {
      "cell_type": "code",
      "source": [
        "def copy_file(source_path, destination_path):\n",
        "    with open(source_path, 'r') as source_file:\n",
        "        content = source_file.read()\n",
        "\n",
        "    with open(destination_path, 'w') as destination_file:\n",
        "        destination_file.write(content)\n",
        "\n",
        "copy_file('input.txt', 'output.txt')\n"
      ],
      "metadata": {
        "id": "oLAV_hqDna9p"
      },
      "execution_count": null,
      "outputs": []
    },
    {
      "cell_type": "markdown",
      "source": [
        "5. How would you catch and handle division by zero error in Python"
      ],
      "metadata": {
        "id": "9fHM8GQtozyy"
      }
    },
    {
      "cell_type": "code",
      "source": [
        "def divide(a,b):\n",
        "  try:\n",
        "    c = a/b\n",
        "    print(f\"result = {c}\")\n",
        "\n",
        "  except ZeroDivisionError:\n",
        "    print('denoinator is zero')\n",
        "\n",
        "divide(8,2)\n",
        "divide(8,0)"
      ],
      "metadata": {
        "colab": {
          "base_uri": "https://localhost:8080/"
        },
        "id": "jf-Abbw7o4dL",
        "outputId": "76280a58-aca1-46e4-8651-20ced6f18037"
      },
      "execution_count": 2,
      "outputs": [
        {
          "output_type": "stream",
          "name": "stdout",
          "text": [
            "result = 4.0\n",
            "denoinator is zero\n"
          ]
        }
      ]
    },
    {
      "cell_type": "markdown",
      "source": [
        "6. Write a Python program that logs an error message to a log file when a division by zero exception occurs"
      ],
      "metadata": {
        "id": "j5agq8BAqoa-"
      }
    },
    {
      "cell_type": "code",
      "source": [
        "import logging\n",
        "\n",
        "logging.basicConfig(\n",
        "    filename = 'error.log',\n",
        "    level = logging.ERROR,\n",
        "    formate = '%(asctime)s - %(levelname)s - %(message)s'\n",
        ")\n",
        "\n",
        "def divide(a, b):\n",
        "  try:\n",
        "    result = a/b\n",
        "    print(f'result = {result}')\n",
        "\n",
        "  except ZeroDivisionError:\n",
        "     logging.error(\"Attempted to divide by zero.\")\n",
        "     print(\"An error occurred. Check 'error.log' for details.\")\n",
        "\n",
        "divide(10, 2)\n",
        "divide(5, 0)\n",
        ""
      ],
      "metadata": {
        "colab": {
          "base_uri": "https://localhost:8080/"
        },
        "id": "Le2QUDglqtWf",
        "outputId": "97301cb3-5339-4caf-d0bd-4afb8c3498ff"
      },
      "execution_count": 8,
      "outputs": [
        {
          "output_type": "stream",
          "name": "stderr",
          "text": [
            "ERROR:root:Attempted to divide by zero.\n"
          ]
        },
        {
          "output_type": "stream",
          "name": "stdout",
          "text": [
            "result = 5.0\n",
            "An error occurred. Check 'error.log' for details.\n"
          ]
        }
      ]
    },
    {
      "cell_type": "markdown",
      "source": [
        "7. How do you log information at different levels (INFO, ERROR, WARNING) in Python using the logging module"
      ],
      "metadata": {
        "id": "OpDKi7SqyC9-"
      }
    },
    {
      "cell_type": "code",
      "source": [
        "import logging\n",
        "\n",
        "logging.basicConfig(\n",
        "    filename='app.log',\n",
        "    level=logging.DEBUG,\n",
        "    format='%(asctime)s - %(levelname)s - %(message)s'\n",
        ")\n",
        "\n",
        "logging.debug(\"This is a debug message (useful for diagnosing problems).\")\n",
        "logging.info(\"This is an info message (general information).\")\n",
        "logging.warning(\"This is a warning message (something unexpected happened).\")\n",
        "logging.error(\"This is an error message (an operation failed).\")\n",
        "logging.critical(\"This is a critical message (serious error, program may not continue).\")\n"
      ],
      "metadata": {
        "colab": {
          "base_uri": "https://localhost:8080/"
        },
        "id": "PLAKGP6ByHB_",
        "outputId": "3bd6c3bb-845e-40ec-ba65-101dc291cfc7"
      },
      "execution_count": 9,
      "outputs": [
        {
          "output_type": "stream",
          "name": "stderr",
          "text": [
            "WARNING:root:This is a warning message (something unexpected happened).\n",
            "ERROR:root:This is an error message (an operation failed).\n",
            "CRITICAL:root:This is a critical message (serious error, program may not continue).\n"
          ]
        }
      ]
    },
    {
      "cell_type": "markdown",
      "source": [
        "8. Write a program to handle a file opening error using exception handling"
      ],
      "metadata": {
        "id": "QdmQPatIyk1C"
      }
    },
    {
      "cell_type": "code",
      "source": [
        "def open_file(file_path):\n",
        "  try:\n",
        "    with open (file_path, \"r\") as f:\n",
        "      content = f.read()\n",
        "      print(content)\n",
        "      print('file is opend')\n",
        "  except FileNotFoundError:\n",
        "    print('file not found')\n",
        "\n",
        "open_file('sample.txt')"
      ],
      "metadata": {
        "id": "bfsEkreuyovT"
      },
      "execution_count": null,
      "outputs": []
    },
    {
      "cell_type": "markdown",
      "source": [
        "9. How can you read a file line by line and store its content in a list in Python"
      ],
      "metadata": {
        "id": "HRkNpfhPz_W7"
      }
    },
    {
      "cell_type": "code",
      "source": [
        "def read_file(file_path):\n",
        "    lines = []\n",
        "    with open(file_path, 'r') as file:\n",
        "        for line in file:\n",
        "            lines.append(line.strip())\n",
        "    return lines\n",
        "\n",
        "lines_list = read_file('example.txt')\n",
        "print(lines_list)\n"
      ],
      "metadata": {
        "id": "1abUPSbK0C8j"
      },
      "execution_count": null,
      "outputs": []
    },
    {
      "cell_type": "markdown",
      "source": [
        "10. How can you append data to an existing file in Python"
      ],
      "metadata": {
        "id": "c8_AoFK01DfK"
      }
    },
    {
      "cell_type": "code",
      "source": [
        "def data_apen(filoe_path,data):\n",
        "  with open(file_path, 'a') as f:\n",
        "    f.write(data + '\\n')\n",
        "\n",
        "data_apen('sample.txt','this line is append')"
      ],
      "metadata": {
        "id": "r-FsKJ3C1HAz"
      },
      "execution_count": null,
      "outputs": []
    },
    {
      "cell_type": "markdown",
      "source": [
        "11. Write a Python program that uses a try-except block to handle an error when attempting to access a\n",
        "dictionary key that doesn't exist"
      ],
      "metadata": {
        "id": "vlqCpMkV2Bmp"
      }
    },
    {
      "cell_type": "code",
      "source": [
        "def get_value(dict,key):\n",
        "  try:\n",
        "    value = dict[key]\n",
        "    print(f\"Value = {value}\")\n",
        "  except KeyError:\n",
        "    print('key not found')\n",
        "\n",
        "my_dict = {\n",
        "    'name' : 'saumya',\n",
        "    'age' : 21\n",
        "}\n",
        "get_value(my_dict,'name')\n",
        "get_value(my_dict,'email')"
      ],
      "metadata": {
        "colab": {
          "base_uri": "https://localhost:8080/"
        },
        "id": "r8YJR4tY2Kix",
        "outputId": "e3272447-069b-4da9-e436-799557413d09"
      },
      "execution_count": 10,
      "outputs": [
        {
          "output_type": "stream",
          "name": "stdout",
          "text": [
            "Value = saumya\n",
            "key not found\n"
          ]
        }
      ]
    },
    {
      "cell_type": "markdown",
      "source": [
        "12. Write a program that demonstrates using multiple except blocks to handle different types of exceptions"
      ],
      "metadata": {
        "id": "xh43V3La6ckl"
      }
    },
    {
      "cell_type": "code",
      "source": [
        "def perform_operations(a, b):\n",
        "    try:\n",
        "        result = a / b\n",
        "        print(f\"Division Result: {result}\")\n",
        "\n",
        "        print(f\"Value of undefined variable: {undefined_var}\")\n",
        "\n",
        "    except ZeroDivisionError:\n",
        "        print(\"Error: Cannot divide by zero.\")\n",
        "\n",
        "    except NameError:\n",
        "        print(\"Error: Tried to use a variable that hasn't been defined.\")\n",
        "\n",
        "    except Exception as e:\n",
        "        print(f\"An unexpected error occurred: {e}\")\n",
        "\n",
        "perform_operations(10, 2)\n",
        "perform_operations(5, 0)\n"
      ],
      "metadata": {
        "colab": {
          "base_uri": "https://localhost:8080/"
        },
        "id": "1htu8_IP6gJG",
        "outputId": "64c75f13-c602-4c50-ea23-8a900cb8a4d9"
      },
      "execution_count": 13,
      "outputs": [
        {
          "output_type": "stream",
          "name": "stdout",
          "text": [
            "Division Result: 5.0\n",
            "Error: Tried to use a variable that hasn't been defined.\n",
            "Error: Cannot divide by zero.\n"
          ]
        }
      ]
    },
    {
      "cell_type": "markdown",
      "source": [
        "13. How would you check if a file exists before attempting to read it in Python"
      ],
      "metadata": {
        "id": "Mo_uunsM7CHK"
      }
    },
    {
      "cell_type": "code",
      "source": [
        "import os\n",
        "\n",
        "file_path = 'example.txt'\n",
        "\n",
        "if os.path.exists(file_path):\n",
        "    with open(file_path, 'r') as file:\n",
        "        content = file.read()\n",
        "        print(\"File content:\")\n",
        "        print(content)\n",
        "else:\n",
        "    print(f\"Error: File '{file_path}' does not exist.\")\n"
      ],
      "metadata": {
        "colab": {
          "base_uri": "https://localhost:8080/"
        },
        "id": "7hDPxGhf7HXB",
        "outputId": "2e8482ea-85f2-4975-851a-bce19e2cc737"
      },
      "execution_count": 12,
      "outputs": [
        {
          "output_type": "stream",
          "name": "stdout",
          "text": [
            "Error: File 'example.txt' does not exist.\n"
          ]
        }
      ]
    },
    {
      "cell_type": "markdown",
      "source": [
        "14. Write a program that uses the logging module to log both informational and error messages"
      ],
      "metadata": {
        "id": "YtJ8T0RW7flE"
      }
    },
    {
      "cell_type": "code",
      "source": [
        "import logging\n",
        "\n",
        "logging.basicConfig(\n",
        "    filename='app.log',\n",
        "    level=logging.DEBUG,\n",
        "    format='%(asctime)s - %(levelname)s - %(message)s'\n",
        ")\n",
        "\n",
        "def divide(a, b):\n",
        "    logging.info(f\"Attempting to divide {a} by {b}\")\n",
        "    try:\n",
        "        result = a / b\n",
        "        logging.info(f\"Division successful: {result}\")\n",
        "        return result\n",
        "    except ZeroDivisionError:\n",
        "        logging.error(\"Error: Division by zero attempted.\")\n",
        "        return None\n",
        "\n",
        "divide(10, 2)\n",
        "divide(5, 0)\n"
      ],
      "metadata": {
        "colab": {
          "base_uri": "https://localhost:8080/"
        },
        "id": "Fi0s9Ggi7i60",
        "outputId": "89187319-b243-467a-ef34-94e9fd0226f7"
      },
      "execution_count": 19,
      "outputs": [
        {
          "output_type": "stream",
          "name": "stderr",
          "text": [
            "ERROR:root:Error: Division by zero attempted.\n"
          ]
        },
        {
          "output_type": "stream",
          "name": "stdout",
          "text": [
            "5.0\n",
            "None\n"
          ]
        }
      ]
    },
    {
      "cell_type": "markdown",
      "source": [
        "15. Write a Python program that prints the content of a file and handles the case when the file is empty"
      ],
      "metadata": {
        "id": "UDKra1MY-INe"
      }
    },
    {
      "cell_type": "code",
      "source": [
        "def print_file_content(file_path):\n",
        "    try:\n",
        "        with open(file_path, 'r') as file:\n",
        "            content = file.read()\n",
        "\n",
        "            if content.strip():\n",
        "                print(\"File content:\")\n",
        "                print(content)\n",
        "            else:\n",
        "                print(f\"The file '{file_path}' is empty.\")\n",
        "\n",
        "    except FileNotFoundError:\n",
        "        print(f\"Error: File '{file_path}' not found.\")\n",
        "    except IOError:\n",
        "        print(f\"Error: Could not read the file '{file_path}'.\")\n",
        "\n",
        "print_file_content('example.txt')\n"
      ],
      "metadata": {
        "id": "i-crS685-Lam"
      },
      "execution_count": null,
      "outputs": []
    },
    {
      "cell_type": "markdown",
      "source": [
        "16.  Demonstrate how to use memory profiling to check the memory usage of a small program"
      ],
      "metadata": {
        "id": "YG5wR-3gDQT4"
      }
    },
    {
      "cell_type": "code",
      "source": [
        "#pip install memory-profiler\n",
        "\n",
        "\n",
        "from memory_profiler import profile\n",
        "\n",
        "@profile\n",
        "def create_large_list():\n",
        "    data = [i for i in range(1000000)]  # 1 million integers\n",
        "    return sum(data)\n",
        "\n",
        "if __name__ == \"__main__\":\n",
        "    create_large_list()\n",
        "\n",
        "#python -m memory_profiler example.py\n",
        "#run this sript in cmd\n"
      ],
      "metadata": {
        "colab": {
          "base_uri": "https://localhost:8080/",
          "height": 106
        },
        "id": "gg6rJINpDTmX",
        "outputId": "c4473f7d-0b21-4b2f-e9f9-4de63efe5cbc"
      },
      "execution_count": 21,
      "outputs": [
        {
          "output_type": "error",
          "ename": "SyntaxError",
          "evalue": "invalid syntax (<ipython-input-21-855069c812f0>, line 1)",
          "traceback": [
            "\u001b[0;36m  File \u001b[0;32m\"<ipython-input-21-855069c812f0>\"\u001b[0;36m, line \u001b[0;32m1\u001b[0m\n\u001b[0;31m    pip install memory-profiler\u001b[0m\n\u001b[0m        ^\u001b[0m\n\u001b[0;31mSyntaxError\u001b[0m\u001b[0;31m:\u001b[0m invalid syntax\n"
          ]
        }
      ]
    },
    {
      "cell_type": "markdown",
      "source": [
        "17. Write a Python program to create and write a list of numbers to a file, one number per line"
      ],
      "metadata": {
        "id": "0c4GQpZsFo-W"
      }
    },
    {
      "cell_type": "code",
      "source": [
        "def write_numbers_to_file(file_path, numbers):\n",
        "    with open(file_path, 'w') as file:\n",
        "        for number in numbers:\n",
        "            file.write(f\"{number}\\n\")\n",
        "\n",
        "numbers_list = [1, 2, 3, 4, 5, 10, 20, 50]\n",
        "write_numbers_to_file('numbers.txt', numbers_list)\n"
      ],
      "metadata": {
        "id": "aINhmKpXFw0n"
      },
      "execution_count": null,
      "outputs": []
    },
    {
      "cell_type": "markdown",
      "source": [
        "18. How would you implement a basic logging setup that logs to a file with rotation after 1MB"
      ],
      "metadata": {
        "id": "tzYLvV4ZHMQA"
      }
    },
    {
      "cell_type": "code",
      "source": [
        "import logging\n",
        "from logging.handlers import RotatingFileHandler\n",
        "\n",
        "\n",
        "logger = logging.getLogger('my_logger')\n",
        "logger.setLevel(logging.INFO)\n",
        "\n",
        "\n",
        "handler = RotatingFileHandler('app.log', maxBytes=1e6, backupCount=3)\n",
        "handler.setLevel(logging.INFO)\n",
        "\n",
        "\n",
        "formatter = logging.Formatter('%(asctime)s - %(levelname)s - %(message)s')\n",
        "handler.setFormatter(formatter)\n",
        "\n",
        "\n",
        "logger.addHandler(handler)\n",
        "\n",
        "\n",
        "logger.info(\"This is an informational message.\")\n",
        "logger.error(\"This is an error message.\")\n",
        "logger.warning(\"This is a warning message.\")\n"
      ],
      "metadata": {
        "id": "3iW6fw6LHwvT"
      },
      "execution_count": null,
      "outputs": []
    },
    {
      "cell_type": "markdown",
      "source": [
        "19. Write a program that handles both IndexError and KeyError using a try-except block"
      ],
      "metadata": {
        "id": "uE0ShsU0H6QM"
      }
    },
    {
      "cell_type": "code",
      "source": [
        "def handle_errors():\n",
        "    my_list = [1, 2, 3, 4]\n",
        "    my_dict = {'a': 10, 'b': 20}\n",
        "\n",
        "    try:\n",
        "\n",
        "        print(\"Accessing list index 5:\")\n",
        "        print(my_list[5])\n",
        "\n",
        "\n",
        "        print(\"Accessing dictionary key 'c':\")\n",
        "        print(my_dict['c'])\n",
        "\n",
        "    except IndexError:\n",
        "        print(\"Error: List index out of range.\")\n",
        "\n",
        "    except KeyError:\n",
        "        print(\"Error: Key does not exist in the dictionary.\")\n",
        "\n",
        "handle_errors()\n"
      ],
      "metadata": {
        "colab": {
          "base_uri": "https://localhost:8080/"
        },
        "id": "FGmS5WNpIAPt",
        "outputId": "348a75e8-1031-4bb2-d09f-a668bbd36c0c"
      },
      "execution_count": 24,
      "outputs": [
        {
          "output_type": "stream",
          "name": "stdout",
          "text": [
            "Accessing list index 5:\n",
            "Error: List index out of range.\n"
          ]
        }
      ]
    },
    {
      "cell_type": "markdown",
      "source": [
        "20. How would you open a file and read its contents using a context manager in Python"
      ],
      "metadata": {
        "id": "Lpiw-TEzIYMI"
      }
    },
    {
      "cell_type": "code",
      "source": [
        "def read_file(file_path):\n",
        "    with open(file_path, 'r') as file:\n",
        "        content = file.read()\n",
        "    return content\n",
        "\n",
        "file_content = read_file('example.txt')\n",
        "print(file_content)\n"
      ],
      "metadata": {
        "colab": {
          "base_uri": "https://localhost:8080/",
          "height": 315
        },
        "id": "QY6U7ZAuIb4R",
        "outputId": "c7c9a843-1a03-4291-a67d-ca26b955d82c"
      },
      "execution_count": 23,
      "outputs": [
        {
          "output_type": "error",
          "ename": "FileNotFoundError",
          "evalue": "[Errno 2] No such file or directory: 'example.txt'",
          "traceback": [
            "\u001b[0;31m---------------------------------------------------------------------------\u001b[0m",
            "\u001b[0;31mFileNotFoundError\u001b[0m                         Traceback (most recent call last)",
            "\u001b[0;32m<ipython-input-23-c3d71e6d044b>\u001b[0m in \u001b[0;36m<cell line: 0>\u001b[0;34m()\u001b[0m\n\u001b[1;32m      4\u001b[0m     \u001b[0;32mreturn\u001b[0m \u001b[0mcontent\u001b[0m\u001b[0;34m\u001b[0m\u001b[0;34m\u001b[0m\u001b[0m\n\u001b[1;32m      5\u001b[0m \u001b[0;34m\u001b[0m\u001b[0m\n\u001b[0;32m----> 6\u001b[0;31m \u001b[0mfile_content\u001b[0m \u001b[0;34m=\u001b[0m \u001b[0mread_file\u001b[0m\u001b[0;34m(\u001b[0m\u001b[0;34m'example.txt'\u001b[0m\u001b[0;34m)\u001b[0m\u001b[0;34m\u001b[0m\u001b[0;34m\u001b[0m\u001b[0m\n\u001b[0m\u001b[1;32m      7\u001b[0m \u001b[0mprint\u001b[0m\u001b[0;34m(\u001b[0m\u001b[0mfile_content\u001b[0m\u001b[0;34m)\u001b[0m\u001b[0;34m\u001b[0m\u001b[0;34m\u001b[0m\u001b[0m\n",
            "\u001b[0;32m<ipython-input-23-c3d71e6d044b>\u001b[0m in \u001b[0;36mread_file\u001b[0;34m(file_path)\u001b[0m\n\u001b[1;32m      1\u001b[0m \u001b[0;32mdef\u001b[0m \u001b[0mread_file\u001b[0m\u001b[0;34m(\u001b[0m\u001b[0mfile_path\u001b[0m\u001b[0;34m)\u001b[0m\u001b[0;34m:\u001b[0m\u001b[0;34m\u001b[0m\u001b[0;34m\u001b[0m\u001b[0m\n\u001b[0;32m----> 2\u001b[0;31m     \u001b[0;32mwith\u001b[0m \u001b[0mopen\u001b[0m\u001b[0;34m(\u001b[0m\u001b[0mfile_path\u001b[0m\u001b[0;34m,\u001b[0m \u001b[0;34m'r'\u001b[0m\u001b[0;34m)\u001b[0m \u001b[0;32mas\u001b[0m \u001b[0mfile\u001b[0m\u001b[0;34m:\u001b[0m\u001b[0;34m\u001b[0m\u001b[0;34m\u001b[0m\u001b[0m\n\u001b[0m\u001b[1;32m      3\u001b[0m         \u001b[0mcontent\u001b[0m \u001b[0;34m=\u001b[0m \u001b[0mfile\u001b[0m\u001b[0;34m.\u001b[0m\u001b[0mread\u001b[0m\u001b[0;34m(\u001b[0m\u001b[0;34m)\u001b[0m\u001b[0;34m\u001b[0m\u001b[0;34m\u001b[0m\u001b[0m\n\u001b[1;32m      4\u001b[0m     \u001b[0;32mreturn\u001b[0m \u001b[0mcontent\u001b[0m\u001b[0;34m\u001b[0m\u001b[0;34m\u001b[0m\u001b[0m\n\u001b[1;32m      5\u001b[0m \u001b[0;34m\u001b[0m\u001b[0m\n",
            "\u001b[0;31mFileNotFoundError\u001b[0m: [Errno 2] No such file or directory: 'example.txt'"
          ]
        }
      ]
    },
    {
      "cell_type": "markdown",
      "source": [
        "21.  Write a Python program that reads a file and prints the number of occurrences of a specific word"
      ],
      "metadata": {
        "id": "V0XbFaFOItQa"
      }
    },
    {
      "cell_type": "code",
      "source": [
        "def count_word_in_file(file_path, word):\n",
        "    try:\n",
        "        with open(file_path, 'r') as file:\n",
        "            content = file.read()\n",
        "            word_count = content.lower().split().count(word.lower())\n",
        "        return word_count\n",
        "    except FileNotFoundError:\n",
        "        print(f\"Error: The file '{file_path}' does not exist.\")\n",
        "        return 0\n",
        "\n",
        "file_path = 'example.txt'\n",
        "word_to_count = 'python'\n",
        "occurrences = count_word_in_file(file_path, word_to_count)\n",
        "print(f\"The word '{word_to_count}' appears {occurrences} times in the file.\")\n"
      ],
      "metadata": {
        "id": "3i6OQRUAIxBa"
      },
      "execution_count": null,
      "outputs": []
    },
    {
      "cell_type": "markdown",
      "source": [
        "22. How can you check if a file is empty before attempting to read its contents"
      ],
      "metadata": {
        "id": "B-vckgigJuzh"
      }
    },
    {
      "cell_type": "code",
      "source": [
        "import os\n",
        "\n",
        "file_path = 'example.txt'\n",
        "\n",
        "if os.path.getsize(file_path) == 0:\n",
        "    print(\"The file is empty.\")\n",
        "else:\n",
        "    with open(file_path, 'r') as file:\n",
        "        content = file.read()\n",
        "        print(\"File content:\\n\", content)\n"
      ],
      "metadata": {
        "id": "mX0hyeJ4SNnd"
      },
      "execution_count": null,
      "outputs": []
    },
    {
      "cell_type": "markdown",
      "source": [
        "23.  Write a Python program that writes to a log file when an error occurs during file handling"
      ],
      "metadata": {
        "id": "_gGAUQJKSntU"
      }
    },
    {
      "cell_type": "code",
      "source": [
        "import logging\n",
        "\n",
        "logging.basicConfig(\n",
        "    filename='file_errors.log',\n",
        "    level=logging.ERROR,\n",
        "    format='%(asctime)s - %(levelname)s - %(message)s'\n",
        ")\n",
        "\n",
        "def read_file(file_path):\n",
        "    try:\n",
        "        with open(file_path, 'r') as file:\n",
        "            content = file.read()\n",
        "            print(\"File content:\\n\", content)\n",
        "    except FileNotFoundError as e:\n",
        "        logging.error(f\"File not found: {file_path}\")\n",
        "        print(\"Error: The file does not exist.\")\n",
        "    except IOError as e:\n",
        "        logging.error(f\"I/O error while accessing file: {file_path} - {e}\")\n",
        "        print(\"Error: An I/O error occurred.\")\n",
        "\n",
        "\n",
        "read_file('nonexistent_file.txt')\n"
      ],
      "metadata": {
        "colab": {
          "base_uri": "https://localhost:8080/"
        },
        "id": "-vYBfFkVSsC9",
        "outputId": "b97b8d35-eff9-4a93-f4e4-9581e8f82c4e"
      },
      "execution_count": 25,
      "outputs": [
        {
          "output_type": "stream",
          "name": "stderr",
          "text": [
            "ERROR:root:File not found: nonexistent_file.txt\n"
          ]
        },
        {
          "output_type": "stream",
          "name": "stdout",
          "text": [
            "Error: The file does not exist.\n"
          ]
        }
      ]
    }
  ]
}